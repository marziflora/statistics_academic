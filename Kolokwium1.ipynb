{
 "cells": [
  {
   "cell_type": "code",
   "execution_count": 1,
   "metadata": {},
   "outputs": [
    {
     "name": "stderr",
     "output_type": "stream",
     "text": [
      "Warning message in file(file, \"rt\"):\n",
      "\"nie można otworzyć pliku 'komp.txt.txt': No such file or directory\""
     ]
    },
    {
     "ename": "ERROR",
     "evalue": "Error in file(file, \"rt\"): nie można otworzyć połączenia\n",
     "output_type": "error",
     "traceback": [
      "Error in file(file, \"rt\"): nie można otworzyć połączenia\nTraceback:\n",
      "1. read.table(\"komp.txt.txt\")",
      "2. file(file, \"rt\")"
     ]
    }
   ],
   "source": [
    "df = read.table(\"komp.txt.txt\")\n",
    "\n",
    "JK <- function(N, proba){\n",
    "  mean_value_JK <- numeric(N)\n",
    "  for (i in 1:N){\n",
    "    x = proba[-i]\n",
    "    mean_value_JK[i] = mean(x) }\n",
    "    se = sqrt((N-1)/N * sum((mean_value_JK-mean(mean_value_JK))^2)) #JK błąð\n",
    "    bias = abs((N-1) * (mean(mean_value_JK)-mean(proba))) #JK obciążenie estymatora\n",
    "    mean = mean(mean_value_JK)\n",
    "  return (list(mean=mean, jack.se=se, jack.bias=bias)) }\n",
    "\n",
    "BT <- function(N, proba){\n",
    "  mean_value_BT <- numeric(N)\n",
    "  n <- length(proba)\n",
    "  for (i in 1:N) {\n",
    "    x = sample(proba, n, replace = TRUE)\n",
    "    mean_value_BT[i] = mean(x) }\n",
    "    mean = mean(mean_value_BT)\n",
    "    boot.se = sqrt(1/(N-1) * sum((mean_value_BT-mean(mean_value_BT))^2))/sqrt(length(mean_value_BT)) #błąd Bootstrapa\n",
    "    boot.bias = abs(mean(mean_value_BT)-mean(proba)) #Obciążenie \n",
    "  return (list(mean=mean, boot.se=se, boot.bias=boot.bias)) }"
   ]
  },
  {
   "cell_type": "code",
   "execution_count": null,
   "metadata": {},
   "outputs": [],
   "source": [
    "#1.\n",
    "x1 = subset(df, V1==\"wyzsze\")$V2\n",
    "x2 = subset(df, V1==\"zawodowe\")$V2\n",
    "x3 = subset(df, V1==\"srednie\")$V2\n",
    "\n",
    "BT_value = BT(1000, x1)\n",
    "JK_value = JK(1000, x1)\n",
    "\n",
    "BT_value = BT(1000, x2)\n",
    "JK_value = JK(1000, x2)\n",
    "\n",
    "BT_value = BT(1000, x3)\n",
    "JK_value = JK(1000, x3)\n",
    "\n",
    "BT_value = BT(1000, x)\n",
    "JK_value = JK(1000, x)\n",
    "#Obciążenie estymatora metodą Jacknife jest mniejsze, ale za to błąd standardowy estymatora Bootstrap jest mniejszy\n",
    "\n",
    "#2."
   ]
  }
 ],
 "metadata": {
  "kernelspec": {
   "display_name": "R",
   "language": "R",
   "name": "ir"
  },
  "language_info": {
   "codemirror_mode": "r",
   "file_extension": ".r",
   "mimetype": "text/x-r-source",
   "name": "R",
   "pygments_lexer": "r",
   "version": "3.6.1"
  },
  "toc": {
   "base_numbering": 1,
   "nav_menu": {},
   "number_sections": true,
   "sideBar": true,
   "skip_h1_title": false,
   "title_cell": "Table of Contents",
   "title_sidebar": "Contents",
   "toc_cell": false,
   "toc_position": {},
   "toc_section_display": true,
   "toc_window_display": false
  },
  "varInspector": {
   "cols": {
    "lenName": 16,
    "lenType": 16,
    "lenVar": 40
   },
   "kernels_config": {
    "python": {
     "delete_cmd_postfix": "",
     "delete_cmd_prefix": "del ",
     "library": "var_list.py",
     "varRefreshCmd": "print(var_dic_list())"
    },
    "r": {
     "delete_cmd_postfix": ") ",
     "delete_cmd_prefix": "rm(",
     "library": "var_list.r",
     "varRefreshCmd": "cat(var_dic_list()) "
    }
   },
   "types_to_exclude": [
    "module",
    "function",
    "builtin_function_or_method",
    "instance",
    "_Feature"
   ],
   "window_display": false
  }
 },
 "nbformat": 4,
 "nbformat_minor": 2
}
