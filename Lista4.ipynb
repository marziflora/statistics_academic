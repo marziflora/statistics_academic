{
 "cells": [
  {
   "cell_type": "code",
   "execution_count": 18,
   "metadata": {},
   "outputs": [
    {
     "data": {
      "text/html": [
       "77"
      ],
      "text/latex": [
       "77"
      ],
      "text/markdown": [
       "77"
      ],
      "text/plain": [
       "[1] 77"
      ]
     },
     "metadata": {},
     "output_type": "display_data"
    }
   ],
   "source": [
    "H =        c(1, 0,  0, 1, 1,  0,1, 0, 1,  0, 1) \n",
    "wektor <- c(11,14, 8,13, 19, 4,7,14,16, 17, 11)\n",
    "11+13+19+7+16+11"
   ]
  },
  {
   "cell_type": "code",
   "execution_count": 20,
   "metadata": {},
   "outputs": [
    {
     "data": {
      "text/html": [
       "0.72"
      ],
      "text/latex": [
       "0.72"
      ],
      "text/markdown": [
       "0.72"
      ],
      "text/plain": [
       "[1] 0.72"
      ]
     },
     "metadata": {},
     "output_type": "display_data"
    }
   ],
   "source": [
    "c = 0.64\n",
    "if (c <= 0.5) p.val = 2*c\n",
    "if (c > 0.5) p.val = 2-2*c\n",
    "p.val"
   ]
  },
  {
   "cell_type": "code",
   "execution_count": 21,
   "metadata": {},
   "outputs": [
    {
     "data": {
      "text/html": [
       "40"
      ],
      "text/latex": [
       "40"
      ],
      "text/markdown": [
       "40"
      ],
      "text/plain": [
       "[1] 40"
      ]
     },
     "metadata": {},
     "output_type": "display_data"
    }
   ],
   "source": [
    "#Aly:\n",
    "X = c(75, 84, 82, 80, 81)\n",
    "Y = c(92, 93, 87, 87)\n",
    "\n",
    "diff=function(samp){\n",
    "s=sort(samp)\n",
    "l=length(samp)\n",
    "d=1:(l-1)\n",
    "for(k in 2:l){\n",
    "d[k-1]=s[k]-s[k-1]}\n",
    "return(d)}\n",
    "\n",
    "aly=function(samp){\n",
    "stat=0\n",
    "l=length(samp)\n",
    "for(k in 1:l)\n",
    "stat=stat+k*(l+1-k)*samp[k]\n",
    "return(stat)}\n",
    "\n",
    "amp = diff(X)\n",
    "aly(amp)"
   ]
  },
  {
   "cell_type": "code",
   "execution_count": 29,
   "metadata": {},
   "outputs": [
    {
     "data": {
      "text/html": [
       "210"
      ],
      "text/latex": [
       "210"
      ],
      "text/markdown": [
       "210"
      ],
      "text/plain": [
       "[1] 210"
      ]
     },
     "metadata": {},
     "output_type": "display_data"
    },
    {
     "data": {
      "text/html": [
       "210"
      ],
      "text/latex": [
       "210"
      ],
      "text/markdown": [
       "210"
      ],
      "text/plain": [
       "[1] 210"
      ]
     },
     "metadata": {},
     "output_type": "display_data"
    }
   ],
   "source": [
    "N<-choose(4+6,6) \n",
    "N\n",
    "N<-choose(4+6,4) \n",
    "N"
   ]
  },
  {
   "cell_type": "code",
   "execution_count": null,
   "metadata": {},
   "outputs": [],
   "source": []
  },
  {
   "cell_type": "code",
   "execution_count": null,
   "metadata": {},
   "outputs": [],
   "source": []
  },
  {
   "cell_type": "code",
   "execution_count": 24,
   "metadata": {},
   "outputs": [
    {
     "data": {
      "text/html": [
       "-0.000622073036014044"
      ],
      "text/latex": [
       "-0.000622073036014044"
      ],
      "text/markdown": [
       "-0.000622073036014044"
      ],
      "text/plain": [
       "[1] -0.000622073"
      ]
     },
     "metadata": {},
     "output_type": "display_data"
    },
    {
     "data": {
      "text/html": [
       "<dl class=dl-horizontal>\n",
       "\t<dt>2.5%</dt>\n",
       "\t\t<dd>-0.139236644485188</dd>\n",
       "\t<dt>97.5%</dt>\n",
       "\t\t<dd>0.138145432946103</dd>\n",
       "</dl>\n"
      ],
      "text/latex": [
       "\\begin{description*}\n",
       "\\item[2.5\\textbackslash{}\\%] -0.139236644485188\n",
       "\\item[97.5\\textbackslash{}\\%] 0.138145432946103\n",
       "\\end{description*}\n"
      ],
      "text/markdown": [
       "2.5%\n",
       ":   -0.13923664448518897.5%\n",
       ":   0.138145432946103\n",
       "\n"
      ],
      "text/plain": [
       "      2.5%      97.5% \n",
       "-0.1392366  0.1381454 "
      ]
     },
     "metadata": {},
     "output_type": "display_data"
    }
   ],
   "source": [
    "library(\"mvtnorm\")\n",
    "my_sample = rmvnorm(n=100, mean=c(0,0), sigma=diag(2))\n",
    "bootstrap <- function(N, my_sample){\n",
    "  n <- length(my_sample)\n",
    "  coeff <- numeric(N)\n",
    "  for (i in 1:N) {\n",
    "    x = sample(my_sample[,1], n, replace = TRUE) #bootstrap parametryczny\n",
    "    y = sample(my_sample[,2], n, replace = TRUE)\n",
    "    coeff[i] = cor(x,y) }\n",
    "  return (coeff)\n",
    "}\n",
    "cor_sequence = bootstrap(1000,my_sample)\n",
    "coeff_mean = mean(cor_sequence) #średnia ze współczynników korelacji z losowanych danych\n",
    "coeff_mean #0.001523495\n",
    "\n",
    "quantile(cor_sequence, c(0.025,0.975))"
   ]
  },
  {
   "cell_type": "markdown",
   "metadata": {},
   "source": [
    "# Zad 1"
   ]
  },
  {
   "cell_type": "code",
   "execution_count": 21,
   "metadata": {},
   "outputs": [],
   "source": [
    "library(datasets)\n",
    "data(iris)\n",
    "library(boot)"
   ]
  },
  {
   "cell_type": "code",
   "execution_count": 18,
   "metadata": {
    "collapsed": true
   },
   "outputs": [
    {
     "data": {
      "text/html": [
       "<table>\n",
       "<thead><tr><th scope=col>Sepal.Length</th><th scope=col>Sepal.Width</th><th scope=col>Petal.Length</th><th scope=col>Petal.Width</th><th scope=col>Species</th></tr></thead>\n",
       "<tbody>\n",
       "\t<tr><td>5.1   </td><td>3.5   </td><td>1.4   </td><td>0.2   </td><td>setosa</td></tr>\n",
       "\t<tr><td>4.9   </td><td>3.0   </td><td>1.4   </td><td>0.2   </td><td>setosa</td></tr>\n",
       "\t<tr><td>4.7   </td><td>3.2   </td><td>1.3   </td><td>0.2   </td><td>setosa</td></tr>\n",
       "\t<tr><td>4.6   </td><td>3.1   </td><td>1.5   </td><td>0.2   </td><td>setosa</td></tr>\n",
       "\t<tr><td>5.0   </td><td>3.6   </td><td>1.4   </td><td>0.2   </td><td>setosa</td></tr>\n",
       "\t<tr><td>5.4   </td><td>3.9   </td><td>1.7   </td><td>0.4   </td><td>setosa</td></tr>\n",
       "</tbody>\n",
       "</table>\n"
      ],
      "text/latex": [
       "\\begin{tabular}{r|lllll}\n",
       " Sepal.Length & Sepal.Width & Petal.Length & Petal.Width & Species\\\\\n",
       "\\hline\n",
       "\t 5.1    & 3.5    & 1.4    & 0.2    & setosa\\\\\n",
       "\t 4.9    & 3.0    & 1.4    & 0.2    & setosa\\\\\n",
       "\t 4.7    & 3.2    & 1.3    & 0.2    & setosa\\\\\n",
       "\t 4.6    & 3.1    & 1.5    & 0.2    & setosa\\\\\n",
       "\t 5.0    & 3.6    & 1.4    & 0.2    & setosa\\\\\n",
       "\t 5.4    & 3.9    & 1.7    & 0.4    & setosa\\\\\n",
       "\\end{tabular}\n"
      ],
      "text/markdown": [
       "\n",
       "| Sepal.Length | Sepal.Width | Petal.Length | Petal.Width | Species |\n",
       "|---|---|---|---|---|\n",
       "| 5.1    | 3.5    | 1.4    | 0.2    | setosa |\n",
       "| 4.9    | 3.0    | 1.4    | 0.2    | setosa |\n",
       "| 4.7    | 3.2    | 1.3    | 0.2    | setosa |\n",
       "| 4.6    | 3.1    | 1.5    | 0.2    | setosa |\n",
       "| 5.0    | 3.6    | 1.4    | 0.2    | setosa |\n",
       "| 5.4    | 3.9    | 1.7    | 0.4    | setosa |\n",
       "\n"
      ],
      "text/plain": [
       "  Sepal.Length Sepal.Width Petal.Length Petal.Width Species\n",
       "1 5.1          3.5         1.4          0.2         setosa \n",
       "2 4.9          3.0         1.4          0.2         setosa \n",
       "3 4.7          3.2         1.3          0.2         setosa \n",
       "4 4.6          3.1         1.5          0.2         setosa \n",
       "5 5.0          3.6         1.4          0.2         setosa \n",
       "6 5.4          3.9         1.7          0.4         setosa "
      ]
     },
     "metadata": {},
     "output_type": "display_data"
    }
   ],
   "source": [
    "head(iris)"
   ]
  },
  {
   "cell_type": "code",
   "execution_count": 41,
   "metadata": {},
   "outputs": [
    {
     "name": "stdout",
     "output_type": "stream",
     "text": [
      "\n",
      "--------- setosa ----- \n",
      "Oszacowanie średniej:  5.00598  \n",
      "Oszacowanie mediany:  5.0045  \n",
      "\n",
      "--------- versicolor ----- \n",
      "Oszacowanie średniej:  5.933677  \n",
      "Oszacowanie mediany:  5.8915  \n",
      "\n",
      "--------- virginica ----- \n",
      "Oszacowanie średniej:  6.583147  \n",
      "Oszacowanie mediany:  6.47625  \n"
     ]
    }
   ],
   "source": [
    "#1a) Dla ka»dego rodzaju (zmienna Species) osobno w oparciu o 200 prób bootstrapowych oszacuj ±redni¡ i median¦ daugo±ci paatka (zmienna Petal.Length).\n",
    "column = iris$Petal.Length\n",
    "n <- length(column)\n",
    "N <- 200 #ile prób bootstrapowych\n",
    "stat_srednia <- numeric(N) #średnia\n",
    "stat_mediana <- numeric(N) #mediana\n",
    "x <- numeric(n)\n",
    "\n",
    "for (species in unique(iris$Species)) {\n",
    "  subset = iris[iris$Species == species,]$Sepal.Length\n",
    "    for (i in 1:N) {\n",
    "      x = sample(subset, n, replace = TRUE)\n",
    "      stat_srednia[i] = mean(x)\n",
    "      stat_mediana[i] = median(x)}\n",
    "            cat(\"\\n---------\", species, \"----- \\n\")\n",
    "            cat(\"Oszacowanie średniej: \",mean(stat_srednia), \" \\n\")\n",
    "#             cat(\"Prawdziwa średnia: \", mean(subset), \"\\n\")\n",
    "            cat(\"Oszacowanie mediany: \", mean(stat_mediana), \" \\n\")}\n",
    "#             cat(\"Prawdziwa mediana: \", median(subset), \"\\n\") }"
   ]
  },
  {
   "cell_type": "code",
   "execution_count": 23,
   "metadata": {},
   "outputs": [
    {
     "name": "stdout",
     "output_type": "stream",
     "text": [
      "[1] \"setosa\"\n",
      "[1] \"----MEAN---\"\n"
     ]
    },
    {
     "ename": "ERROR",
     "evalue": "Error in boott(subset, mean, v.nboott = 200, VS = TRUE, perc = c(0.1, : nie udało się znaleźć funkcji 'boott'\n",
     "output_type": "error",
     "traceback": [
      "Error in boott(subset, mean, v.nboott = 200, VS = TRUE, perc = c(0.1, : nie udało się znaleźć funkcji 'boott'\nTraceback:\n",
      "1. print(boott(subset, mean, v.nboott = 200, VS = TRUE, perc = c(0.1, \n .     0.9))$confpoints)"
     ]
    }
   ],
   "source": [
    "#1b)Wyznacz przedziały ufności boostrapowe\n",
    "for (species in unique(iris$Species)) {\n",
    "    print(species)\n",
    "    subset = iris[iris$Species == species,]$Sepal.Length\n",
    "    print(\"----MEAN---\") \n",
    "    print(boott(subset, mean, v.nboott=200, VS=TRUE, perc=c (.10 ,.90))$confpoints) \n",
    "    print(\"---MEDIAN---\")  \n",
    "    print(boott(subset, median, v.nboott=200, VS=TRUE, perc=c (.10 ,.90))$confpoints)\n",
    "    print(\"------------------------------\") }\n",
    "#On tutaj liczył quantile(medianaboot, probs=c(0.025, 0.975))"
   ]
  },
  {
   "cell_type": "code",
   "execution_count": 20,
   "metadata": {},
   "outputs": [
    {
     "name": "stdout",
     "output_type": "stream",
     "text": [
      "\n",
      "--------- setosa ----- \n",
      "Oszacowanie średniej:  5.006844  \n",
      "Oszacowanie mediany:  5.0129  \n",
      "--------Przedziały ufności------ \n",
      "[1] \"----MEAN---\"\n"
     ]
    },
    {
     "ename": "ERROR",
     "evalue": "Error in boott(subset, mean, v.nboott = N, VS = TRUE, perc = c(0.1, 0.9)): nie udało się znaleźć funkcji 'boott'\n",
     "output_type": "error",
     "traceback": [
      "Error in boott(subset, mean, v.nboott = N, VS = TRUE, perc = c(0.1, 0.9)): nie udało się znaleźć funkcji 'boott'\nTraceback:\n",
      "1. zad1c(3000)",
      "2. print(boott(subset, mean, v.nboott = N, VS = TRUE, perc = c(0.1, \n .     0.9))$confpoints)   # at line 20 of file <text>"
     ]
    }
   ],
   "source": [
    "zad1c <- function(N){\n",
    "    stat_srednia <- numeric(N) #średnia\n",
    "    stat_mediana <- numeric(N) #mediana\n",
    "\n",
    "    for (species in unique(iris$Species)) {\n",
    "      subset = iris[iris$Species == species,]$Sepal.Length\n",
    "        n <- length(subset)\n",
    "        x <- numeric(n)\n",
    "        for (i in 1:N) {\n",
    "          x = sample(subset, n, replace = TRUE)\n",
    "          stat_srednia[i] = mean(x)\n",
    "          stat_mediana[i] = median(x)}\n",
    "                cat(\"\\n---------\", species, \"----- \\n\")\n",
    "                cat(\"Oszacowanie średniej: \",mean(stat_srednia), \" \\n\")\n",
    "#                 cat(\"Prawdziwa średnia: \", mean(subset), \"\\n\")\n",
    "                cat(\"Oszacowanie mediany: \", mean(stat_mediana), \" \\n\")\n",
    "#                 cat(\"Prawdziwa mediana: \", median(subset), \"\\n\") \n",
    "                cat(\"--------Przedziały ufności------\", \"\\n\")\n",
    "                print(\"----MEAN---\") \n",
    "                print(boott(subset, mean, v.nboott=N, VS=TRUE, perc=c (.10 ,.90))$confpoints) \n",
    "                print(\"---MEDIAN---\")  \n",
    "                print(boott(subset, median, v.nboott=N, VS=TRUE, perc=c (.10 ,.90))$confpoints)\n",
    "                print(\"------------------------------\")  } }\n",
    "zad1c(3000)"
   ]
  },
  {
   "cell_type": "markdown",
   "metadata": {},
   "source": [
    "# Zad 2 Czy liczba braków zmieniła się o 15%?"
   ]
  },
  {
   "cell_type": "code",
   "execution_count": 71,
   "metadata": {},
   "outputs": [
    {
     "data": {
      "text/html": [
       "0.461038961038961"
      ],
      "text/latex": [
       "0.461038961038961"
      ],
      "text/markdown": [
       "0.461038961038961"
      ],
      "text/plain": [
       "[1] 0.461039"
      ]
     },
     "metadata": {},
     "output_type": "display_data"
    }
   ],
   "source": [
    "before <- c(12, 9, 21, 14, 7, 17) \n",
    "after <- c(5, 9, 3, 11, 8, 19) #Gdyby po było mniej, to każde wylosowanie elementów z before \n",
    "#dawałoby sumę większą\n",
    "before <- 0.85*before\n",
    "#Rozkład normalny był rozkładem ciągłym, a tutaj mamy skokowy\n",
    "m<-length(before)\n",
    "n<-length(after)\n",
    "N<-choose(n+m,m) # liczba permutacji\n",
    "suma=sum(after)\n",
    "cnt =0 # licznik\n",
    "\n",
    "z=c(before,after)\n",
    "combin = combn((m+n),m) \n",
    "for (i in 1: N ){ \n",
    "    x1 <-z[combin[,i]]\n",
    "    y1 <-z[-combin[,i]]\n",
    "    if( sum (y1) <= suma ){ cnt = cnt +1}} #sum(x) >= suma. \n",
    "cs = cnt /N #p- wartość dla H0: Próbki nie różnią się\n",
    "\n",
    "# #wilcoxona bo dane nieciągłe\n",
    "# wilcoxorg = wilcox.test(before, after)$statistic #on tutaj użył mu=0.15 exact=F $statistic i c użył 2*c lub 2-2*c\n",
    "# stat = numeric(n)\n",
    "# options(warn = -1) \n",
    "# Permutation = choose(length(before)+length(after), length(before))\n",
    "# combin = combn((length(before)+length(after)), length(before))\n",
    "# for (i in 2:Permutation){\n",
    "#   x1 <-z[combin[,i]]\n",
    "#   y1 <-z[-combin[,i]]\n",
    "#   wilcoxon_value = wilcox.test(x1,y1)$statistic \n",
    "#   if (wilcoxon_value >= wilcoxorg){ cnt=cnt+1 }}\n",
    "# cnt/Permutation \n",
    "# cs = cnt/Permutation\n",
    "if (cs <= 0.5) p = 2*cs\n",
    "if (cs > 0.5) p = 2-2*cs\n",
    "p"
   ]
  },
  {
   "cell_type": "code",
   "execution_count": 69,
   "metadata": {},
   "outputs": [
    {
     "data": {
      "text/html": [
       "0.393939393939394"
      ],
      "text/latex": [
       "0.393939393939394"
      ],
      "text/markdown": [
       "0.393939393939394"
      ],
      "text/plain": [
       "[1] 0.3939394"
      ]
     },
     "metadata": {},
     "output_type": "display_data"
    }
   ],
   "source": [
    "x <- c(12, 9, 21, 14, 7, 17)\n",
    "y <- c(5, 9, 3, 11, 8, 19)\n",
    "x <- 0.85*x #\n",
    "xy <- c(x,y)\n",
    "\n",
    "n <- length(x)\n",
    "m <- length(y)\n",
    "N <- choose(n+m, n)\n",
    "com <- combn(n+m, n)\n",
    "cnt <- 0\n",
    "\n",
    "stat <-  wilcox.test(x,y)$statistic \n",
    "for (i in 1:N)\n",
    "{ x1 <- xy[com[, i]]\n",
    "  y1 <- xy[-com[, i]]\n",
    "  if(wilcox.test(x1,y1)$statistic<=stat)\n",
    "  { cnt = cnt + 1 } }\n",
    "cs = cnt/N\n",
    "if (cs <= 0.5) p = 2*cs\n",
    "if (cs > 0.5) p = 2-2*cs\n",
    "p"
   ]
  },
  {
   "cell_type": "markdown",
   "metadata": {},
   "source": [
    "# Zad 3 "
   ]
  },
  {
   "cell_type": "code",
   "execution_count": 87,
   "metadata": {},
   "outputs": [
    {
     "data": {
      "text/html": [
       "<table>\n",
       "<thead><tr><th></th><th scope=col>X1</th><th scope=col>X2</th><th scope=col>X3</th><th scope=col>Y1</th><th scope=col>Y2</th><th scope=col>Y3</th></tr></thead>\n",
       "<tbody>\n",
       "\t<tr><th scope=row>X1</th><td>0.00</td><td>2.21</td><td>2.49</td><td>1.78</td><td>3.11</td><td>2.94</td></tr>\n",
       "\t<tr><th scope=row>X2</th><td>2.21</td><td>0.00</td><td>2.60</td><td>3.27</td><td>1.45</td><td>3.29</td></tr>\n",
       "\t<tr><th scope=row>X3</th><td>2.49</td><td>2.60</td><td>0.00</td><td>2.14</td><td>0.43</td><td>3.52</td></tr>\n",
       "\t<tr><th scope=row>Y1</th><td>1.87</td><td>3.27</td><td>2.14</td><td>0.00</td><td>2.69</td><td>2.60</td></tr>\n",
       "\t<tr><th scope=row>Y2</th><td>3.11</td><td>1.45</td><td>0.43</td><td>2.69</td><td>0.00</td><td>3.48</td></tr>\n",
       "\t<tr><th scope=row>Y3</th><td>2.94</td><td>3.29</td><td>3.52</td><td>2.60</td><td>3.48</td><td>0.00</td></tr>\n",
       "</tbody>\n",
       "</table>\n"
      ],
      "text/latex": [
       "\\begin{tabular}{r|llllll}\n",
       "  & X1 & X2 & X3 & Y1 & Y2 & Y3\\\\\n",
       "\\hline\n",
       "\tX1 & 0.00 & 2.21 & 2.49 & 1.78 & 3.11 & 2.94\\\\\n",
       "\tX2 & 2.21 & 0.00 & 2.60 & 3.27 & 1.45 & 3.29\\\\\n",
       "\tX3 & 2.49 & 2.60 & 0.00 & 2.14 & 0.43 & 3.52\\\\\n",
       "\tY1 & 1.87 & 3.27 & 2.14 & 0.00 & 2.69 & 2.60\\\\\n",
       "\tY2 & 3.11 & 1.45 & 0.43 & 2.69 & 0.00 & 3.48\\\\\n",
       "\tY3 & 2.94 & 3.29 & 3.52 & 2.60 & 3.48 & 0.00\\\\\n",
       "\\end{tabular}\n"
      ],
      "text/markdown": [
       "\n",
       "| <!--/--> | X1 | X2 | X3 | Y1 | Y2 | Y3 |\n",
       "|---|---|---|---|---|---|---|\n",
       "| X1 | 0.00 | 2.21 | 2.49 | 1.78 | 3.11 | 2.94 |\n",
       "| X2 | 2.21 | 0.00 | 2.60 | 3.27 | 1.45 | 3.29 |\n",
       "| X3 | 2.49 | 2.60 | 0.00 | 2.14 | 0.43 | 3.52 |\n",
       "| Y1 | 1.87 | 3.27 | 2.14 | 0.00 | 2.69 | 2.60 |\n",
       "| Y2 | 3.11 | 1.45 | 0.43 | 2.69 | 0.00 | 3.48 |\n",
       "| Y3 | 2.94 | 3.29 | 3.52 | 2.60 | 3.48 | 0.00 |\n",
       "\n"
      ],
      "text/plain": [
       "   X1   X2   X3   Y1   Y2   Y3  \n",
       "X1 0.00 2.21 2.49 1.78 3.11 2.94\n",
       "X2 2.21 0.00 2.60 3.27 1.45 3.29\n",
       "X3 2.49 2.60 0.00 2.14 0.43 3.52\n",
       "Y1 1.87 3.27 2.14 0.00 2.69 2.60\n",
       "Y2 3.11 1.45 0.43 2.69 0.00 3.48\n",
       "Y3 2.94 3.29 3.52 2.60 3.48 0.00"
      ]
     },
     "metadata": {},
     "output_type": "display_data"
    }
   ],
   "source": [
    "x = matrix(c(0.00, 2.21, 2.49, 1.78, 3.11, 2.94, 2.21, 0.00, 2.60, 3.27, 1.45, 3.29,2.49, 2.60, 0.00, 2.14, 0.43, 3.52,\n",
    "           1.87, 3.27, 2.14, 0.00, 2.69, 2.60, 3.11, 1.45, 0.43, 2.69, 0.00, 3.48, 2.94, 3.29, 3.52, 2.60, 3.48, 0.00), byrow=TRUE, nrow = 6, ncol = 6)\n",
    "rownames(x) <- c(\"X1\",\"X2\",\"X3\", \"Y1\", \"Y2\", \"Y3\") #6elementowy\n",
    "colnames(x) <- c(\"X1\",\"X2\",\"X3\", \"Y1\", \"Y2\", \"Y3\")\n",
    "x "
   ]
  },
  {
   "cell_type": "code",
   "execution_count": 67,
   "metadata": {},
   "outputs": [
    {
     "data": {
      "text/html": [
       "<table>\n",
       "<thead><tr><th scope=col>X1</th><th scope=col>X2</th><th scope=col>X3</th><th scope=col>X4</th><th scope=col>X5</th></tr></thead>\n",
       "<tbody>\n",
       "\t<tr><td>-1.7494745  </td><td> 0.14488813 </td><td> 0.005115225</td><td>0.8808498   </td><td>0           </td></tr>\n",
       "\t<tr><td> 0.6480374  </td><td> 0.46986865 </td><td> 0.081739971</td><td>0.8629741   </td><td>0           </td></tr>\n",
       "\t<tr><td>-0.1665959  </td><td>-0.04811958 </td><td> 0.719862533</td><td>0.9375037   </td><td>0           </td></tr>\n",
       "\t<tr><td> 1.1913354  </td><td> 2.70230932 </td><td>-0.786914891</td><td>1.2125327   </td><td>0           </td></tr>\n",
       "\t<tr><td>-1.7242960  </td><td> 0.61202877 </td><td> 0.638708246</td><td>0.9937969   </td><td>0           </td></tr>\n",
       "\t<tr><td> 1.2421486  </td><td>-0.64720409 </td><td> 0.910866685</td><td>1.1630290   </td><td>0           </td></tr>\n",
       "</tbody>\n",
       "</table>\n"
      ],
      "text/latex": [
       "\\begin{tabular}{r|lllll}\n",
       " X1 & X2 & X3 & X4 & X5\\\\\n",
       "\\hline\n",
       "\t -1.7494745   &  0.14488813  &  0.005115225 & 0.8808498    & 0           \\\\\n",
       "\t  0.6480374   &  0.46986865  &  0.081739971 & 0.8629741    & 0           \\\\\n",
       "\t -0.1665959   & -0.04811958  &  0.719862533 & 0.9375037    & 0           \\\\\n",
       "\t  1.1913354   &  2.70230932  & -0.786914891 & 1.2125327    & 0           \\\\\n",
       "\t -1.7242960   &  0.61202877  &  0.638708246 & 0.9937969    & 0           \\\\\n",
       "\t  1.2421486   & -0.64720409  &  0.910866685 & 1.1630290    & 0           \\\\\n",
       "\\end{tabular}\n"
      ],
      "text/markdown": [
       "\n",
       "| X1 | X2 | X3 | X4 | X5 |\n",
       "|---|---|---|---|---|\n",
       "| -1.7494745   |  0.14488813  |  0.005115225 | 0.8808498    | 0            |\n",
       "|  0.6480374   |  0.46986865  |  0.081739971 | 0.8629741    | 0            |\n",
       "| -0.1665959   | -0.04811958  |  0.719862533 | 0.9375037    | 0            |\n",
       "|  1.1913354   |  2.70230932  | -0.786914891 | 1.2125327    | 0            |\n",
       "| -1.7242960   |  0.61202877  |  0.638708246 | 0.9937969    | 0            |\n",
       "|  1.2421486   | -0.64720409  |  0.910866685 | 1.1630290    | 0            |\n",
       "\n"
      ],
      "text/plain": [
       "  X1         X2          X3           X4        X5\n",
       "1 -1.7494745  0.14488813  0.005115225 0.8808498 0 \n",
       "2  0.6480374  0.46986865  0.081739971 0.8629741 0 \n",
       "3 -0.1665959 -0.04811958  0.719862533 0.9375037 0 \n",
       "4  1.1913354  2.70230932 -0.786914891 1.2125327 0 \n",
       "5 -1.7242960  0.61202877  0.638708246 0.9937969 0 \n",
       "6  1.2421486 -0.64720409  0.910866685 1.1630290 0 "
      ]
     },
     "metadata": {},
     "output_type": "display_data"
    },
    {
     "name": "stdout",
     "output_type": "stream",
     "text": [
      "[1] \"INDEX\"\n"
     ]
    },
    {
     "data": {
      "text/html": [
       "<table>\n",
       "<tbody>\n",
       "\t<tr><td>5</td><td>3</td><td>2</td><td>6</td><td>4</td></tr>\n",
       "\t<tr><td>3</td><td>6</td><td>1</td><td>5</td><td>4</td></tr>\n",
       "\t<tr><td>2</td><td>6</td><td>5</td><td>1</td><td>4</td></tr>\n",
       "\t<tr><td>2</td><td>3</td><td>6</td><td>5</td><td>1</td></tr>\n",
       "\t<tr><td>1</td><td>3</td><td>2</td><td>6</td><td>4</td></tr>\n",
       "\t<tr><td>2</td><td>3</td><td>1</td><td>5</td><td>4</td></tr>\n",
       "</tbody>\n",
       "</table>\n"
      ],
      "text/latex": [
       "\\begin{tabular}{lllll}\n",
       "\t 5 & 3 & 2 & 6 & 4\\\\\n",
       "\t 3 & 6 & 1 & 5 & 4\\\\\n",
       "\t 2 & 6 & 5 & 1 & 4\\\\\n",
       "\t 2 & 3 & 6 & 5 & 1\\\\\n",
       "\t 1 & 3 & 2 & 6 & 4\\\\\n",
       "\t 2 & 3 & 1 & 5 & 4\\\\\n",
       "\\end{tabular}\n"
      ],
      "text/markdown": [
       "\n",
       "| 5 | 3 | 2 | 6 | 4 |\n",
       "| 3 | 6 | 1 | 5 | 4 |\n",
       "| 2 | 6 | 5 | 1 | 4 |\n",
       "| 2 | 3 | 6 | 5 | 1 |\n",
       "| 1 | 3 | 2 | 6 | 4 |\n",
       "| 2 | 3 | 1 | 5 | 4 |\n",
       "\n"
      ],
      "text/plain": [
       "     [,1] [,2] [,3] [,4] [,5]\n",
       "[1,] 5    3    2    6    4   \n",
       "[2,] 3    6    1    5    4   \n",
       "[3,] 2    6    5    1    4   \n",
       "[4,] 2    3    6    5    1   \n",
       "[5,] 1    3    2    6    4   \n",
       "[6,] 2    3    1    5    4   "
      ]
     },
     "metadata": {},
     "output_type": "display_data"
    },
    {
     "data": {
      "text/html": [
       "<table>\n",
       "<tbody>\n",
       "\t<tr><td>0.7956453</td><td>1.748379 </td><td>2.420716 </td><td>3.236855 </td><td>3.990751 </td></tr>\n",
       "\t<tr><td>1.1596095</td><td>1.542175 </td><td>2.420716 </td><td>2.444484 </td><td>2.481072 </td></tr>\n",
       "\t<tr><td>1.1596095</td><td>1.559105 </td><td>1.694692 </td><td>1.748379 </td><td>3.428535 </td></tr>\n",
       "\t<tr><td>2.4810716</td><td>3.428535 </td><td>3.755893 </td><td>3.866578 </td><td>3.990751 </td></tr>\n",
       "\t<tr><td>0.7956453</td><td>1.694692 </td><td>2.444484 </td><td>3.238545 </td><td>3.866578 </td></tr>\n",
       "\t<tr><td>1.5421750</td><td>1.559105 </td><td>3.236855 </td><td>3.238545 </td><td>3.755893 </td></tr>\n",
       "</tbody>\n",
       "</table>\n"
      ],
      "text/latex": [
       "\\begin{tabular}{lllll}\n",
       "\t 0.7956453 & 1.748379  & 2.420716  & 3.236855  & 3.990751 \\\\\n",
       "\t 1.1596095 & 1.542175  & 2.420716  & 2.444484  & 2.481072 \\\\\n",
       "\t 1.1596095 & 1.559105  & 1.694692  & 1.748379  & 3.428535 \\\\\n",
       "\t 2.4810716 & 3.428535  & 3.755893  & 3.866578  & 3.990751 \\\\\n",
       "\t 0.7956453 & 1.694692  & 2.444484  & 3.238545  & 3.866578 \\\\\n",
       "\t 1.5421750 & 1.559105  & 3.236855  & 3.238545  & 3.755893 \\\\\n",
       "\\end{tabular}\n"
      ],
      "text/markdown": [
       "\n",
       "| 0.7956453 | 1.748379  | 2.420716  | 3.236855  | 3.990751  |\n",
       "| 1.1596095 | 1.542175  | 2.420716  | 2.444484  | 2.481072  |\n",
       "| 1.1596095 | 1.559105  | 1.694692  | 1.748379  | 3.428535  |\n",
       "| 2.4810716 | 3.428535  | 3.755893  | 3.866578  | 3.990751  |\n",
       "| 0.7956453 | 1.694692  | 2.444484  | 3.238545  | 3.866578  |\n",
       "| 1.5421750 | 1.559105  | 3.236855  | 3.238545  | 3.755893  |\n",
       "\n"
      ],
      "text/plain": [
       "     [,1]      [,2]     [,3]     [,4]     [,5]    \n",
       "[1,] 0.7956453 1.748379 2.420716 3.236855 3.990751\n",
       "[2,] 1.1596095 1.542175 2.420716 2.444484 2.481072\n",
       "[3,] 1.1596095 1.559105 1.694692 1.748379 3.428535\n",
       "[4,] 2.4810716 3.428535 3.755893 3.866578 3.990751\n",
       "[5,] 0.7956453 1.694692 2.444484 3.238545 3.866578\n",
       "[6,] 1.5421750 1.559105 3.236855 3.238545 3.755893"
      ]
     },
     "metadata": {},
     "output_type": "display_data"
    },
    {
     "data": {
      "text/html": [
       "<table>\n",
       "<thead><tr><th scope=col>1</th><th scope=col>2</th><th scope=col>3</th><th scope=col>4</th><th scope=col>5</th><th scope=col>6</th></tr></thead>\n",
       "<tbody>\n",
       "\t<tr><td>0.0000000</td><td>2.420716 </td><td>1.748379 </td><td>3.990751 </td><td>0.7956453</td><td>3.236855 </td></tr>\n",
       "\t<tr><td>2.4207162</td><td>0.000000 </td><td>1.159610 </td><td>2.481072 </td><td>2.4444843</td><td>1.542175 </td></tr>\n",
       "\t<tr><td>1.7483793</td><td>1.159610 </td><td>0.000000 </td><td>3.428535 </td><td>1.6946919</td><td>1.559105 </td></tr>\n",
       "\t<tr><td>3.9907507</td><td>2.481072 </td><td>3.428535 </td><td>0.000000 </td><td>3.8665780</td><td>3.755893 </td></tr>\n",
       "\t<tr><td>0.7956453</td><td>2.444484 </td><td>1.694692 </td><td>3.866578 </td><td>0.0000000</td><td>3.238545 </td></tr>\n",
       "\t<tr><td>3.2368549</td><td>1.542175 </td><td>1.559105 </td><td>3.755893 </td><td>3.2385445</td><td>0.000000 </td></tr>\n",
       "</tbody>\n",
       "</table>\n"
      ],
      "text/latex": [
       "\\begin{tabular}{r|llllll}\n",
       " 1 & 2 & 3 & 4 & 5 & 6\\\\\n",
       "\\hline\n",
       "\t 0.0000000 & 2.420716  & 1.748379  & 3.990751  & 0.7956453 & 3.236855 \\\\\n",
       "\t 2.4207162 & 0.000000  & 1.159610  & 2.481072  & 2.4444843 & 1.542175 \\\\\n",
       "\t 1.7483793 & 1.159610  & 0.000000  & 3.428535  & 1.6946919 & 1.559105 \\\\\n",
       "\t 3.9907507 & 2.481072  & 3.428535  & 0.000000  & 3.8665780 & 3.755893 \\\\\n",
       "\t 0.7956453 & 2.444484  & 1.694692  & 3.866578  & 0.0000000 & 3.238545 \\\\\n",
       "\t 3.2368549 & 1.542175  & 1.559105  & 3.755893  & 3.2385445 & 0.000000 \\\\\n",
       "\\end{tabular}\n"
      ],
      "text/markdown": [
       "\n",
       "| 1 | 2 | 3 | 4 | 5 | 6 |\n",
       "|---|---|---|---|---|---|\n",
       "| 0.0000000 | 2.420716  | 1.748379  | 3.990751  | 0.7956453 | 3.236855  |\n",
       "| 2.4207162 | 0.000000  | 1.159610  | 2.481072  | 2.4444843 | 1.542175  |\n",
       "| 1.7483793 | 1.159610  | 0.000000  | 3.428535  | 1.6946919 | 1.559105  |\n",
       "| 3.9907507 | 2.481072  | 3.428535  | 0.000000  | 3.8665780 | 3.755893  |\n",
       "| 0.7956453 | 2.444484  | 1.694692  | 3.866578  | 0.0000000 | 3.238545  |\n",
       "| 3.2368549 | 1.542175  | 1.559105  | 3.755893  | 3.2385445 | 0.000000  |\n",
       "\n"
      ],
      "text/plain": [
       "  1         2        3        4        5         6       \n",
       "1 0.0000000 2.420716 1.748379 3.990751 0.7956453 3.236855\n",
       "2 2.4207162 0.000000 1.159610 2.481072 2.4444843 1.542175\n",
       "3 1.7483793 1.159610 0.000000 3.428535 1.6946919 1.559105\n",
       "4 3.9907507 2.481072 3.428535 0.000000 3.8665780 3.755893\n",
       "5 0.7956453 2.444484 1.694692 3.866578 0.0000000 3.238545\n",
       "6 3.2368549 1.542175 1.559105 3.755893 3.2385445 0.000000"
      ]
     },
     "metadata": {},
     "output_type": "display_data"
    }
   ],
   "source": [
    "x <- matrix(rnorm(12), 3,4)\n",
    "y <- matrix(rnorm(12), 3,4)\n",
    "z <- rbind(x,y)\n",
    "DATA <- data.frame(cbind(z , rep(0, nrow(z))))\n",
    "DATA\n",
    "index = knn.index(DATA,k=5)\n",
    "print(\"INDEX\")\n",
    "index #indeks k-tego najbliższego sąsiada\n",
    "knn.dist(DATA, k=nrow(z) -1) #odległości\n",
    "D <- dist(DATA)\n",
    "as.matrix(D)"
   ]
  },
  {
   "cell_type": "code",
   "execution_count": 72,
   "metadata": {},
   "outputs": [
    {
     "data": {
      "text/html": [
       "<table>\n",
       "<thead><tr><th scope=col>V1</th><th scope=col>V2</th><th scope=col>V3</th><th scope=col>V4</th><th scope=col>V5</th><th scope=col>o</th></tr></thead>\n",
       "<tbody>\n",
       "\t<tr><td>3.3</td><td>5.2</td><td>7.3</td><td>9.4</td><td>4.5</td><td>0  </td></tr>\n",
       "\t<tr><td>3.4</td><td>3.7</td><td>4.8</td><td>5.4</td><td>3.9</td><td>0  </td></tr>\n",
       "\t<tr><td>4.6</td><td>7.2</td><td>3.6</td><td>4.5</td><td>6.3</td><td>0  </td></tr>\n",
       "\t<tr><td>4.5</td><td>3.6</td><td>2.7</td><td>3.4</td><td>5.6</td><td>0  </td></tr>\n",
       "</tbody>\n",
       "</table>\n"
      ],
      "text/latex": [
       "\\begin{tabular}{r|llllll}\n",
       " V1 & V2 & V3 & V4 & V5 & o\\\\\n",
       "\\hline\n",
       "\t 3.3 & 5.2 & 7.3 & 9.4 & 4.5 & 0  \\\\\n",
       "\t 3.4 & 3.7 & 4.8 & 5.4 & 3.9 & 0  \\\\\n",
       "\t 4.6 & 7.2 & 3.6 & 4.5 & 6.3 & 0  \\\\\n",
       "\t 4.5 & 3.6 & 2.7 & 3.4 & 5.6 & 0  \\\\\n",
       "\\end{tabular}\n"
      ],
      "text/markdown": [
       "\n",
       "| V1 | V2 | V3 | V4 | V5 | o |\n",
       "|---|---|---|---|---|---|\n",
       "| 3.3 | 5.2 | 7.3 | 9.4 | 4.5 | 0   |\n",
       "| 3.4 | 3.7 | 4.8 | 5.4 | 3.9 | 0   |\n",
       "| 4.6 | 7.2 | 3.6 | 4.5 | 6.3 | 0   |\n",
       "| 4.5 | 3.6 | 2.7 | 3.4 | 5.6 | 0   |\n",
       "\n"
      ],
      "text/plain": [
       "  V1  V2  V3  V4  V5  o\n",
       "1 3.3 5.2 7.3 9.4 4.5 0\n",
       "2 3.4 3.7 4.8 5.4 3.9 0\n",
       "3 4.6 7.2 3.6 4.5 6.3 0\n",
       "4 4.5 3.6 2.7 3.4 5.6 0"
      ]
     },
     "metadata": {},
     "output_type": "display_data"
    },
    {
     "data": {
      "text/html": [
       "<table>\n",
       "<thead><tr><th scope=col>1</th><th scope=col>2</th><th scope=col>3</th><th scope=col>4</th></tr></thead>\n",
       "<tbody>\n",
       "\t<tr><td>0.000000</td><td>4.986983</td><td>6.828616</td><td>7.897468</td></tr>\n",
       "\t<tr><td>4.986983</td><td>0.000000</td><td>4.658326</td><td>3.538361</td></tr>\n",
       "\t<tr><td>6.828616</td><td>4.658326</td><td>0.000000</td><td>3.934463</td></tr>\n",
       "\t<tr><td>7.897468</td><td>3.538361</td><td>3.934463</td><td>0.000000</td></tr>\n",
       "</tbody>\n",
       "</table>\n"
      ],
      "text/latex": [
       "\\begin{tabular}{r|llll}\n",
       " 1 & 2 & 3 & 4\\\\\n",
       "\\hline\n",
       "\t 0.000000 & 4.986983 & 6.828616 & 7.897468\\\\\n",
       "\t 4.986983 & 0.000000 & 4.658326 & 3.538361\\\\\n",
       "\t 6.828616 & 4.658326 & 0.000000 & 3.934463\\\\\n",
       "\t 7.897468 & 3.538361 & 3.934463 & 0.000000\\\\\n",
       "\\end{tabular}\n"
      ],
      "text/markdown": [
       "\n",
       "| 1 | 2 | 3 | 4 |\n",
       "|---|---|---|---|\n",
       "| 0.000000 | 4.986983 | 6.828616 | 7.897468 |\n",
       "| 4.986983 | 0.000000 | 4.658326 | 3.538361 |\n",
       "| 6.828616 | 4.658326 | 0.000000 | 3.934463 |\n",
       "| 7.897468 | 3.538361 | 3.934463 | 0.000000 |\n",
       "\n"
      ],
      "text/plain": [
       "  1        2        3        4       \n",
       "1 0.000000 4.986983 6.828616 7.897468\n",
       "2 4.986983 0.000000 4.658326 3.538361\n",
       "3 6.828616 4.658326 0.000000 3.934463\n",
       "4 7.897468 3.538361 3.934463 0.000000"
      ]
     },
     "metadata": {},
     "output_type": "display_data"
    },
    {
     "data": {
      "text/html": [
       "<dl>\n",
       "\t<dt>$nn.index</dt>\n",
       "\t\t<dd><table>\n",
       "<tbody>\n",
       "\t<tr><td>2</td><td>3</td><td>4</td></tr>\n",
       "\t<tr><td>4</td><td>3</td><td>1</td></tr>\n",
       "\t<tr><td>4</td><td>2</td><td>1</td></tr>\n",
       "\t<tr><td>2</td><td>3</td><td>1</td></tr>\n",
       "</tbody>\n",
       "</table>\n",
       "</dd>\n",
       "\t<dt>$nn.dist</dt>\n",
       "\t\t<dd><table>\n",
       "<tbody>\n",
       "\t<tr><td>4.986983</td><td>6.828616</td><td>7.897468</td></tr>\n",
       "\t<tr><td>3.538361</td><td>4.658326</td><td>4.986983</td></tr>\n",
       "\t<tr><td>3.934463</td><td>4.658326</td><td>6.828616</td></tr>\n",
       "\t<tr><td>3.538361</td><td>3.934463</td><td>7.897468</td></tr>\n",
       "</tbody>\n",
       "</table>\n",
       "</dd>\n",
       "</dl>\n"
      ],
      "text/latex": [
       "\\begin{description}\n",
       "\\item[\\$nn.index] \\begin{tabular}{lll}\n",
       "\t 2 & 3 & 4\\\\\n",
       "\t 4 & 3 & 1\\\\\n",
       "\t 4 & 2 & 1\\\\\n",
       "\t 2 & 3 & 1\\\\\n",
       "\\end{tabular}\n",
       "\n",
       "\\item[\\$nn.dist] \\begin{tabular}{lll}\n",
       "\t 4.986983 & 6.828616 & 7.897468\\\\\n",
       "\t 3.538361 & 4.658326 & 4.986983\\\\\n",
       "\t 3.934463 & 4.658326 & 6.828616\\\\\n",
       "\t 3.538361 & 3.934463 & 7.897468\\\\\n",
       "\\end{tabular}\n",
       "\n",
       "\\end{description}\n"
      ],
      "text/markdown": [
       "$nn.index\n",
       ":   \n",
       "| 2 | 3 | 4 |\n",
       "| 4 | 3 | 1 |\n",
       "| 4 | 2 | 1 |\n",
       "| 2 | 3 | 1 |\n",
       "\n",
       "\n",
       "$nn.dist\n",
       ":   \n",
       "| 4.986983 | 6.828616 | 7.897468 |\n",
       "| 3.538361 | 4.658326 | 4.986983 |\n",
       "| 3.934463 | 4.658326 | 6.828616 |\n",
       "| 3.538361 | 3.934463 | 7.897468 |\n",
       "\n",
       "\n",
       "\n",
       "\n"
      ],
      "text/plain": [
       "$nn.index\n",
       "     [,1] [,2] [,3]\n",
       "[1,]    2    3    4\n",
       "[2,]    4    3    1\n",
       "[3,]    4    2    1\n",
       "[4,]    2    3    1\n",
       "\n",
       "$nn.dist\n",
       "         [,1]     [,2]     [,3]\n",
       "[1,] 4.986983 6.828616 7.897468\n",
       "[2,] 3.538361 4.658326 4.986983\n",
       "[3,] 3.934463 4.658326 6.828616\n",
       "[4,] 3.538361 3.934463 7.897468\n"
      ]
     },
     "metadata": {},
     "output_type": "display_data"
    }
   ],
   "source": [
    "x <- matrix( c(3.3, 5.2, 7.3, 9.4, 4.5), 1,5)\n",
    "x <- rbind(x, c(3.4, 3.7, 4.8, 5.4, 3.9))\n",
    "x <- rbind(x, c(4.6, 7.2, 3.6, 4.5, 6.3))\n",
    "x <- rbind(x, c(4.5, 3.6, 2.7, 3.4, 5.6))\n",
    "o <- rep(0,nrow(x))\n",
    "DATA <- data.frame(cbind(x , o))\n",
    "DATA\n",
    "D <- dist(DATA)\n",
    "as.matrix(D)\n",
    "library(FNN)\n",
    "library(RANN)\n",
    "NN <- get.knn(DATA,k=3)\n",
    "NN\n"
   ]
  },
  {
   "cell_type": "code",
   "execution_count": 16,
   "metadata": {},
   "outputs": [
    {
     "data": {
      "text/html": [
       "<table>\n",
       "<tbody>\n",
       "\t<tr><td>2</td><td>3</td><td>4</td></tr>\n",
       "\t<tr><td>4</td><td>3</td><td>1</td></tr>\n",
       "\t<tr><td>4</td><td>2</td><td>1</td></tr>\n",
       "\t<tr><td>2</td><td>3</td><td>1</td></tr>\n",
       "</tbody>\n",
       "</table>\n"
      ],
      "text/latex": [
       "\\begin{tabular}{lll}\n",
       "\t 2 & 3 & 4\\\\\n",
       "\t 4 & 3 & 1\\\\\n",
       "\t 4 & 2 & 1\\\\\n",
       "\t 2 & 3 & 1\\\\\n",
       "\\end{tabular}\n"
      ],
      "text/markdown": [
       "\n",
       "| 2 | 3 | 4 |\n",
       "| 4 | 3 | 1 |\n",
       "| 4 | 2 | 1 |\n",
       "| 2 | 3 | 1 |\n",
       "\n"
      ],
      "text/plain": [
       "     [,1] [,2] [,3]\n",
       "[1,] 2    3    4   \n",
       "[2,] 4    3    1   \n",
       "[3,] 4    2    1   \n",
       "[4,] 2    3    1   "
      ]
     },
     "metadata": {},
     "output_type": "display_data"
    }
   ],
   "source": [
    "index = knn.index(x,k=3)\n",
    "index"
   ]
  },
  {
   "cell_type": "code",
   "execution_count": 90,
   "metadata": {},
   "outputs": [
    {
     "data": {
      "text/html": [
       "0.444444444444444"
      ],
      "text/latex": [
       "0.444444444444444"
      ],
      "text/markdown": [
       "0.444444444444444"
      ],
      "text/plain": [
       "[1] 0.4444444"
      ]
     },
     "metadata": {},
     "output_type": "display_data"
    }
   ],
   "source": [
    "T <- function(k,n,N ) {\n",
    "  block1 <- NN$nn.index[1:n, ]\n",
    "  block2 <- NN$nn.index [(n +1):N , ]\n",
    "  i1 <- sum(block1[,1:k] <= n)  \n",
    "  i2 <- sum(block2[,1:k] > n)\n",
    "  return (1*sum(i1+i2)/(k*N))}\n",
    "\n",
    "T3<- T(k=3,n=3,N=6)\n",
    "T3\n",
    "# NN"
   ]
  },
  {
   "cell_type": "code",
   "execution_count": 89,
   "metadata": {},
   "outputs": [
    {
     "data": {
      "text/html": [
       "0.444444444444444"
      ],
      "text/latex": [
       "0.444444444444444"
      ],
      "text/markdown": [
       "0.444444444444444"
      ],
      "text/plain": [
       "[1] 0.4444444"
      ]
     },
     "metadata": {},
     "output_type": "display_data"
    }
   ],
   "source": [
    "T3 = (1/ (3*6)) * (1+2+5)\n",
    "T3"
   ]
  },
  {
   "cell_type": "markdown",
   "metadata": {},
   "source": [
    "# Zad 4"
   ]
  },
  {
   "cell_type": "code",
   "execution_count": 48,
   "metadata": {},
   "outputs": [],
   "source": [
    "x <- matrix(rnorm(mean(5), sd=sqrt(3)),nrow=5, ncol=5)\n",
    "y <- matrix(rnorm(mean(5), sd=sqrt(3)), nrow=6, ncol=5)"
   ]
  },
  {
   "cell_type": "code",
   "execution_count": 49,
   "metadata": {},
   "outputs": [
    {
     "data": {
      "text/html": [
       "<table>\n",
       "<tbody>\n",
       "\t<tr><td> 5</td><td>3 </td><td> 9</td><td>10</td><td> 7</td><td> 6</td><td>11</td><td> 8</td><td> 4</td><td> 2</td></tr>\n",
       "\t<tr><td> 4</td><td>8 </td><td>11</td><td> 6</td><td> 7</td><td>10</td><td> 9</td><td> 5</td><td> 1</td><td> 3</td></tr>\n",
       "\t<tr><td> 1</td><td>5 </td><td> 9</td><td>10</td><td> 7</td><td> 8</td><td> 6</td><td>11</td><td> 4</td><td> 2</td></tr>\n",
       "\t<tr><td> 2</td><td>8 </td><td> 6</td><td>11</td><td> 7</td><td>10</td><td> 9</td><td> 5</td><td> 1</td><td> 3</td></tr>\n",
       "\t<tr><td> 1</td><td>3 </td><td>10</td><td> 7</td><td> 6</td><td>11</td><td> 8</td><td> 9</td><td> 4</td><td> 2</td></tr>\n",
       "\t<tr><td>11</td><td>5 </td><td> 1</td><td> 8</td><td> 9</td><td> 4</td><td> 3</td><td> 2</td><td>10</td><td> 7</td></tr>\n",
       "\t<tr><td> 5</td><td>1 </td><td>10</td><td> 9</td><td> 4</td><td> 3</td><td> 2</td><td> 6</td><td>11</td><td> 8</td></tr>\n",
       "\t<tr><td> 5</td><td>1 </td><td> 6</td><td>11</td><td>10</td><td> 4</td><td> 3</td><td> 2</td><td> 9</td><td> 7</td></tr>\n",
       "\t<tr><td> 5</td><td>1 </td><td> 7</td><td> 6</td><td>11</td><td> 4</td><td> 3</td><td> 2</td><td>10</td><td> 8</td></tr>\n",
       "\t<tr><td> 5</td><td>1 </td><td> 7</td><td> 8</td><td> 4</td><td> 3</td><td> 2</td><td> 9</td><td> 6</td><td>11</td></tr>\n",
       "\t<tr><td>11</td><td>5 </td><td> 1</td><td> 8</td><td> 9</td><td> 4</td><td> 3</td><td> 2</td><td>10</td><td> 7</td></tr>\n",
       "</tbody>\n",
       "</table>\n"
      ],
      "text/latex": [
       "\\begin{tabular}{llllllllll}\n",
       "\t  5 & 3  &  9 & 10 &  7 &  6 & 11 &  8 &  4 &  2\\\\\n",
       "\t  4 & 8  & 11 &  6 &  7 & 10 &  9 &  5 &  1 &  3\\\\\n",
       "\t  1 & 5  &  9 & 10 &  7 &  8 &  6 & 11 &  4 &  2\\\\\n",
       "\t  2 & 8  &  6 & 11 &  7 & 10 &  9 &  5 &  1 &  3\\\\\n",
       "\t  1 & 3  & 10 &  7 &  6 & 11 &  8 &  9 &  4 &  2\\\\\n",
       "\t 11 & 5  &  1 &  8 &  9 &  4 &  3 &  2 & 10 &  7\\\\\n",
       "\t  5 & 1  & 10 &  9 &  4 &  3 &  2 &  6 & 11 &  8\\\\\n",
       "\t  5 & 1  &  6 & 11 & 10 &  4 &  3 &  2 &  9 &  7\\\\\n",
       "\t  5 & 1  &  7 &  6 & 11 &  4 &  3 &  2 & 10 &  8\\\\\n",
       "\t  5 & 1  &  7 &  8 &  4 &  3 &  2 &  9 &  6 & 11\\\\\n",
       "\t 11 & 5  &  1 &  8 &  9 &  4 &  3 &  2 & 10 &  7\\\\\n",
       "\\end{tabular}\n"
      ],
      "text/markdown": [
       "\n",
       "|  5 | 3  |  9 | 10 |  7 |  6 | 11 |  8 |  4 |  2 |\n",
       "|  4 | 8  | 11 |  6 |  7 | 10 |  9 |  5 |  1 |  3 |\n",
       "|  1 | 5  |  9 | 10 |  7 |  8 |  6 | 11 |  4 |  2 |\n",
       "|  2 | 8  |  6 | 11 |  7 | 10 |  9 |  5 |  1 |  3 |\n",
       "|  1 | 3  | 10 |  7 |  6 | 11 |  8 |  9 |  4 |  2 |\n",
       "| 11 | 5  |  1 |  8 |  9 |  4 |  3 |  2 | 10 |  7 |\n",
       "|  5 | 1  | 10 |  9 |  4 |  3 |  2 |  6 | 11 |  8 |\n",
       "|  5 | 1  |  6 | 11 | 10 |  4 |  3 |  2 |  9 |  7 |\n",
       "|  5 | 1  |  7 |  6 | 11 |  4 |  3 |  2 | 10 |  8 |\n",
       "|  5 | 1  |  7 |  8 |  4 |  3 |  2 |  9 |  6 | 11 |\n",
       "| 11 | 5  |  1 |  8 |  9 |  4 |  3 |  2 | 10 |  7 |\n",
       "\n"
      ],
      "text/plain": [
       "      [,1] [,2] [,3] [,4] [,5] [,6] [,7] [,8] [,9] [,10]\n",
       " [1,]  5   3     9   10    7    6   11    8    4    2   \n",
       " [2,]  4   8    11    6    7   10    9    5    1    3   \n",
       " [3,]  1   5     9   10    7    8    6   11    4    2   \n",
       " [4,]  2   8     6   11    7   10    9    5    1    3   \n",
       " [5,]  1   3    10    7    6   11    8    9    4    2   \n",
       " [6,] 11   5     1    8    9    4    3    2   10    7   \n",
       " [7,]  5   1    10    9    4    3    2    6   11    8   \n",
       " [8,]  5   1     6   11   10    4    3    2    9    7   \n",
       " [9,]  5   1     7    6   11    4    3    2   10    8   \n",
       "[10,]  5   1     7    8    4    3    2    9    6   11   \n",
       "[11,] 11   5     1    8    9    4    3    2   10    7   "
      ]
     },
     "metadata": {},
     "output_type": "display_data"
    }
   ],
   "source": [
    "z <- rbind(x,y)\n",
    "o <- rep (0, nrow(z))\n",
    "DATA <- data.frame(cbind (z,o))\n",
    "NN <- get.knn(DATA,k=nrow(z)-1) # knn.dist (DATA, k = nrow (z) -1)\n",
    "knn.index(DATA,k=nrow(z)-1) # 4a)"
   ]
  },
  {
   "cell_type": "code",
   "execution_count": 68,
   "metadata": {},
   "outputs": [
    {
     "data": {
      "text/html": [
       "<ol>\n",
       "\t<li>0.636363636363636</li>\n",
       "\t<li>0.424242424242424</li>\n",
       "\t<li>0.436363636363636</li>\n",
       "</ol>\n"
      ],
      "text/latex": [
       "\\begin{enumerate}\n",
       "\\item 0.636363636363636\n",
       "\\item 0.424242424242424\n",
       "\\item 0.436363636363636\n",
       "\\end{enumerate}\n"
      ],
      "text/markdown": [
       "1. 0.636363636363636\n",
       "2. 0.424242424242424\n",
       "3. 0.436363636363636\n",
       "\n",
       "\n"
      ],
      "text/plain": [
       "[[1]]\n",
       "[1] 0.6363636\n",
       "\n",
       "[[2]]\n",
       "[1] 0.4242424\n",
       "\n",
       "[[3]]\n",
       "[1] 0.4363636\n"
      ]
     },
     "metadata": {},
     "output_type": "display_data"
    }
   ],
   "source": [
    "#4b)\n",
    "zad4b <- function(dane, k_neighbour,n,N){\n",
    "    block1 <- NN$nn.index[1:n, ] # indeksy najbliższychvsąsiadów dla wektora X\n",
    "    block2 <- NN$nn.index[(n+1):N, ] # indeksy najbliższych\n",
    "    i1 <- sum(block1[,1:k_neighbour] <= n)  \n",
    "    i2 <- sum(block2[,1:k_neighbour] > n)\n",
    "  return (1*(i1+i2)/(k_neighbour*N)) }\n",
    "\n",
    "list(zad4b(DATA, 1, 5, 11), zad4b(DATA, 3, 5, 11), zad4b(DATA, 5, 5, 11))"
   ]
  },
  {
   "cell_type": "code",
   "execution_count": 74,
   "metadata": {},
   "outputs": [
    {
     "data": {
      "text/plain": [
       "\n",
       "DATA PERMUTATION\n",
       "\n",
       "\n",
       "Call:\n",
       "boot(data = z, statistic = T, R = 999, sim = \"permutation\", sizes = M, \n",
       "    k_neigh = 3)\n",
       "\n",
       "\n",
       "Bootstrap Statistics :\n",
       "     original      bias    std. error\n",
       "t1* 0.5151515 -0.04368004  0.05363371"
      ]
     },
     "metadata": {},
     "output_type": "display_data"
    },
    {
     "data": {
      "text/html": [
       "0.274"
      ],
      "text/latex": [
       "0.274"
      ],
      "text/markdown": [
       "0.274"
      ],
      "text/plain": [
       "[1] 0.274"
      ]
     },
     "metadata": {},
     "output_type": "display_data"
    },
    {
     "data": {
      "text/plain": [
       "\n",
       "DATA PERMUTATION\n",
       "\n",
       "\n",
       "Call:\n",
       "boot(data = z, statistic = T, R = 999, sim = \"permutation\", sizes = M, \n",
       "    k_neigh = 5)\n",
       "\n",
       "\n",
       "Bootstrap Statistics :\n",
       "    original     bias    std. error\n",
       "t1*      0.4 0.06400946  0.03179191"
      ]
     },
     "metadata": {},
     "output_type": "display_data"
    },
    {
     "data": {
      "text/html": [
       "1"
      ],
      "text/latex": [
       "1"
      ],
      "text/markdown": [
       "1"
      ],
      "text/plain": [
       "[1] 1"
      ]
     },
     "metadata": {},
     "output_type": "display_data"
    },
    {
     "data": {
      "text/plain": [
       "\n",
       "DATA PERMUTATION\n",
       "\n",
       "\n",
       "Call:\n",
       "boot(data = z, statistic = T, R = 999, sim = \"permutation\", sizes = M, \n",
       "    k_neigh = 10)\n",
       "\n",
       "\n",
       "Bootstrap Statistics :\n",
       "     original      bias    std. error\n",
       "t1* 0.4545455 0.004995905 0.004525345"
      ]
     },
     "metadata": {},
     "output_type": "display_data"
    },
    {
     "data": {
      "text/html": [
       "1"
      ],
      "text/latex": [
       "1"
      ],
      "text/markdown": [
       "1"
      ],
      "text/plain": [
       "[1] 1"
      ]
     },
     "metadata": {},
     "output_type": "display_data"
    }
   ],
   "source": [
    "#c)\n",
    "library(boot)\n",
    "library(FNN)\n",
    "library(RANN)\n",
    "x <- matrix(rnorm(mean(5), sd=sqrt(3)),nrow=5, ncol=5)\n",
    "y <- matrix(rnorm(mean(5), sd=sqrt(3)), nrow=6, ncol=5)\n",
    "z <- rbind(x,y)\n",
    "\n",
    "T <- function (z, ix,sizes, k_neigh) {\n",
    "    n <- sizes[1]\n",
    "    m <- sizes[2]\n",
    "    N <- n + m\n",
    "    z <- z[ix , ]\n",
    "    o <- rep (0,nrow(z))\n",
    "    DATA <-data.frame(cbind(z,o))\n",
    "    NN <- get.knn(DATA,k=nrow(z)-1)\n",
    "    block1<- NN$nn.index[1:5,1:k_neigh]\n",
    "    block2<-NN$nn.index[6:11,1:k_neigh]\n",
    "    i1 <- sum(block1<= n)\n",
    "    i2 <- sum(block2 > n)\n",
    "    return (( i1 + i2 ) / (k_neigh * N))}\n",
    "\n",
    "M <- c(5, 6)\n",
    "boot.obj<- boot(data=z, statistic=T, sim=\"permutation\", R=999 , sizes=M, k_neigh=3)\n",
    "boot.obj\n",
    "p_value = mean(c(boot.obj$t, boot.obj$t0) >= boot.obj$t0)\n",
    "p_value\n",
    "boot.obj<- boot(data=z, statistic=T, sim=\"permutation\", R=999 , sizes=M, k_neigh=5)\n",
    "boot.obj\n",
    "p_value = mean(c(boot.obj$t, boot.obj$t0) >= boot.obj$t0)\n",
    "p_value\n",
    "boot.obj<- boot(data=z, statistic=T, sim=\"permutation\", R=999 , sizes=M, k_neigh=10)\n",
    "boot.obj\n",
    "p_value = mean(c(boot.obj$t, boot.obj$t0) >= boot.obj$t0)\n",
    "p_value"
   ]
  },
  {
   "cell_type": "markdown",
   "metadata": {},
   "source": [
    "# zad 5"
   ]
  },
  {
   "cell_type": "code",
   "execution_count": 75,
   "metadata": {},
   "outputs": [
    {
     "data": {
      "text/html": [
       "<ol>\n",
       "\t<li>0.363636363636364</li>\n",
       "\t<li>0.393939393939394</li>\n",
       "\t<li>0.454545454545455</li>\n",
       "</ol>\n"
      ],
      "text/latex": [
       "\\begin{enumerate}\n",
       "\\item 0.363636363636364\n",
       "\\item 0.393939393939394\n",
       "\\item 0.454545454545455\n",
       "\\end{enumerate}\n"
      ],
      "text/markdown": [
       "1. 0.363636363636364\n",
       "2. 0.393939393939394\n",
       "3. 0.454545454545455\n",
       "\n",
       "\n"
      ],
      "text/plain": [
       "[[1]]\n",
       "[1] 0.3636364\n",
       "\n",
       "[[2]]\n",
       "[1] 0.3939394\n",
       "\n",
       "[[3]]\n",
       "[1] 0.4545455\n"
      ]
     },
     "metadata": {},
     "output_type": "display_data"
    },
    {
     "data": {
      "text/plain": [
       "\n",
       "DATA PERMUTATION\n",
       "\n",
       "\n",
       "Call:\n",
       "boot(data = z, statistic = T, R = 999, sim = \"permutation\", sizes = M, \n",
       "    k_neigh = 3)\n",
       "\n",
       "\n",
       "Bootstrap Statistics :\n",
       "     original      bias    std. error\n",
       "t1* 0.5151515 -0.04604605  0.05134653"
      ]
     },
     "metadata": {},
     "output_type": "display_data"
    },
    {
     "data": {
      "text/html": [
       "0.27"
      ],
      "text/latex": [
       "0.27"
      ],
      "text/markdown": [
       "0.27"
      ],
      "text/plain": [
       "[1] 0.27"
      ]
     },
     "metadata": {},
     "output_type": "display_data"
    }
   ],
   "source": [
    "x <- matrix(rnorm(25),nrow=5, ncol=5)\n",
    "y <- matrix(rnorm(30), nrow=6, ncol=5)\n",
    "zad5 <- function(k_neighbour, x_elements){\n",
    "    z <- rbind(x,y)\n",
    "    o <- rep(0, nrow(z))\n",
    "    DATA <- data.frame(cbind (z,o))\n",
    "    NN <- get.knn(DATA,k=nrow(z)-1)\n",
    "    knn.index(DATA,k=nrow(z)-1) # podpunkt a)\n",
    "    block1 <- NN$nn.index[1:5,1:k_neighbour] # indeksy najbliższychvsąsiadów dla wektora X\n",
    "    block2 <- NN$nn.index[6:11,1:k_neighbour] # indeksy najbliższych\n",
    "    i1 <- sum (block1<=x_elements)\n",
    "    i2 <- sum (block2>x_elements)\n",
    "    return (list(i1, i2))}\n",
    "\n",
    "T1 = (zad5(1, 5)[[1]]+zad5(1, 5)[[2]]) /(1*(6+5))\n",
    "T3 =(zad5(3, 5)[[1]]+zad5(3, 5)[[2]])/(3*(6+5))\n",
    "T5 =(zad5(5, 5)[[1]]+zad5(5, 5)[[2]]) /(5*(6+5))\n",
    "list(T1,T3,T5)\n",
    "boot.obj<- boot(data=z, statistic=T, sim=\"permutation\", R=999, sizes=M, k_neigh=3)\n",
    "boot.obj\n",
    "p_value = mean(c(boot.obj$t, boot.obj$t0) >= boot.obj$t0)\n",
    "p_value\n"
   ]
  },
  {
   "cell_type": "code",
   "execution_count": 112,
   "metadata": {},
   "outputs": [
    {
     "name": "stdout",
     "output_type": "stream",
     "text": [
      "[1] 0.311\n",
      "[1] 0.43\n",
      "[1] 0.642\n",
      "[1] 0.615\n",
      "[1] 0.467\n",
      "[1] 0.626\n",
      "[1] 0.916\n",
      "[1] 0.781\n",
      "[1] 0.47\n",
      "[1] 1\n"
     ]
    }
   ],
   "source": [
    "M <- c(5, 6)\n",
    "katy=c(1,2,3,4,5,6,7,8,9,10)\n",
    "for(i in 1:length(katy)){\n",
    "  boot.obj <- boot (data = z, statistic =T ,sim = \"permutation\", R = 999, sizes = M,k_neigh=katy[i]) \n",
    "  p <- ((sum(boot.obj$t>=boot.obj$t0))+1)/1000  # p wartość \n",
    "  print(p) }"
   ]
  }
 ],
 "metadata": {
  "kernelspec": {
   "display_name": "R",
   "language": "R",
   "name": "ir"
  },
  "language_info": {
   "codemirror_mode": "r",
   "file_extension": ".r",
   "mimetype": "text/x-r-source",
   "name": "R",
   "pygments_lexer": "r",
   "version": "3.6.1"
  },
  "toc": {
   "base_numbering": 1,
   "nav_menu": {},
   "number_sections": true,
   "sideBar": true,
   "skip_h1_title": false,
   "title_cell": "Table of Contents",
   "title_sidebar": "Contents",
   "toc_cell": false,
   "toc_position": {},
   "toc_section_display": true,
   "toc_window_display": false
  },
  "varInspector": {
   "cols": {
    "lenName": 16,
    "lenType": 16,
    "lenVar": 40
   },
   "kernels_config": {
    "python": {
     "delete_cmd_postfix": "",
     "delete_cmd_prefix": "del ",
     "library": "var_list.py",
     "varRefreshCmd": "print(var_dic_list())"
    },
    "r": {
     "delete_cmd_postfix": ") ",
     "delete_cmd_prefix": "rm(",
     "library": "var_list.r",
     "varRefreshCmd": "cat(var_dic_list()) "
    }
   },
   "types_to_exclude": [
    "module",
    "function",
    "builtin_function_or_method",
    "instance",
    "_Feature"
   ],
   "window_display": false
  }
 },
 "nbformat": 4,
 "nbformat_minor": 2
}
