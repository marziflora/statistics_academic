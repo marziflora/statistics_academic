{
 "cells": [
  {
   "cell_type": "code",
   "execution_count": 88,
   "metadata": {},
   "outputs": [
    {
     "data": {
      "text/html": [
       "<table>\n",
       "<thead><tr><th scope=col>X1</th><th scope=col>X2</th><th scope=col>X3</th><th scope=col>X4</th></tr></thead>\n",
       "<tbody>\n",
       "\t<tr><td> 7.0</td><td>16.0</td><td>10.5</td><td>13.5</td></tr>\n",
       "\t<tr><td>14.0</td><td>15.5</td><td>15.0</td><td>21.0</td></tr>\n",
       "\t<tr><td> 8.5</td><td>16.5</td><td> 9.5</td><td>13.5</td></tr>\n",
       "</tbody>\n",
       "</table>\n"
      ],
      "text/latex": [
       "\\begin{tabular}{r|llll}\n",
       " X1 & X2 & X3 & X4\\\\\n",
       "\\hline\n",
       "\t  7.0 & 16.0 & 10.5 & 13.5\\\\\n",
       "\t 14.0 & 15.5 & 15.0 & 21.0\\\\\n",
       "\t  8.5 & 16.5 &  9.5 & 13.5\\\\\n",
       "\\end{tabular}\n"
      ],
      "text/markdown": [
       "\n",
       "| X1 | X2 | X3 | X4 |\n",
       "|---|---|---|---|\n",
       "|  7.0 | 16.0 | 10.5 | 13.5 |\n",
       "| 14.0 | 15.5 | 15.0 | 21.0 |\n",
       "|  8.5 | 16.5 |  9.5 | 13.5 |\n",
       "\n"
      ],
      "text/plain": [
       "  X1   X2   X3   X4  \n",
       "1  7.0 16.0 10.5 13.5\n",
       "2 14.0 15.5 15.0 21.0\n",
       "3  8.5 16.5  9.5 13.5"
      ]
     },
     "metadata": {},
     "output_type": "display_data"
    }
   ],
   "source": [
    "#1\n",
    "x = matrix(c(7,16,10.5, 13.5,\n",
    "             14, 15.5, 15, 21,\n",
    "            8.5, 16.5, 9.5, 13.5), byrow=TRUE, nrow = 3, ncol = 4)\n",
    "\n",
    "x = data.frame(x)\n",
    "a = dim(x)[1]\n",
    "b = dim(x)[2]\n",
    "N = a*b\n",
    "x"
   ]
  },
  {
   "cell_type": "code",
   "execution_count": 89,
   "metadata": {},
   "outputs": [
    {
     "name": "stdout",
     "output_type": "stream",
     "text": [
      "[1] 5.143253\n"
     ]
    },
    {
     "data": {
      "text/html": [
       "<table>\n",
       "<thead><tr><th></th><th scope=col>SumaKwadratow</th><th scope=col>StopnieSwobody</th><th scope=col>SredniKwadrat</th><th scope=col>F</th></tr></thead>\n",
       "<tbody>\n",
       "\t<tr><th scope=row>czynnik</th><td>54.125          </td><td>2               </td><td>27.0625         </td><td>5.75627769571637</td></tr>\n",
       "\t<tr><th scope=row>bloki</th><td>87.7291666666665</td><td>3               </td><td>29.2430555555555</td><td>6.22008862629242</td></tr>\n",
       "\t<tr><th scope=row>blad</th><td>28.2083333333335</td><td>6               </td><td>4.70138888888891</td><td>-               </td></tr>\n",
       "\t<tr><th scope=row>calkowita</th><td>170.0625        </td><td>11              </td><td>-               </td><td>-               </td></tr>\n",
       "</tbody>\n",
       "</table>\n"
      ],
      "text/latex": [
       "\\begin{tabular}{r|llll}\n",
       "  & SumaKwadratow & StopnieSwobody & SredniKwadrat & F\\\\\n",
       "\\hline\n",
       "\tczynnik & 54.125           & 2                & 27.0625          & 5.75627769571637\\\\\n",
       "\tbloki & 87.7291666666665 & 3                & 29.2430555555555 & 6.22008862629242\\\\\n",
       "\tblad & 28.2083333333335 & 6                & 4.70138888888891 & -               \\\\\n",
       "\tcalkowita & 170.0625         & 11               & -                & -               \\\\\n",
       "\\end{tabular}\n"
      ],
      "text/markdown": [
       "\n",
       "| <!--/--> | SumaKwadratow | StopnieSwobody | SredniKwadrat | F |\n",
       "|---|---|---|---|---|\n",
       "| czynnik | 54.125           | 2                | 27.0625          | 5.75627769571637 |\n",
       "| bloki | 87.7291666666665 | 3                | 29.2430555555555 | 6.22008862629242 |\n",
       "| blad | 28.2083333333335 | 6                | 4.70138888888891 | -                |\n",
       "| calkowita | 170.0625         | 11               | -                | -                |\n",
       "\n"
      ],
      "text/plain": [
       "          SumaKwadratow    StopnieSwobody SredniKwadrat    F               \n",
       "czynnik   54.125           2              27.0625          5.75627769571637\n",
       "bloki     87.7291666666665 3              29.2430555555555 6.22008862629242\n",
       "blad      28.2083333333335 6              4.70138888888891 -               \n",
       "calkowita 170.0625         11             -                -               "
      ]
     },
     "metadata": {},
     "output_type": "display_data"
    }
   ],
   "source": [
    "analiza_wariancji <- function(x, estymacja=FALSE, a.brak=0, b.brak=0){\n",
    "    a = dim(x)[1]\n",
    "    b = dim(x)[2]\n",
    "    N = a*b\n",
    "    if (estymacja==TRUE) {  y2 = sum(rowSums(x, na.rm=TRUE)[a.brak], na.rm=TRUE)\n",
    "                            y3 = sum(colSums(x, na.rm=TRUE)[b.brak], na.rm=TRUE)\n",
    "                            y.. = sum(x, na.rm=TRUE)\n",
    "                            x_estymowane = (a*y2+b*y3-y..)/((a-1)*(b-1))\n",
    "                            cat(\"x_estymowane:\", x_estymowane, \"\\n\")\n",
    "                            H = ((y3-(a-1)*x_estymowane)**2)/(a*(a-1))\n",
    "                            SSA = sum(rowSums(x, na.rm=TRUE)**2)/b -sum(x, na.rm=TRUE)**2/N  - H }   #x[5,6] to suma y.i=y j.\n",
    "    else { SSA = sum(rowSums(x, na.rm=TRUE)**2)/b -sum(x, na.rm=TRUE)**2/N }\n",
    "    \n",
    "SST = sum(x**2, na.rm=TRUE)           -  sum(x, na.rm=TRUE)**2/N \n",
    "SSB = sum(colSums(x, na.rm=TRUE)**2)/a - sum(x, na.rm=TRUE)**2/N\n",
    "SSE = SST - SSA - SSB\n",
    "    \n",
    "MSA = SSA/(a-1)\n",
    "MSB = SSB/(b-1)\n",
    "MSE = SSE/((a-1)*(b-1))\n",
    "    \n",
    "F0_A = MSA/MSE\n",
    "F0_B = MSB/MSE    \n",
    "f_ztablic = qf(p=0.95, df1=(a-1), df2=((a-1)*(b-1)))\n",
    "print(f_ztablic)\n",
    "#     if (f_ztablic > F0){ print(\"H0\")}\n",
    "#     else {print(\"H1\")}\n",
    "tabela <-   rbind(c(SSA, (a-1), MSA, F0_A),\n",
    "                  c(SSB, (b-1), MSB, F0_B),\n",
    "                  c(SSE, ((a-1)*(b-1)), MSE, \"-\"),\n",
    "                  c(SST, N-1, \"-\", \"-\"))\n",
    "  colnames(tabela) <- c(\"SumaKwadratow\", \"StopnieSwobody\", \"SredniKwadrat\", \"F\")\n",
    "  rownames(tabela) <- c(\"czynnik\", \"bloki\", \"blad\", \"calkowita\")\n",
    "    \n",
    "return (tabela) }\n",
    "analiza_wariancji(x) #dla bloków: F: 21.6"
   ]
  },
  {
   "cell_type": "code",
   "execution_count": 87,
   "metadata": {},
   "outputs": [
    {
     "name": "stdout",
     "output_type": "stream",
     "text": [
      "x_estymowane: 5.25 \n",
      "[1] 3.490295\n"
     ]
    },
    {
     "data": {
      "text/html": [
       "<table>\n",
       "<thead><tr><th></th><th scope=col>SumaKwadratow</th><th scope=col>StopnieSwobody</th><th scope=col>SredniKwadrat</th><th scope=col>F</th></tr></thead>\n",
       "<tbody>\n",
       "\t<tr><th scope=row>czynnik</th><td>20.0697916666667</td><td>3               </td><td>6.68993055555556</td><td>2.08895996530507</td></tr>\n",
       "\t<tr><th scope=row>bloki</th><td>124.5           </td><td>4               </td><td>31.125          </td><td>9.71891686769848</td></tr>\n",
       "\t<tr><th scope=row>blad</th><td>38.4302083333333</td><td>12              </td><td>3.20251736111111</td><td>-               </td></tr>\n",
       "\t<tr><th scope=row>calkowita</th><td>183             </td><td>19              </td><td>-               </td><td>-               </td></tr>\n",
       "</tbody>\n",
       "</table>\n"
      ],
      "text/latex": [
       "\\begin{tabular}{r|llll}\n",
       "  & SumaKwadratow & StopnieSwobody & SredniKwadrat & F\\\\\n",
       "\\hline\n",
       "\tczynnik & 20.0697916666667 & 3                & 6.68993055555556 & 2.08895996530507\\\\\n",
       "\tbloki & 124.5            & 4                & 31.125           & 9.71891686769848\\\\\n",
       "\tblad & 38.4302083333333 & 12               & 3.20251736111111 & -               \\\\\n",
       "\tcalkowita & 183              & 19               & -                & -               \\\\\n",
       "\\end{tabular}\n"
      ],
      "text/markdown": [
       "\n",
       "| <!--/--> | SumaKwadratow | StopnieSwobody | SredniKwadrat | F |\n",
       "|---|---|---|---|---|\n",
       "| czynnik | 20.0697916666667 | 3                | 6.68993055555556 | 2.08895996530507 |\n",
       "| bloki | 124.5            | 4                | 31.125           | 9.71891686769848 |\n",
       "| blad | 38.4302083333333 | 12               | 3.20251736111111 | -                |\n",
       "| calkowita | 183              | 19               | -                | -                |\n",
       "\n"
      ],
      "text/plain": [
       "          SumaKwadratow    StopnieSwobody SredniKwadrat    F               \n",
       "czynnik   20.0697916666667 3              6.68993055555556 2.08895996530507\n",
       "bloki     124.5            4              31.125           9.71891686769848\n",
       "blad      38.4302083333333 12             3.20251736111111 -               \n",
       "calkowita 183              19             -                -               "
      ]
     },
     "metadata": {},
     "output_type": "display_data"
    }
   ],
   "source": [
    "# x[3,2] = NA\n",
    "x[2,3] = NA\n",
    "analiza_wariancji(x, estymacja=TRUE, 2,3)"
   ]
  },
  {
   "cell_type": "code",
   "execution_count": 92,
   "metadata": {},
   "outputs": [
    {
     "data": {
      "text/html": [
       "3"
      ],
      "text/latex": [
       "3"
      ],
      "text/markdown": [
       "3"
      ],
      "text/plain": [
       "[1] 3"
      ]
     },
     "metadata": {},
     "output_type": "display_data"
    }
   ],
   "source": [
    "#2 Częściowo zrównoważone niekompletne bloki (różne lambdy)\n",
    "#yij = mi + tau i + Betaj + eij\n",
    "x = matrix(c(  14, NA, NA, 10, NA, 16,\n",
    "             10, NA, 12, 15, NA, NA,\n",
    "             20, 24, NA, NA, 19, NA,\n",
    "             NA, 16, NA, 11, 10, NA,\n",
    "             NA, 13, 17, NA, NA, 12,\n",
    "             NA, NA, 9, NA, 10, 8), byrow=TRUE, nrow = 6, ncol =6 )\n",
    "x = data.frame(x)\n",
    "k = 3\n",
    "r = 3\n",
    "N = k*a\n",
    "lambda = (r*(k-1))/(a-1)\n",
    "lambda #lambda całkowita"
   ]
  },
  {
   "cell_type": "code",
   "execution_count": 93,
   "metadata": {},
   "outputs": [
    {
     "name": "stdout",
     "output_type": "stream",
     "text": [
      "a = 6 \n",
      "b = 6 \n",
      "k = 3 \n",
      "r = 6 \n",
      "     [,1] [,2] [,3]\n",
      "[1,]    1    2    3\n",
      "[2,]    3    4    5\n",
      "[3,]    2    5    6\n",
      "[4,]    1    2    4\n",
      "[5,]    3    4    6\n",
      "[6,]    1    5    6\n",
      "\n",
      " 1  2 \n",
      "12  3 \n"
     ]
    },
    {
     "data": {
      "text/html": [
       "<ol class=list-inline>\n",
       "\t<li>1</li>\n",
       "\t<li>2</li>\n",
       "</ol>\n"
      ],
      "text/latex": [
       "\\begin{enumerate*}\n",
       "\\item 1\n",
       "\\item 2\n",
       "\\end{enumerate*}\n"
      ],
      "text/markdown": [
       "1. 1\n",
       "2. 2\n",
       "\n",
       "\n"
      ],
      "text/plain": [
       "[1] 1 2"
      ]
     },
     "metadata": {},
     "output_type": "display_data"
    },
    {
     "name": "stdout",
     "output_type": "stream",
     "text": [
      "[1] 1\n",
      "Pjk dla lambdy =  1 \n",
      "     [,1] [,2]\n",
      "[1,]    2    1\n",
      "[2,]    1    0\n",
      "[1] 2\n",
      "Pjk dla lambdy =  2 \n",
      "     [,1] [,2]\n",
      "[1,]    4    0\n",
      "[2,]    0    0\n"
     ]
    }
   ],
   "source": [
    "tabela_wspolna <- function(dane) {\n",
    "  a = nrow(dane)\n",
    "  cat(\"a =\",a,\"\\n\")\n",
    "  b = ncol(dane)\n",
    "  cat(\"b =\",b,\"\\n\")\n",
    "  k = length(na.omit(dane[,1]))\n",
    "  cat(\"k =\",k,\"\\n\")\n",
    "  r = length(na.omit(dane[1,]))\n",
    "  cat(\"r =\",r,\"\\n\")  \n",
    "  kombinacje <- rbind(c())\n",
    "  for (i in 1:b) {\n",
    "    kombinacje <- rbind(kombinacje,which(!is.na(dane[,i]))) }\n",
    "  print(kombinacje)  \n",
    "  lambda <- rbind(c())\n",
    "  for (i in 1:(b-1)) { \n",
    "    for (j in (i+1):b) {\n",
    "      licznik = 0\n",
    "      for (x in 1:a) {\n",
    "        if ((i %in% kombinacje[x,]) & (j %in% kombinacje[x,])) {\n",
    "          licznik = licznik + 1  } }\n",
    "      lambda <- rbind(lambda,c(i,j,licznik)) }  }\n",
    "  tabela <- table(lambda[,3])\n",
    "  print(tabela) \n",
    "  return(lambda)}\n",
    "table = tabela_wspolna(x)\n",
    "table = data.frame(table)\n",
    "colnames(table) = c(\"pierwszy\",\"drugi\", \"lambda\")\n",
    "table = table[with(table, order(lambda)),]\n",
    "lambdy = unique(table$lambda)\n",
    "lambdy \n",
    "\n",
    "for (i in 1:length(lambdy)){ #dla każdej lambdy\n",
    "    print(i)\n",
    "    size = length(lambdy)\n",
    "    sub = subset(table, lambda==lambdy[i]) #podzbiór lambdy\n",
    "    cat(\"Pjk dla lambdy = \",lambdy[i], \"\\n\")\n",
    "    pjk = matrix(c(rep(0, size), rep(0, size) ), byrow=TRUE, nrow=size, ncol=size)\n",
    "    for (j in 1:length(lambdy)){ \n",
    "        for (k in 1:length(lambdy)){\n",
    "        x1 = c(subset(table, pierwszy==sub[1,1] & lambda == lambdy[j])$drugi,subset(table, drugi==sub[1,1] & lambda == lambdy[j])$pierwszy) #stowarzyszenie dla lambdy[j]\n",
    "        y1 = c(subset(table, pierwszy==sub[1,2] & lambda == lambdy[k])$drugi,subset(table, drugi==sub[1,2] & lambda == lambdy[k])$pierwszy) #stowarzyszenie dla lambdy[k]\n",
    "        pjk[j,k] = length(intersect(x1,y1))     }}\n",
    "print(pjk) }"
   ]
  },
  {
   "cell_type": "code",
   "execution_count": 97,
   "metadata": {},
   "outputs": [
    {
     "data": {
      "text/html": [
       "<table>\n",
       "<thead><tr><th></th><th scope=col>X1antybiotyk</th><th scope=col>X2antybiotyk</th></tr></thead>\n",
       "<tbody>\n",
       "\t<tr><th scope=row>Skuteczny</th><td>44</td><td>65</td></tr>\n",
       "\t<tr><th scope=row>Nieskuteczny</th><td> 1</td><td>32</td></tr>\n",
       "</tbody>\n",
       "</table>\n"
      ],
      "text/latex": [
       "\\begin{tabular}{r|ll}\n",
       "  & X1antybiotyk & X2antybiotyk\\\\\n",
       "\\hline\n",
       "\tSkuteczny & 44 & 65\\\\\n",
       "\tNieskuteczny &  1 & 32\\\\\n",
       "\\end{tabular}\n"
      ],
      "text/markdown": [
       "\n",
       "| <!--/--> | X1antybiotyk | X2antybiotyk |\n",
       "|---|---|---|\n",
       "| Skuteczny | 44 | 65 |\n",
       "| Nieskuteczny |  1 | 32 |\n",
       "\n"
      ],
      "text/plain": [
       "             X1antybiotyk X2antybiotyk\n",
       "Skuteczny    44           65          \n",
       "Nieskuteczny  1           32          "
      ]
     },
     "metadata": {},
     "output_type": "display_data"
    }
   ],
   "source": [
    "#3\n",
    "x = matrix(c(44, 65, 1, 32), byrow=TRUE, ncol=2, nrow=2)\n",
    "colnames(x) <- c(\"1antybiotyk\", \"2antybiotyk\") \n",
    "rownames(x) <- c(\"Skuteczny\",\"Nieskuteczny\") \n",
    "x = data.frame(x) #??\n",
    "x"
   ]
  },
  {
   "cell_type": "code",
   "execution_count": 99,
   "metadata": {},
   "outputs": [
    {
     "data": {
      "text/plain": [
       "\n",
       "\tPearson's Chi-squared test\n",
       "\n",
       "data:  x\n",
       "X-squared = 16.312, df = 1, p-value = 5.371e-05\n"
      ]
     },
     "metadata": {},
     "output_type": "display_data"
    }
   ],
   "source": [
    "chisq.test(x,correct=FALSE)"
   ]
  },
  {
   "cell_type": "code",
   "execution_count": 3,
   "metadata": {},
   "outputs": [
    {
     "data": {
      "text/plain": [
       "\n",
       "\tShapiro-Wilk normality test\n",
       "\n",
       "data:  x\n",
       "W = 0.91063, p-value = 0.3585\n"
      ]
     },
     "metadata": {},
     "output_type": "display_data"
    },
    {
     "data": {
      "text/plain": [
       "\n",
       "\tShapiro-Wilk normality test\n",
       "\n",
       "data:  y\n",
       "W = 0.9498, p-value = 0.7279\n"
      ]
     },
     "metadata": {},
     "output_type": "display_data"
    }
   ],
   "source": [
    "#4\n",
    "shapiro.test(x)\n",
    "shapiro.test(y)"
   ]
  },
  {
   "cell_type": "code",
   "execution_count": 8,
   "metadata": {},
   "outputs": [
    {
     "data": {
      "text/html": [
       "0.396891996891997"
      ],
      "text/latex": [
       "0.396891996891997"
      ],
      "text/markdown": [
       "0.396891996891997"
      ],
      "text/plain": [
       "[1] 0.396892"
      ]
     },
     "metadata": {},
     "output_type": "display_data"
    }
   ],
   "source": [
    "#6 H0: nie różnią się H1: różnia się\n",
    "x=c(12,13,18,25,42,19,22,35)\n",
    "y=c(23,30,27,17,21,33,31)\n",
    "\n",
    "xy <- c(x,y)\n",
    "\n",
    "n <- length(x)\n",
    "m <- length(y)\n",
    "N <- choose(n+m, n)\n",
    "com <- combn(n+m, n)\n",
    "cnt <- 0\n",
    "\n",
    "stat <-  wilcox.test(x,y)$statistic \n",
    "for (i in 1:N)\n",
    "{ x1 <- xy[com[, i]]\n",
    "  y1 <- xy[-com[, i]]\n",
    "  if(wilcox.test(x1,y1)$statistic>=stat)\n",
    "  { cnt = cnt + 1 } }\n",
    "cs = cnt/N\n",
    "if (cs <= 0.5) p = 2*cs\n",
    "if (cs > 0.5) p = 2-2*cs\n",
    "p"
   ]
  },
  {
   "cell_type": "code",
   "execution_count": 9,
   "metadata": {},
   "outputs": [
    {
     "data": {
      "text/html": [
       "182"
      ],
      "text/latex": [
       "182"
      ],
      "text/markdown": [
       "182"
      ],
      "text/plain": [
       "[1] 182"
      ]
     },
     "metadata": {},
     "output_type": "display_data"
    },
    {
     "data": {
      "text/html": [
       "<ol class=list-inline>\n",
       "\t<li>12</li>\n",
       "\t<li>13</li>\n",
       "\t<li>18</li>\n",
       "\t<li>25</li>\n",
       "\t<li>42</li>\n",
       "\t<li>19</li>\n",
       "\t<li>22</li>\n",
       "\t<li>35</li>\n",
       "\t<li>23</li>\n",
       "\t<li>30</li>\n",
       "\t<li>27</li>\n",
       "\t<li>17</li>\n",
       "\t<li>21</li>\n",
       "\t<li>33</li>\n",
       "\t<li>31</li>\n",
       "</ol>\n"
      ],
      "text/latex": [
       "\\begin{enumerate*}\n",
       "\\item 12\n",
       "\\item 13\n",
       "\\item 18\n",
       "\\item 25\n",
       "\\item 42\n",
       "\\item 19\n",
       "\\item 22\n",
       "\\item 35\n",
       "\\item 23\n",
       "\\item 30\n",
       "\\item 27\n",
       "\\item 17\n",
       "\\item 21\n",
       "\\item 33\n",
       "\\item 31\n",
       "\\end{enumerate*}\n"
      ],
      "text/markdown": [
       "1. 12\n",
       "2. 13\n",
       "3. 18\n",
       "4. 25\n",
       "5. 42\n",
       "6. 19\n",
       "7. 22\n",
       "8. 35\n",
       "9. 23\n",
       "10. 30\n",
       "11. 27\n",
       "12. 17\n",
       "13. 21\n",
       "14. 33\n",
       "15. 31\n",
       "\n",
       "\n"
      ],
      "text/plain": [
       " [1] 12 13 18 25 42 19 22 35 23 30 27 17 21 33 31"
      ]
     },
     "metadata": {},
     "output_type": "display_data"
    },
    {
     "data": {
      "text/html": [
       "0.283294483294483"
      ],
      "text/latex": [
       "0.283294483294483"
      ],
      "text/markdown": [
       "0.283294483294483"
      ],
      "text/plain": [
       "[1] 0.2832945"
      ]
     },
     "metadata": {},
     "output_type": "display_data"
    }
   ],
   "source": [
    "#H0:czasy wykonywania wybranego\n",
    "\n",
    "x=c(12,13,18,25,42,19,22,35)\n",
    "y=c(23,30,27,17,21,33,31) #jeżeli by były większe, to zliczylibyśmy większych 0\n",
    "\n",
    "m=length(x)\n",
    "n=length(y)\n",
    "N=choose((n+m),m)\n",
    "\n",
    "suma=sum(y)\n",
    "suma\n",
    "z=c(x,y)\n",
    "z\n",
    "xyz=combn((n+m),m)\n",
    "cnt=0\n",
    "\n",
    "for (i in 2:N){\n",
    "  x1=z[xyz[,i]]\n",
    "  y1=z[-xyz[,i]]\n",
    "  if (sum(y1)>=suma){cnt=cnt+1}\n",
    "}\n",
    "p=cnt/N\n",
    "p\n"
   ]
  }
 ],
 "metadata": {
  "kernelspec": {
   "display_name": "R",
   "language": "R",
   "name": "ir"
  },
  "language_info": {
   "codemirror_mode": "r",
   "file_extension": ".r",
   "mimetype": "text/x-r-source",
   "name": "R",
   "pygments_lexer": "r",
   "version": "3.6.1"
  },
  "toc": {
   "base_numbering": 1,
   "nav_menu": {},
   "number_sections": true,
   "sideBar": true,
   "skip_h1_title": false,
   "title_cell": "Table of Contents",
   "title_sidebar": "Contents",
   "toc_cell": false,
   "toc_position": {},
   "toc_section_display": true,
   "toc_window_display": false
  },
  "varInspector": {
   "cols": {
    "lenName": 16,
    "lenType": 16,
    "lenVar": 40
   },
   "kernels_config": {
    "python": {
     "delete_cmd_postfix": "",
     "delete_cmd_prefix": "del ",
     "library": "var_list.py",
     "varRefreshCmd": "print(var_dic_list())"
    },
    "r": {
     "delete_cmd_postfix": ") ",
     "delete_cmd_prefix": "rm(",
     "library": "var_list.r",
     "varRefreshCmd": "cat(var_dic_list()) "
    }
   },
   "types_to_exclude": [
    "module",
    "function",
    "builtin_function_or_method",
    "instance",
    "_Feature"
   ],
   "window_display": false
  }
 },
 "nbformat": 4,
 "nbformat_minor": 2
}
