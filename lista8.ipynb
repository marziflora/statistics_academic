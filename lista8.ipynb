{
 "cells": [
  {
   "cell_type": "code",
   "execution_count": 12,
   "metadata": {},
   "outputs": [],
   "source": [
    "#1. kwadratu Youdena\n",
    "x = matrix(c(2,9,0,14,\n",
    "             6,5,5,3,\n",
    "             1,9,0,7,\n",
    "             8,8,10,4,\n",
    "             7,6,11,10), byrow=TRUE, nrow = 5, ncol = 4)\n",
    "colnames(x) <- c(1:4)\n",
    "a = 5\n",
    "b = 5\n",
    "N = 20 #sumarycznie ile elementów\n",
    "k = 4  #replikacje dla kolumny (b)\n",
    "r=4 #replikacje w wierszu (dla a)\n",
    "lambda = (r*(k-1))/(a-1) #4\n",
    "Lac = matrix(c( \"A\", \"B\", \"C\", \"D\",\n",
    "                \"B\", \"A\", \"E\", \"C\",\n",
    "                \"C\", \"D\", \"A\", \"E\",\n",
    "                \"D\", \"E\", \"B\", \"A\",\n",
    "                \"E\", \"C\", \"D\", \"B\"), byrow=TRUE, nrow = 5, ncol = 4)"
   ]
  },
  {
   "cell_type": "code",
   "execution_count": 13,
   "metadata": {},
   "outputs": [],
   "source": [
    "dane = cbind(as.list(Lac), as.list(x))\n",
    "dane = data.frame(dane)\n",
    "colnames(dane) = c(\"Lac\", \"Nr\")\n",
    "uniq = unique(sort(Lac))\n",
    "y.x. <- numeric(length(uniq))\n",
    "for (i in 1:length(uniq)) {    y.x.[i] = sum(unlist(subset(dane, Lac==uniq[i])$Nr)) }"
   ]
  },
  {
   "cell_type": "code",
   "execution_count": 14,
   "metadata": {},
   "outputs": [],
   "source": [
    "idx_exist <- function(data, value){\n",
    "    index = numeric(nrow(data))\n",
    "    for (i in 1:nrow(data)){\n",
    "        if (any(data[i,]==value)==TRUE){\n",
    "           index[i] = i  } }\n",
    "    return (index) }"
   ]
  },
  {
   "cell_type": "code",
   "execution_count": 15,
   "metadata": {},
   "outputs": [],
   "source": [
    "sum_of_value_in_row <- function(data, Lac, row){\n",
    "    index = numeric(ncol(data))\n",
    "    myLetters <- LETTERS[1:26] \n",
    "    index = y.x.[match(Lac[row,], myLetters)]\n",
    "    return (index) }"
   ]
  },
  {
   "cell_type": "code",
   "execution_count": 17,
   "metadata": {},
   "outputs": [
    {
     "data": {
      "text/html": [
       "<table>\n",
       "<tbody>\n",
       "\t<tr><td>A</td><td>B</td><td>C</td><td>D</td></tr>\n",
       "\t<tr><td>B</td><td>A</td><td>E</td><td>C</td></tr>\n",
       "\t<tr><td>C</td><td>D</td><td>A</td><td>E</td></tr>\n",
       "\t<tr><td>D</td><td>E</td><td>B</td><td>A</td></tr>\n",
       "\t<tr><td>E</td><td>C</td><td>D</td><td>B</td></tr>\n",
       "</tbody>\n",
       "</table>\n"
      ],
      "text/latex": [
       "\\begin{tabular}{llll}\n",
       "\t A & B & C & D\\\\\n",
       "\t B & A & E & C\\\\\n",
       "\t C & D & A & E\\\\\n",
       "\t D & E & B & A\\\\\n",
       "\t E & C & D & B\\\\\n",
       "\\end{tabular}\n"
      ],
      "text/markdown": [
       "\n",
       "| A | B | C | D |\n",
       "| B | A | E | C |\n",
       "| C | D | A | E |\n",
       "| D | E | B | A |\n",
       "| E | C | D | B |\n",
       "\n"
      ],
      "text/plain": [
       "     [,1] [,2] [,3] [,4]\n",
       "[1,] A    B    C    D   \n",
       "[2,] B    A    E    C   \n",
       "[3,] C    D    A    E   \n",
       "[4,] D    E    B    A   \n",
       "[5,] E    C    D    B   "
      ]
     },
     "metadata": {},
     "output_type": "display_data"
    }
   ],
   "source": [
    "Lac"
   ]
  },
  {
   "cell_type": "code",
   "execution_count": 11,
   "metadata": {},
   "outputs": [
    {
     "data": {
      "text/html": [
       "<ol>\n",
       "\t<li>-11.75</li>\n",
       "\t<li>8</li>\n",
       "\t<li>-13.75</li>\n",
       "\t<li>15.5</li>\n",
       "\t<li>2</li>\n",
       "</ol>\n"
      ],
      "text/latex": [
       "\\begin{enumerate}\n",
       "\\item -11.75\n",
       "\\item 8\n",
       "\\item -13.75\n",
       "\\item 15.5\n",
       "\\item 2\n",
       "\\end{enumerate}\n"
      ],
      "text/markdown": [
       "1. -11.75\n",
       "2. 8\n",
       "3. -13.75\n",
       "4. 15.5\n",
       "5. 2\n",
       "\n",
       "\n"
      ],
      "text/plain": [
       "[[1]]\n",
       "[1] -11.75\n",
       "\n",
       "[[2]]\n",
       "[1] 8\n",
       "\n",
       "[[3]]\n",
       "[1] -13.75\n",
       "\n",
       "[[4]]\n",
       "[1] 15.5\n",
       "\n",
       "[[5]]\n",
       "[1] 2\n"
      ]
     },
     "metadata": {},
     "output_type": "display_data"
    },
    {
     "data": {
      "text/html": [
       "<ol>\n",
       "\t<li>0.5</li>\n",
       "\t<li>-1.75</li>\n",
       "\t<li>-5.5</li>\n",
       "\t<li>1.25</li>\n",
       "\t<li>5.5</li>\n",
       "</ol>\n"
      ],
      "text/latex": [
       "\\begin{enumerate}\n",
       "\\item 0.5\n",
       "\\item -1.75\n",
       "\\item -5.5\n",
       "\\item 1.25\n",
       "\\item 5.5\n",
       "\\end{enumerate}\n"
      ],
      "text/markdown": [
       "1. 0.5\n",
       "2. -1.75\n",
       "3. -5.5\n",
       "4. 1.25\n",
       "5. 5.5\n",
       "\n",
       "\n"
      ],
      "text/plain": [
       "[[1]]\n",
       "[1] 0.5\n",
       "\n",
       "[[2]]\n",
       "[1] -1.75\n",
       "\n",
       "[[3]]\n",
       "[1] -5.5\n",
       "\n",
       "[[4]]\n",
       "[1] 1.25\n",
       "\n",
       "[[5]]\n",
       "[1] 5.5\n"
      ]
     },
     "metadata": {},
     "output_type": "display_data"
    },
    {
     "data": {
      "text/html": [
       "<table>\n",
       "<thead><tr><th></th><th scope=col>SumaKwadratów</th><th scope=col>StopnieSwobody</th><th scope=col>ŚredniKwadrat</th><th scope=col>F</th></tr></thead>\n",
       "<tbody>\n",
       "\t<tr><th scope=row>cz. dopasowany</th><td>169.43333</td><td> 4       </td><td>42.358333</td><td>14.69075 </td></tr>\n",
       "\t<tr><th scope=row>wiersz(niedop)</th><td> 51.50000</td><td> 4       </td><td>12.875000</td><td>      NA </td></tr>\n",
       "\t<tr><th scope=row>wiersz(dop)</th><td> 17.43333</td><td> 4       </td><td>       NA</td><td>      NA </td></tr>\n",
       "\t<tr><th scope=row>kolumna</th><td> 31.75000</td><td> 3       </td><td>10.583333</td><td>      NA </td></tr>\n",
       "\t<tr><th scope=row>bład</th><td> 23.06667</td><td> 8       </td><td> 2.883333</td><td>      NA </td></tr>\n",
       "\t<tr><th scope=row>całkowita</th><td>275.75000</td><td>19       </td><td>       NA</td><td>      NA </td></tr>\n",
       "</tbody>\n",
       "</table>\n"
      ],
      "text/latex": [
       "\\begin{tabular}{r|llll}\n",
       "  & SumaKwadratów & StopnieSwobody & ŚredniKwadrat & F\\\\\n",
       "\\hline\n",
       "\tcz. dopasowany & 169.43333 &  4        & 42.358333 & 14.69075 \\\\\n",
       "\twiersz(niedop) &  51.50000 &  4        & 12.875000 &       NA \\\\\n",
       "\twiersz(dop) &  17.43333 &  4        &        NA &       NA \\\\\n",
       "\tkolumna &  31.75000 &  3        & 10.583333 &       NA \\\\\n",
       "\tbład &  23.06667 &  8        &  2.883333 &       NA \\\\\n",
       "\tcałkowita & 275.75000 & 19        &        NA &       NA \\\\\n",
       "\\end{tabular}\n"
      ],
      "text/markdown": [
       "\n",
       "| <!--/--> | SumaKwadratów | StopnieSwobody | ŚredniKwadrat | F |\n",
       "|---|---|---|---|---|\n",
       "| cz. dopasowany | 169.43333 |  4        | 42.358333 | 14.69075  |\n",
       "| wiersz(niedop) |  51.50000 |  4        | 12.875000 |       NA  |\n",
       "| wiersz(dop) |  17.43333 |  4        |        NA |       NA  |\n",
       "| kolumna |  31.75000 |  3        | 10.583333 |       NA  |\n",
       "| bład |  23.06667 |  8        |  2.883333 |       NA  |\n",
       "| całkowita | 275.75000 | 19        |        NA |       NA  |\n",
       "\n"
      ],
      "text/plain": [
       "               SumaKwadratów StopnieSwobody ŚredniKwadrat F       \n",
       "cz. dopasowany 169.43333      4             42.358333     14.69075\n",
       "wiersz(niedop)  51.50000      4             12.875000           NA\n",
       "wiersz(dop)     17.43333      4                    NA           NA\n",
       "kolumna         31.75000      3             10.583333           NA\n",
       "bład            23.06667      8              2.883333           NA\n",
       "całkowita      275.75000     19                    NA           NA"
      ]
     },
     "metadata": {},
     "output_type": "display_data"
    }
   ],
   "source": [
    "Q1 =  y.x.[1] - 1/k*( sum(rowSums(x, na.rm=TRUE)[idx_exist(Lac,\"A\")], na.rm=T))\n",
    "Q2 =  y.x.[2] - 1/k*( sum(rowSums(x, na.rm=TRUE)[idx_exist(Lac,\"B\")], na.rm=T))\n",
    "Q3 =  y.x.[3] - 1/k*( sum(rowSums(x, na.rm=TRUE)[idx_exist(Lac,\"C\")], na.rm=T))\n",
    "Q4 =  y.x.[4] - 1/k*( sum(rowSums(x, na.rm=TRUE)[idx_exist(Lac,\"D\")], na.rm=T))\n",
    "Q5 =  y.x.[5] - 1/k*( sum(rowSums(x, na.rm=TRUE)[idx_exist(Lac,\"E\")], na.rm=T))\n",
    "list(Q1,Q2,Q3,Q4,Q5) \n",
    "Q <- c(Q1,Q2,Q3,Q4,Q5)\n",
    "\n",
    "SST = sum(x**2, na.rm=TRUE)   - sum(rowSums(x, na.rm=TRUE))**2/N\n",
    "SScz = ((k*(sum(Q**2)))/(lambda*a)) #czynnika\n",
    "SSwiersz =  sum(rowSums(x, na.rm=TRUE)**2)/k - sum(rowSums(x, na.rm=TRUE))**2/N #SSB\n",
    "SSkolumna = sum(colSums(x, na.rm=TRUE)**2)/b - sum(rowSums(x, na.rm=TRUE))**2/N #SSs\n",
    "SSE = SST-SScz-SSwiersz-SSkolumna\n",
    "\n",
    "Q1_ = rowSums(x, na.rm=TRUE)[1] - 1/k*(  sum(sum_of_value_in_row(x, Lac, 1), na.rm=T))\n",
    "Q2_ = rowSums(x, na.rm=TRUE)[2] - 1/k*(  sum(sum_of_value_in_row(x, Lac, 2), na.rm=T)) \n",
    "Q3_ = rowSums(x, na.rm=TRUE)[3] - 1/k*(  sum(sum_of_value_in_row(x, Lac, 3), na.rm=T))  \n",
    "Q4_ = rowSums(x, na.rm=TRUE)[4] - 1/k*(  sum(sum_of_value_in_row(x, Lac, 4), na.rm=T))  \n",
    "Q5_ = rowSums(x, na.rm=TRUE)[5] - 1/k*(  sum(sum_of_value_in_row(x, Lac, 5), na.rm=T)) \n",
    "list(Q1_, Q2_, Q3_, Q4_, Q5_)\n",
    "SSwierszdop =  ((k*(sum(c(Q1_, Q2_, Q3_, Q4_, Q5_)**2)))/(lambda*a)) #dopełnienie\n",
    "\n",
    "dfT <- N-1\n",
    "dfcd <- a-1 #łac\n",
    "dfW <- b-1 #wiersz \n",
    "dfK <- b-1-1\n",
    "# dfE <- N-a-b+1\n",
    "dfE <- dfT - dfcd - dfW - dfK\n",
    "\n",
    "MScd = SScz/dfcd\n",
    "MSW = SSwiersz/dfW\n",
    "MSK = SSkolumna/(dfK) #położenie?\n",
    "MSE = SSE/(dfE)\n",
    "F0 = MScd/MSE\n",
    "              \n",
    "tabela <- rbind(c(SScz, dfcd, MScd, F0),\n",
    "                c(SSwiersz, dfW, MSW, NA),\n",
    "                c(SSwierszdop, dfW, NA, NA),\n",
    "                c(SSkolumna, dfK, MSK, NA),\n",
    "                c(SSE, dfE, MSE, NA),\n",
    "                c(SST, dfT, NA, NA))\n",
    "colnames(tabela) <- c(\"SumaKwadratów\", \"StopnieSwobody\", \"ŚredniKwadrat\", \"F\")\n",
    "rownames(tabela) <- c(\"cz. dopasowany\", \"wiersz(niedop)\", \"wiersz(dop)\",  \"kolumna\", \"bład\", \"całkowita\")\n",
    "tabela"
   ]
  },
  {
   "cell_type": "code",
   "execution_count": 51,
   "metadata": {},
   "outputs": [
    {
     "data": {
      "text/html": [
       "4.12031172689763"
      ],
      "text/latex": [
       "4.12031172689763"
      ],
      "text/markdown": [
       "4.12031172689763"
      ],
      "text/plain": [
       "[1] 4.120312"
      ]
     },
     "metadata": {},
     "output_type": "display_data"
    }
   ],
   "source": [
    "qf(p=0.95, df1=(a-1), df2=dfE)"
   ]
  },
  {
   "cell_type": "code",
   "execution_count": null,
   "metadata": {},
   "outputs": [],
   "source": [
    "################### Czesciowo zrównoważone niekompletne bloki ###################\n",
    "#Model statystyczny:\n",
    "# yij = u + ti + bj + eij    gdzie:\n",
    "# u - średnia\n",
    "# ti - efekt i-tego poziomu czynnika\n",
    "# bj - efekt j-tego bloku czynnika\n",
    "# eij - błąd losowy\n",
    "\n",
    "#Model Youdena:\n",
    "#yijh = u + alfa(i) + tau(j) + Bh + e(ijh)\n",
    "#u średnia\n",
    "#alfa - efekt i tego bloku\n",
    "#tauj - efekt j tego poziomu czynnika\n",
    "#beta h - efekt h-tego położenia\n",
    "# kolumna - położenie, blok - wiersz, "
   ]
  },
  {
   "cell_type": "code",
   "execution_count": 4,
   "metadata": {},
   "outputs": [],
   "source": [
    "#Zad2. Częściowo zrównoważone niekompletne bloki\n",
    "x = matrix(c(1, NA, NA, 10, NA, 16,\n",
    "            10, 24, 12, NA, NA, NA,\n",
    "             20, NA, NA, 15, 19, NA,\n",
    "             NA, 16, NA, 11, 10, NA,\n",
    "             NA, 13, 17, NA, NA, 12,\n",
    "             NA, NA, 9, NA, 10, 8), byrow=TRUE, nrow = 6, ncol = 6)\n",
    "colnames(x) <- c(1:6)"
   ]
  },
  {
   "cell_type": "code",
   "execution_count": 2,
   "metadata": {},
   "outputs": [
    {
     "data": {
      "text/html": [
       "<table>\n",
       "<tbody>\n",
       "\t<tr><td> 1</td><td>NA</td><td>NA</td><td> 1</td><td>NA</td><td> 1</td></tr>\n",
       "\t<tr><td> 1</td><td>NA</td><td> 1</td><td> 1</td><td>NA</td><td>NA</td></tr>\n",
       "\t<tr><td> 1</td><td> 1</td><td>NA</td><td>NA</td><td> 1</td><td>NA</td></tr>\n",
       "\t<tr><td>NA</td><td> 1</td><td>NA</td><td> 1</td><td> 1</td><td>NA</td></tr>\n",
       "\t<tr><td>NA</td><td> 1</td><td> 1</td><td>NA</td><td>NA</td><td> 1</td></tr>\n",
       "\t<tr><td>NA</td><td>NA</td><td> 1</td><td>NA</td><td> 1</td><td> 1</td></tr>\n",
       "</tbody>\n",
       "</table>\n"
      ],
      "text/latex": [
       "\\begin{tabular}{llllll}\n",
       "\t  1 & NA & NA &  1 & NA &  1\\\\\n",
       "\t  1 & NA &  1 &  1 & NA & NA\\\\\n",
       "\t  1 &  1 & NA & NA &  1 & NA\\\\\n",
       "\t NA &  1 & NA &  1 &  1 & NA\\\\\n",
       "\t NA &  1 &  1 & NA & NA &  1\\\\\n",
       "\t NA & NA &  1 & NA &  1 &  1\\\\\n",
       "\\end{tabular}\n"
      ],
      "text/markdown": [
       "\n",
       "|  1 | NA | NA |  1 | NA |  1 |\n",
       "|  1 | NA |  1 |  1 | NA | NA |\n",
       "|  1 |  1 | NA | NA |  1 | NA |\n",
       "| NA |  1 | NA |  1 |  1 | NA |\n",
       "| NA |  1 |  1 | NA | NA |  1 |\n",
       "| NA | NA |  1 | NA |  1 |  1 |\n",
       "\n"
      ],
      "text/plain": [
       "     [,1] [,2] [,3] [,4] [,5] [,6]\n",
       "[1,]  1   NA   NA    1   NA    1  \n",
       "[2,]  1   NA    1    1   NA   NA  \n",
       "[3,]  1    1   NA   NA    1   NA  \n",
       "[4,] NA    1   NA    1    1   NA  \n",
       "[5,] NA    1    1   NA   NA    1  \n",
       "[6,] NA   NA    1   NA    1    1  "
      ]
     },
     "metadata": {},
     "output_type": "display_data"
    }
   ],
   "source": [
    "x = matrix(c(1,NA, NA, 1, NA,1,\n",
    "             1,NA, 1,  1, NA,NA,\n",
    "             1, 1, NA,NA, 1, NA,\n",
    "             NA,1,NA,1,1,   NA,\n",
    "             NA, 1,1,NA,NA, 1,\n",
    "            NA,NA, 1,NA,1,1), byrow=TRUE, nrow = 6, ncol = 6)\n",
    "x"
   ]
  },
  {
   "cell_type": "code",
   "execution_count": 5,
   "metadata": {},
   "outputs": [
    {
     "name": "stdout",
     "output_type": "stream",
     "text": [
      "a = 6 \n",
      "b = 6 \n",
      "k = 3 \n",
      "r = 3 \n",
      "     [,1] [,2] [,3]\n",
      "[1,]    1    2    3\n",
      "[2,]    2    4    5\n",
      "[3,]    2    5    6\n",
      "[4,]    1    3    4\n",
      "[5,]    3    4    6\n",
      "[6,]    1    5    6\n",
      "\n",
      " 0  1  2 \n",
      " 1 10  4 \n"
     ]
    },
    {
     "data": {
      "text/html": [
       "<ol class=list-inline>\n",
       "\t<li>0</li>\n",
       "\t<li>1</li>\n",
       "\t<li>2</li>\n",
       "</ol>\n"
      ],
      "text/latex": [
       "\\begin{enumerate*}\n",
       "\\item 0\n",
       "\\item 1\n",
       "\\item 2\n",
       "\\end{enumerate*}\n"
      ],
      "text/markdown": [
       "1. 0\n",
       "2. 1\n",
       "3. 2\n",
       "\n",
       "\n"
      ],
      "text/plain": [
       "[1] 0 1 2"
      ]
     },
     "metadata": {},
     "output_type": "display_data"
    },
    {
     "name": "stdout",
     "output_type": "stream",
     "text": [
      "[1] 1\n",
      "Pjk dla lambdy =  0 \n",
      "     [,1] [,2] [,3]\n",
      "[1,]    0    0    0\n",
      "[2,]    0    0    2\n",
      "[3,]    0    2    0\n",
      "[1] 2\n",
      "Pjk dla lambdy =  1 \n",
      "     [,1] [,2] [,3]\n",
      "[1,]    0    0    0\n",
      "[2,]    0    2    1\n",
      "[3,]    0    1    0\n",
      "[1] 3\n",
      "Pjk dla lambdy =  2 \n",
      "     [,1] [,2] [,3]\n",
      "[1,]    0    0    0\n",
      "[2,]    1    2    1\n",
      "[3,]    0    0    0\n"
     ]
    }
   ],
   "source": [
    "tabela_wspolna <- function(dane) {\n",
    "  a = nrow(dane)\n",
    "  cat(\"a =\",a,\"\\n\")\n",
    "  b = ncol(dane)\n",
    "  cat(\"b =\",b,\"\\n\")\n",
    "  k = length(na.omit(dane[,1]))\n",
    "  cat(\"k =\",k,\"\\n\")\n",
    "  r = length(na.omit(dane[1,]))\n",
    "  cat(\"r =\",r,\"\\n\")  \n",
    "  kombinacje <- rbind(c())\n",
    "  for (i in 1:b) {\n",
    "    kombinacje <- rbind(kombinacje,which(!is.na(dane[,i]))) }\n",
    "  print(kombinacje)  \n",
    "  lambda <- rbind(c())\n",
    "  for (i in 1:(b-1)) { \n",
    "    for (j in (i+1):b) {\n",
    "      licznik = 0\n",
    "      for (x in 1:a) {\n",
    "        if ((i %in% kombinacje[x,]) & (j %in% kombinacje[x,])) {\n",
    "          licznik = licznik + 1  } }\n",
    "      lambda <- rbind(lambda,c(i,j,licznik)) }  }\n",
    "  tabela <- table(lambda[,3])\n",
    "  print(tabela) \n",
    "  return(lambda)}\n",
    "\n",
    "table = tabela_wspolna(x)\n",
    "table = data.frame(table)\n",
    "colnames(table) = c(\"pierwszy\",\"drugi\", \"lambda\")\n",
    "table = table[with(table, order(lambda)),]\n",
    "\n",
    "lambdy = unique(table$lambda)\n",
    "lambdy \n",
    "\n",
    "for (i in 1:length(lambdy)){ #dla każdej lambdy\n",
    "    print(i)\n",
    "    size = length(lambdy)\n",
    "    sub = subset(table, lambda==lambdy[i]) #podzbiór lambdy\n",
    "    cat(\"Pjk dla lambdy = \",lambdy[i], \"\\n\")\n",
    "    pjk = matrix(c(rep(0, size), rep(0, size) ), byrow=TRUE, nrow=size, ncol=size)\n",
    "    for (j in 1:length(lambdy)){ \n",
    "        for (k in 1:length(lambdy)){\n",
    "        x1 = c(subset(table, pierwszy==sub[1,1] & lambda == lambdy[j])$drugi,subset(table, drugi==sub[1,1] & lambda == lambdy[j])$pierwszy) #stowarzyszenie dla lambdy[j]\n",
    "        y1 = c(subset(table, pierwszy==sub[1,2] & lambda == lambdy[k])$drugi,subset(table, drugi==sub[1,2] & lambda == lambdy[k])$pierwszy) #stowarzyszenie dla lambdy[k]\n",
    "        pjk[j,k] = length(intersect(x1,y1))     }}\n",
    "print(pjk)\n",
    "}"
   ]
  }
 ],
 "metadata": {
  "kernelspec": {
   "display_name": "R",
   "language": "R",
   "name": "ir"
  },
  "language_info": {
   "codemirror_mode": "r",
   "file_extension": ".r",
   "mimetype": "text/x-r-source",
   "name": "R",
   "pygments_lexer": "r",
   "version": "3.6.1"
  },
  "toc": {
   "base_numbering": 1,
   "nav_menu": {},
   "number_sections": true,
   "sideBar": true,
   "skip_h1_title": false,
   "title_cell": "Table of Contents",
   "title_sidebar": "Contents",
   "toc_cell": false,
   "toc_position": {},
   "toc_section_display": true,
   "toc_window_display": false
  },
  "varInspector": {
   "cols": {
    "lenName": 16,
    "lenType": 16,
    "lenVar": 40
   },
   "kernels_config": {
    "python": {
     "delete_cmd_postfix": "",
     "delete_cmd_prefix": "del ",
     "library": "var_list.py",
     "varRefreshCmd": "print(var_dic_list())"
    },
    "r": {
     "delete_cmd_postfix": ") ",
     "delete_cmd_prefix": "rm(",
     "library": "var_list.r",
     "varRefreshCmd": "cat(var_dic_list()) "
    }
   },
   "types_to_exclude": [
    "module",
    "function",
    "builtin_function_or_method",
    "instance",
    "_Feature"
   ],
   "window_display": false
  }
 },
 "nbformat": 4,
 "nbformat_minor": 2
}
