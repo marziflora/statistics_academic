{
 "cells": [
  {
   "cell_type": "code",
   "execution_count": 4,
   "metadata": {},
   "outputs": [
    {
     "data": {
      "text/html": [
       "<table>\n",
       "<tbody>\n",
       "\t<tr><td>1</td><td>0</td><td>0</td><td>0</td><td>0</td><td>0</td><td>1</td><td>1</td><td>1</td><td>0</td><td>0</td><td>1</td><td>1</td><td>1</td></tr>\n",
       "\t<tr><td>0</td><td>1</td><td>1</td><td>0</td><td>0</td><td>0</td><td>0</td><td>0</td><td>0</td><td>1</td><td>1</td><td>1</td><td>1</td><td>1</td></tr>\n",
       "\t<tr><td>0</td><td>1</td><td>0</td><td>0</td><td>0</td><td>1</td><td>1</td><td>1</td><td>1</td><td>1</td><td>1</td><td>0</td><td>0</td><td>0</td></tr>\n",
       "\t<tr><td>1</td><td>1</td><td>1</td><td>0</td><td>1</td><td>1</td><td>1</td><td>0</td><td>0</td><td>0</td><td>0</td><td>0</td><td>0</td><td>1</td></tr>\n",
       "\t<tr><td>0</td><td>0</td><td>0</td><td>1</td><td>1</td><td>1</td><td>0</td><td>0</td><td>1</td><td>0</td><td>1</td><td>0</td><td>1</td><td>1</td></tr>\n",
       "\t<tr><td>0</td><td>1</td><td>1</td><td>1</td><td>1</td><td>0</td><td>0</td><td>1</td><td>1</td><td>0</td><td>0</td><td>1</td><td>0</td><td>0</td></tr>\n",
       "\t<tr><td>1</td><td>0</td><td>1</td><td>1</td><td>0</td><td>1</td><td>0</td><td>1</td><td>0</td><td>1</td><td>0</td><td>0</td><td>1</td><td>0</td></tr>\n",
       "\t<tr><td>1</td><td>0</td><td>0</td><td>1</td><td>1</td><td>0</td><td>1</td><td>0</td><td>0</td><td>1</td><td>1</td><td>1</td><td>0</td><td>0</td></tr>\n",
       "</tbody>\n",
       "</table>\n"
      ],
      "text/latex": [
       "\\begin{tabular}{llllllllllllll}\n",
       "\t 1 & 0 & 0 & 0 & 0 & 0 & 1 & 1 & 1 & 0 & 0 & 1 & 1 & 1\\\\\n",
       "\t 0 & 1 & 1 & 0 & 0 & 0 & 0 & 0 & 0 & 1 & 1 & 1 & 1 & 1\\\\\n",
       "\t 0 & 1 & 0 & 0 & 0 & 1 & 1 & 1 & 1 & 1 & 1 & 0 & 0 & 0\\\\\n",
       "\t 1 & 1 & 1 & 0 & 1 & 1 & 1 & 0 & 0 & 0 & 0 & 0 & 0 & 1\\\\\n",
       "\t 0 & 0 & 0 & 1 & 1 & 1 & 0 & 0 & 1 & 0 & 1 & 0 & 1 & 1\\\\\n",
       "\t 0 & 1 & 1 & 1 & 1 & 0 & 0 & 1 & 1 & 0 & 0 & 1 & 0 & 0\\\\\n",
       "\t 1 & 0 & 1 & 1 & 0 & 1 & 0 & 1 & 0 & 1 & 0 & 0 & 1 & 0\\\\\n",
       "\t 1 & 0 & 0 & 1 & 1 & 0 & 1 & 0 & 0 & 1 & 1 & 1 & 0 & 0\\\\\n",
       "\\end{tabular}\n"
      ],
      "text/markdown": [
       "\n",
       "| 1 | 0 | 0 | 0 | 0 | 0 | 1 | 1 | 1 | 0 | 0 | 1 | 1 | 1 |\n",
       "| 0 | 1 | 1 | 0 | 0 | 0 | 0 | 0 | 0 | 1 | 1 | 1 | 1 | 1 |\n",
       "| 0 | 1 | 0 | 0 | 0 | 1 | 1 | 1 | 1 | 1 | 1 | 0 | 0 | 0 |\n",
       "| 1 | 1 | 1 | 0 | 1 | 1 | 1 | 0 | 0 | 0 | 0 | 0 | 0 | 1 |\n",
       "| 0 | 0 | 0 | 1 | 1 | 1 | 0 | 0 | 1 | 0 | 1 | 0 | 1 | 1 |\n",
       "| 0 | 1 | 1 | 1 | 1 | 0 | 0 | 1 | 1 | 0 | 0 | 1 | 0 | 0 |\n",
       "| 1 | 0 | 1 | 1 | 0 | 1 | 0 | 1 | 0 | 1 | 0 | 0 | 1 | 0 |\n",
       "| 1 | 0 | 0 | 1 | 1 | 0 | 1 | 0 | 0 | 1 | 1 | 1 | 0 | 0 |\n",
       "\n"
      ],
      "text/plain": [
       "     [,1] [,2] [,3] [,4] [,5] [,6] [,7] [,8] [,9] [,10] [,11] [,12] [,13] [,14]\n",
       "[1,] 1    0    0    0    0    0    1    1    1    0     0     1     1     1    \n",
       "[2,] 0    1    1    0    0    0    0    0    0    1     1     1     1     1    \n",
       "[3,] 0    1    0    0    0    1    1    1    1    1     1     0     0     0    \n",
       "[4,] 1    1    1    0    1    1    1    0    0    0     0     0     0     1    \n",
       "[5,] 0    0    0    1    1    1    0    0    1    0     1     0     1     1    \n",
       "[6,] 0    1    1    1    1    0    0    1    1    0     0     1     0     0    \n",
       "[7,] 1    0    1    1    0    1    0    1    0    1     0     0     1     0    \n",
       "[8,] 1    0    0    1    1    0    1    0    0    1     1     1     0     0    "
      ]
     },
     "metadata": {},
     "output_type": "display_data"
    }
   ],
   "source": [
    "#Generowanienie kompletnych bloków zrównoważonych\n",
    "a = 8\n",
    "b = 14\n",
    "k = 4\n",
    "r = (b*k)/a\n",
    "lambda = 3\n",
    "N = b*k\n",
    "\n",
    "library(ibd)\n",
    "function.block <- bibd(v = a, b = b, r = r, k = k, lambda = lambda)$N\n",
    "function.block"
   ]
  },
  {
   "cell_type": "code",
   "execution_count": 36,
   "metadata": {},
   "outputs": [
    {
     "data": {
      "text/html": [
       "<table>\n",
       "<thead><tr><th scope=col>1</th><th scope=col>2</th><th scope=col>3</th><th scope=col>4</th><th scope=col>5</th></tr></thead>\n",
       "<tbody>\n",
       "\t<tr><td>NA</td><td>17</td><td>14</td><td>13</td><td>12</td></tr>\n",
       "\t<tr><td>14</td><td>14</td><td>NA</td><td>13</td><td>10</td></tr>\n",
       "\t<tr><td>12</td><td>NA</td><td>13</td><td>12</td><td> 9</td></tr>\n",
       "\t<tr><td>13</td><td>11</td><td>11</td><td>12</td><td>NA</td></tr>\n",
       "\t<tr><td>11</td><td>12</td><td>10</td><td>NA</td><td> 8</td></tr>\n",
       "</tbody>\n",
       "</table>\n"
      ],
      "text/latex": [
       "\\begin{tabular}{r|lllll}\n",
       " 1 & 2 & 3 & 4 & 5\\\\\n",
       "\\hline\n",
       "\t NA & 17 & 14 & 13 & 12\\\\\n",
       "\t 14 & 14 & NA & 13 & 10\\\\\n",
       "\t 12 & NA & 13 & 12 &  9\\\\\n",
       "\t 13 & 11 & 11 & 12 & NA\\\\\n",
       "\t 11 & 12 & 10 & NA &  8\\\\\n",
       "\\end{tabular}\n"
      ],
      "text/markdown": [
       "\n",
       "| 1 | 2 | 3 | 4 | 5 |\n",
       "|---|---|---|---|---|\n",
       "| NA | 17 | 14 | 13 | 12 |\n",
       "| 14 | 14 | NA | 13 | 10 |\n",
       "| 12 | NA | 13 | 12 |  9 |\n",
       "| 13 | 11 | 11 | 12 | NA |\n",
       "| 11 | 12 | 10 | NA |  8 |\n",
       "\n"
      ],
      "text/plain": [
       "  1  2  3  4  5 \n",
       "1 NA 17 14 13 12\n",
       "2 14 14 NA 13 10\n",
       "3 12 NA 13 12  9\n",
       "4 13 11 11 12 NA\n",
       "5 11 12 10 NA  8"
      ]
     },
     "metadata": {},
     "output_type": "display_data"
    }
   ],
   "source": [
    "#Zad3\n",
    "x = matrix(c(NA, 17, 14, 13, 12, \n",
    "             14, 14, NA, 13, 10,\n",
    "             12, NA, 13, 12, 9,\n",
    "             13, 11, 11, 12, NA,\n",
    "             11, 12, 10, NA, 8), byrow=TRUE, nrow = 5, ncol = 5)\n",
    "x = data.frame(x)\n",
    "rownames(x) <- c(1:5) \n",
    "colnames(x) <- c(1:5)\n",
    "x\n",
    "a = 5\n",
    "b = 5\n",
    "k = 4\n",
    "r=4\n",
    "N=k*a\n",
    "lambda = (r*(k-1))/(a-1)\n",
    "# lambda"
   ]
  },
  {
   "cell_type": "code",
   "execution_count": 20,
   "metadata": {},
   "outputs": [],
   "source": [
    "SST = sum(x**2, na.rm=TRUE)   - sum(rowSums(x, na.rm=TRUE))**2/N\n",
    "SSB = sum(colSums(x, na.rm=TRUE)**2, na.rm=TRUE)/k  - sum(rowSums(x, na.rm=TRUE))**2/N"
   ]
  },
  {
   "cell_type": "code",
   "execution_count": 21,
   "metadata": {},
   "outputs": [],
   "source": [
    "Q1 =  rowSums(x, na.rm=TRUE)[1] - 1/k*(54+48+50+39)\n",
    "Q2 =  rowSums(x, na.rm=TRUE)[2] - 1/k*(50+54+50+39)\n",
    "Q3 =  rowSums(x, na.rm=TRUE)[3] - 1/k*(50+48+50+39)\n",
    "Q4 =  rowSums(x, na.rm=TRUE)[4] - 1/k*(50+54+48+50)\n",
    "Q5 =  rowSums(x, na.rm=TRUE)[5] - 1/k*(50+54+48+39)\n",
    "SScz = ((k*(sum(c(Q1, Q2, Q3, Q4, Q5)**2)))/(lambda*a))\n",
    "SSE = SST-SSB - SScz\n",
    "MScd = SScz/(a-1)\n",
    "MSE = SSE/(N-a-b+1)\n",
    "F0 = MScd/MSE"
   ]
  },
  {
   "cell_type": "code",
   "execution_count": 22,
   "metadata": {},
   "outputs": [
    {
     "data": {
      "text/html": [
       "<table>\n",
       "<thead><tr><th></th><th scope=col>SumaKwadratów</th><th scope=col>StopnieSwobody</th><th scope=col>ŚredniKwadrat</th><th scope=col>F</th></tr></thead>\n",
       "<tbody>\n",
       "\t<tr><th scope=row>cz. dopasowany</th><td>35.73333 </td><td> 4       </td><td>8.9333333</td><td>9.810316 </td></tr>\n",
       "\t<tr><th scope=row>bloki</th><td>31.20000 </td><td> 4       </td><td>       NA</td><td>      NA </td></tr>\n",
       "\t<tr><th scope=row>bład</th><td>10.01667 </td><td>11       </td><td>0.9106061</td><td>      NA </td></tr>\n",
       "\t<tr><th scope=row>całkowita</th><td>76.95000 </td><td>19       </td><td>       NA</td><td>      NA </td></tr>\n",
       "</tbody>\n",
       "</table>\n"
      ],
      "text/latex": [
       "\\begin{tabular}{r|llll}\n",
       "  & SumaKwadratów & StopnieSwobody & ŚredniKwadrat & F\\\\\n",
       "\\hline\n",
       "\tcz. dopasowany & 35.73333  &  4        & 8.9333333 & 9.810316 \\\\\n",
       "\tbloki & 31.20000  &  4        &        NA &       NA \\\\\n",
       "\tbład & 10.01667  & 11        & 0.9106061 &       NA \\\\\n",
       "\tcałkowita & 76.95000  & 19        &        NA &       NA \\\\\n",
       "\\end{tabular}\n"
      ],
      "text/markdown": [
       "\n",
       "| <!--/--> | SumaKwadratów | StopnieSwobody | ŚredniKwadrat | F |\n",
       "|---|---|---|---|---|\n",
       "| cz. dopasowany | 35.73333  |  4        | 8.9333333 | 9.810316  |\n",
       "| bloki | 31.20000  |  4        |        NA |       NA  |\n",
       "| bład | 10.01667  | 11        | 0.9106061 |       NA  |\n",
       "| całkowita | 76.95000  | 19        |        NA |       NA  |\n",
       "\n"
      ],
      "text/plain": [
       "               SumaKwadratów StopnieSwobody ŚredniKwadrat F       \n",
       "cz. dopasowany 35.73333       4             8.9333333     9.810316\n",
       "bloki          31.20000       4                    NA           NA\n",
       "bład           10.01667      11             0.9106061           NA\n",
       "całkowita      76.95000      19                    NA           NA"
      ]
     },
     "metadata": {},
     "output_type": "display_data"
    }
   ],
   "source": [
    "dfcd <- a-1\n",
    "dfB <- b-1\n",
    "dfE <- N-a-b+1\n",
    "dfT <- N-1\n",
    "\n",
    "tabela <- rbind(c(SScz, dfcd, MScd, F0),\n",
    "                c(SSB, dfB, NA, NA),\n",
    "                c(SSE, dfE, MSE, NA),\n",
    "                c(SST, dfT, NA, NA))\n",
    "colnames(tabela) <- c(\"SumaKwadratów\", \"StopnieSwobody\", \"ŚredniKwadrat\", \"F\")\n",
    "rownames(tabela) <- c(\"cz. dopasowany\", \"bloki\", \"bład\", \"całkowita\")\n",
    "tabela"
   ]
  },
  {
   "cell_type": "code",
   "execution_count": 23,
   "metadata": {},
   "outputs": [
    {
     "data": {
      "text/html": [
       "3.00691727992434"
      ],
      "text/latex": [
       "3.00691727992434"
      ],
      "text/markdown": [
       "3.00691727992434"
      ],
      "text/plain": [
       "[1] 3.006917"
      ]
     },
     "metadata": {},
     "output_type": "display_data"
    }
   ],
   "source": [
    "qf(p=0.95, df1=(a-1), df2=((a-1)*(b-1)))"
   ]
  },
  {
   "cell_type": "code",
   "execution_count": 1,
   "metadata": {},
   "outputs": [
    {
     "data": {
      "text/html": [
       "5.40945131805649"
      ],
      "text/latex": [
       "5.40945131805649"
      ],
      "text/markdown": [
       "5.40945131805649"
      ],
      "text/plain": [
       "[1] 5.409451"
      ]
     },
     "metadata": {},
     "output_type": "display_data"
    }
   ],
   "source": [
    "qf(p=0.95, df1=(3), df2=(5)) #dla czynnika, dla błędu"
   ]
  },
  {
   "cell_type": "code",
   "execution_count": 24,
   "metadata": {},
   "outputs": [
    {
     "data": {
      "text/html": [
       "12.05"
      ],
      "text/latex": [
       "12.05"
      ],
      "text/markdown": [
       "12.05"
      ],
      "text/plain": [
       "[1] 12.05"
      ]
     },
     "metadata": {},
     "output_type": "display_data"
    },
    {
     "data": {
      "text/html": [
       "<dl class=dl-horizontal>\n",
       "\t<dt>1</dt>\n",
       "\t\t<dd>2.2</dd>\n",
       "\t<dt>2</dt>\n",
       "\t\t<dd>0.733333333333333</dd>\n",
       "\t<dt>3</dt>\n",
       "\t\t<dd>-0.2</dd>\n",
       "\t<dt>4</dt>\n",
       "\t\t<dd>-0.933333333333333</dd>\n",
       "\t<dt>5</dt>\n",
       "\t\t<dd>-1.8</dd>\n",
       "</dl>\n"
      ],
      "text/latex": [
       "\\begin{description*}\n",
       "\\item[1] 2.2\n",
       "\\item[2] 0.733333333333333\n",
       "\\item[3] -0.2\n",
       "\\item[4] -0.933333333333333\n",
       "\\item[5] -1.8\n",
       "\\end{description*}\n"
      ],
      "text/markdown": [
       "1\n",
       ":   2.22\n",
       ":   0.7333333333333333\n",
       ":   -0.24\n",
       ":   -0.9333333333333335\n",
       ":   -1.8\n",
       "\n"
      ],
      "text/plain": [
       "         1          2          3          4          5 \n",
       " 2.2000000  0.7333333 -0.2000000 -0.9333333 -1.8000000 "
      ]
     },
     "metadata": {},
     "output_type": "display_data"
    },
    {
     "data": {
      "text/html": [
       "<dl class=dl-horizontal>\n",
       "\t<dt>1</dt>\n",
       "\t\t<dd>50</dd>\n",
       "\t<dt>2</dt>\n",
       "\t\t<dd>54</dd>\n",
       "\t<dt>3</dt>\n",
       "\t\t<dd>48</dd>\n",
       "\t<dt>4</dt>\n",
       "\t\t<dd>50</dd>\n",
       "\t<dt>5</dt>\n",
       "\t\t<dd>39</dd>\n",
       "</dl>\n"
      ],
      "text/latex": [
       "\\begin{description*}\n",
       "\\item[1] 50\n",
       "\\item[2] 54\n",
       "\\item[3] 48\n",
       "\\item[4] 50\n",
       "\\item[5] 39\n",
       "\\end{description*}\n"
      ],
      "text/markdown": [
       "1\n",
       ":   502\n",
       ":   543\n",
       ":   484\n",
       ":   505\n",
       ":   39\n",
       "\n"
      ],
      "text/plain": [
       " 1  2  3  4  5 \n",
       "50 54 48 50 39 "
      ]
     },
     "metadata": {},
     "output_type": "display_data"
    },
    {
     "data": {
      "text/html": [
       "<dl class=dl-horizontal>\n",
       "\t<dt>1</dt>\n",
       "\t\t<dd>1</dd>\n",
       "\t<dt>2</dt>\n",
       "\t\t<dd>1.4</dd>\n",
       "\t<dt>3</dt>\n",
       "\t\t<dd>0.133333333333333</dd>\n",
       "\t<dt>4</dt>\n",
       "\t\t<dd>0</dd>\n",
       "\t<dt>5</dt>\n",
       "\t\t<dd>-2.53333333333333</dd>\n",
       "</dl>\n"
      ],
      "text/latex": [
       "\\begin{description*}\n",
       "\\item[1] 1\n",
       "\\item[2] 1.4\n",
       "\\item[3] 0.133333333333333\n",
       "\\item[4] 0\n",
       "\\item[5] -2.53333333333333\n",
       "\\end{description*}\n"
      ],
      "text/markdown": [
       "1\n",
       ":   12\n",
       ":   1.43\n",
       ":   0.1333333333333334\n",
       ":   05\n",
       ":   -2.53333333333333\n",
       "\n"
      ],
      "text/plain": [
       "         1          2          3          4          5 \n",
       " 1.0000000  1.4000000  0.1333333  0.0000000 -2.5333333 "
      ]
     },
     "metadata": {},
     "output_type": "display_data"
    }
   ],
   "source": [
    "#Odrzucamy H0, dodatki do benzyny mają wpływ na liczbę przejechanych km na tej benzynie.\n",
    "\n",
    "#Parametry wewnątrzblokowe:\n",
    "MNK1 = k*Q1/(lambda*a)\n",
    "MNK2 = k*Q2/(lambda*a)\n",
    "MNK3 = k*Q3/(lambda*a)\n",
    "MNK4 = k*Q4/(lambda*a)\n",
    "MNK5 = k*Q5/(lambda*a)\n",
    "tau_daszek = c(MNK1, MNK2, MNK3, MNK4, MNK5)\n",
    "# betaj = (colSums(x, na.rm=TRUE))\n",
    "mi = sum(rowSums(x, na.rm=TRUE))/N\n",
    "mi\n",
    "tau_daszek\n",
    "betaj\n",
    "\n",
    "Qj = c( colSums(x, na.rm=TRUE)[1] - 1/r*( sum(rowSums(x, na.rm=TRUE)[which(t(x[,1]) %ni% c(NA))])),\n",
    "colSums(x, na.rm=TRUE)[2] - 1/r*( sum(rowSums(x, na.rm=TRUE)[which(t(x[,2]) %ni% c(NA))])),\n",
    "colSums(x, na.rm=TRUE)[3] - 1/r*( sum(rowSums(x, na.rm=TRUE)[which(t(x[,3]) %ni% c(NA))])),\n",
    "colSums(x, na.rm=TRUE)[4] - 1/r*( sum(rowSums(x, na.rm=TRUE)[which(t(x[,4]) %ni% c(NA))])),\n",
    "colSums(x, na.rm=TRUE)[5] - 1/r*( sum(rowSums(x, na.rm=TRUE)[which(t(x[,5]) %ni% c(NA))])) ) #????????\n",
    "\n",
    "beta_daszek = Qj*r/(lambda*b)\n",
    "beta_daszek"
   ]
  },
  {
   "cell_type": "code",
   "execution_count": 25,
   "metadata": {},
   "outputs": [
    {
     "data": {
      "text/html": [
       "<ol class=list-inline>\n",
       "\t<li>-1.80000000000001</li>\n",
       "\t<li>0.199999999999989</li>\n",
       "\t<li>-5.80000000000001</li>\n",
       "\t<li>9.19999999999999</li>\n",
       "\t<li>-1.80000000000001</li>\n",
       "</ol>\n"
      ],
      "text/latex": [
       "\\begin{enumerate*}\n",
       "\\item -1.80000000000001\n",
       "\\item 0.199999999999989\n",
       "\\item -5.80000000000001\n",
       "\\item 9.19999999999999\n",
       "\\item -1.80000000000001\n",
       "\\end{enumerate*}\n"
      ],
      "text/markdown": [
       "1. -1.80000000000001\n",
       "2. 0.199999999999989\n",
       "3. -5.80000000000001\n",
       "4. 9.19999999999999\n",
       "5. -1.80000000000001\n",
       "\n",
       "\n"
      ],
      "text/plain": [
       "[1] -1.8  0.2 -5.8  9.2 -1.8"
      ]
     },
     "metadata": {},
     "output_type": "display_data"
    }
   ],
   "source": [
    "#Parametry międzyblokowe:\n",
    "'%ni%' <- Negate('%in%')\n",
    "\n",
    "mi = sum(rowSums(x, na.rm=TRUE))/N\n",
    "tau_falka = c( ((sum(colSums(x, na.rm=TRUE)[which(t(x[1,]) %ni% c(NA))])) -k*r*sum(rowSums(x, na.rm=TRUE))/N)/(r-lambda),\n",
    "((sum(colSums(x, na.rm=TRUE)[which(t(x[2,]) %ni% c(NA))]))-k*r*sum(rowSums(x, na.rm=TRUE))/N)/(r-lambda),\n",
    "((sum(colSums(x, na.rm=TRUE)[which(t(x[3,]) %ni% c(NA))]))-k*r*sum(rowSums(x, na.rm=TRUE))/N)/(r-lambda),\n",
    "((sum(colSums(x, na.rm=TRUE)[which(t(x[4,]) %ni% c(NA))]))-k*r*sum(rowSums(x, na.rm=TRUE))/N)/(r-lambda),\n",
    "((sum(colSums(x, na.rm=TRUE)[which(t(x[5,]) %ni% c(NA))]))-k*r*sum(rowSums(x, na.rm=TRUE))/N)/(r-lambda))\n",
    "tau_falka #międzyblokowe"
   ]
  },
  {
   "cell_type": "code",
   "execution_count": 28,
   "metadata": {},
   "outputs": [],
   "source": [
    "beta_falka =0#bez sensu wg mnie. międzyblokowy parametr blokowy XD"
   ]
  },
  {
   "cell_type": "code",
   "execution_count": 33,
   "metadata": {},
   "outputs": [
    {
     "data": {
      "text/html": [
       "0.194262626262626"
      ],
      "text/latex": [
       "0.194262626262626"
      ],
      "text/markdown": [
       "0.194262626262626"
      ],
      "text/plain": [
       "[1] 0.1942626"
      ]
     },
     "metadata": {},
     "output_type": "display_data"
    },
    {
     "data": {
      "text/html": [
       "26.4297373737372"
      ],
      "text/latex": [
       "26.4297373737372"
      ],
      "text/markdown": [
       "26.4297373737372"
      ],
      "text/plain": [
       "[1] 26.42974"
      ]
     },
     "metadata": {},
     "output_type": "display_data"
    },
    {
     "data": {
      "text/html": [
       "0.194262626262626"
      ],
      "text/latex": [
       "0.194262626262626"
      ],
      "text/markdown": [
       "0.194262626262626"
      ],
      "text/plain": [
       "[1] 0.1942626"
      ]
     },
     "metadata": {},
     "output_type": "display_data"
    },
    {
     "data": {
      "text/html": [
       "-9855.56848484849"
      ],
      "text/latex": [
       "-9855.56848484849"
      ],
      "text/markdown": [
       "-9855.56848484849"
      ],
      "text/plain": [
       "[1] -9855.568"
      ]
     },
     "metadata": {},
     "output_type": "display_data"
    }
   ],
   "source": [
    "MSbloki = SSB/4\n",
    "sigma2 = MSE\n",
    "sigma2beta = ((MSbloki-MSE)*(b-1))/(a*(r-1))\n",
    "Var_tau_daszek = (k*(a-1))/(lambda*a**2)*sigma2\n",
    "Var_tau_falka = (k*(a-1)/(a*(r-lambda))) * (sigma2+k*sigma2beta)\n",
    "Var_tau_daszek\n",
    "Var_tau_falka\n",
    "\n",
    "MSB = (SScz + SSB)/(b-1)\n",
    "MSB = (((k*(sum(c(Q1, Q2, Q3, Q4, Q5)**2)))/(lambda*a)) + sum((colSums(x, na.rm=TRUE)**2))/k - (sum(rowSums(x, na.rm=TRUE))**2/r)) * 1/(b-1)\n",
    "sigma2 = MSE\n",
    "sigma2beta = ((MSB-MSE)*(b-1))/(a*(r-1))\n",
    "Var_tau_daszek = (k*(a-1))/(lambda*a**2)*sigma2\n",
    "Var_tau_falka = (k*(a-1)/(a*(r-lambda))) * (sigma2+k*sigma2beta)\n",
    "Var_tau_daszek\n",
    "Var_tau_falka\n",
    "\n",
    "Var_b_daszek = (r*(a-1))/(lambda*b**2)*sigma2\n",
    "Var_b_falka =  (r*(b-1)/(b*(k-lambda))) * (sigma2+k*sigma2beta)\n",
    "# Var_tau_daszek #wewnątrzblokowe\n",
    "# Var_tau_falka #międzyblokowe"
   ]
  },
  {
   "cell_type": "code",
   "execution_count": 14,
   "metadata": {},
   "outputs": [
    {
     "name": "stdout",
     "output_type": "stream",
     "text": [
      "[1] -3.000000 -2.333333 -1.333333  6.666667\n",
      "Qf 3.862548 \n",
      "               SumaKwadratów StopnieSwobody ŚredniKwadrat        F\n",
      "cz. dopasowany         22.75              3      7.583333 11.66667\n",
      "bloki                  55.00              3     18.333333       NA\n",
      "bład                    3.25              5      0.650000       NA\n",
      "całkowita              81.00             11            NA       NA\n",
      "[1] -63049.08\n",
      "[1] 0.65\n"
     ]
    },
    {
     "ename": "ERROR",
     "evalue": "Error in niekompletne_estymatory(x2): nie znaleziono obiektu 'sigma2beta'\n",
     "output_type": "error",
     "traceback": [
      "Error in niekompletne_estymatory(x2): nie znaleziono obiektu 'sigma2beta'\nTraceback:\n",
      "1. niekompletne_estymatory(x2)"
     ]
    }
   ],
   "source": [
    "#Zad4 Układ całkowicie zrównoważonych niekompletnych bloków\n",
    "x2 = matrix(c(  114, NA, NA, NA, 120, NA, 117,\n",
    "                126, 120, NA, NA, NA, 119, NA,\n",
    "                NA, 137, 117, NA, NA, NA, 134,\n",
    "                141, NA, 129, 149, NA, NA, NA,\n",
    "                NA, 145, NA, 150, 143, NA, NA,\n",
    "                NA, NA, 120, NA, 118, 123, NA,\n",
    "                NA, NA,NA, 136, NA, 130, 137), byrow=TRUE, nrow = 7, ncol =7 )\n",
    "a = 7\n",
    "b = 7\n",
    "k = 3\n",
    "r = 3\n",
    "x2 = matrix(c( 73, 74, NA, 71,\n",
    "             NA, 75, 67, 72,\n",
    "             73, 75, 68, NA,\n",
    "             75, NA, 72,75), byrow=TRUE, nrow = 4, ncol =4 )\n",
    "x2 = data.frame(x2)\n",
    "a = 4\n",
    "b = 4\n",
    "k = 3\n",
    "r = 3\n",
    "N = k*a\n",
    "lambda = (r*(k-1))/(a-1)\n",
    "#a) według układu  niekompletnych bloków losowych\n",
    "#b) yij = mi + tau i + Betaj + eij gdzie e należy do N(0, sigma2)\n",
    "#1) Dzień nie stanowi źródła zmienności \n",
    "#2) Koncentracja nie stanowi źródła zmienności\n",
    "#d) yij = mi + tau i + Betaj + eij\n",
    "\n",
    "niekompletne_estymatory =function(x2){\n",
    "# Q1 = -97/3\n",
    "# Q2 = -20\n",
    "# Q3 = 8/3\n",
    "# Q4 = 25\n",
    "# Q5 = 32\n",
    "# Q6 = -12\n",
    "# Q7 = 14/3\n",
    "# Q <- c(Q1, Q2, Q3, Q4, Q5, Q6, Q7)\n",
    "# print(Q)\n",
    "'%ni%' <- Negate('%in%')\n",
    "Q1 =  rowSums(x2, na.rm=TRUE)[1] - 1/k*( sum(colSums(x2, na.rm=TRUE)[which(t(x2[1,]) %ni% c(NA))]))\n",
    "Q2 =  rowSums(x2, na.rm=TRUE)[2] - 1/k*( sum(colSums(x2, na.rm=TRUE)[which(t(x2[2,]) %ni% c(NA))]))\n",
    "Q3 =  rowSums(x2, na.rm=TRUE)[3] - 1/k*( sum(colSums(x2, na.rm=TRUE)[which(t(x2[3,]) %ni% c(NA))]))\n",
    "Q4 =  rowSums(x2, na.rm=TRUE)[4] - 1/k*( sum(colSums(x2, na.rm=TRUE)[which(t(x2[4,]) %ni% c(NA))]))\n",
    "Q <- c(Q1, Q2, Q3, Q4)\n",
    "print(Q)\n",
    "    \n",
    "Qj = c( colSums(x2, na.rm=TRUE)[1] - 1/r*( sum(rowSums(x2, na.rm=TRUE)[which(t(x2[1,]) %ni% c(NA))])),\n",
    "colSums(x2, na.rm=TRUE)[2] - 1/r*( sum(rowSums(x2, na.rm=TRUE)[which(t(x2[2,]) %ni% c(NA))])),\n",
    "colSums(x2, na.rm=TRUE)[3] - 1/r*( sum(rowSums(x2, na.rm=TRUE)[which(t(x2[3,]) %ni% c(NA))])),\n",
    "colSums(x2, na.rm=TRUE)[4] - 1/r*( sum(rowSums(x2, na.rm=TRUE)[which(t(x2[4,]) %ni% c(NA))])) ) \n",
    "\n",
    "beta_daszek = Qj*r/(lambda*b)\n",
    "    \n",
    "SST = sum(x2**2, na.rm=TRUE) - sum(rowSums(x2, na.rm=TRUE))**2/N\n",
    "SSB = sum(colSums(x2, na.rm=TRUE)**2, na.rm=TRUE)/k  - sum(rowSums(x2, na.rm=TRUE))**2/N\n",
    "SScz = ((k*(sum(c(Q1, Q2, Q3, Q4)**2)))/(lambda*a))\n",
    "SSE = SST-SSB - SScz\n",
    "MScd = SScz/(a-1)\n",
    "MSE = SSE/(N-a-b+1)\n",
    "MSB = SSB/(b-1)\n",
    "F0 = MScd/MSE\n",
    "\n",
    "dfcd <- a-1\n",
    "dfB <- b-1\n",
    "dfE <- N-a-b+1\n",
    "dfT <- N-1\n",
    "\n",
    "tabela <- rbind(c(SScz, dfcd, MScd, F0),\n",
    "                c(SSB, dfB, MSB, NA),\n",
    "                c(SSE, dfE, MSE, NA),\n",
    "                c(SST, dfT, NA, NA))\n",
    "colnames(tabela) <- c(\"SumaKwadratów\", \"StopnieSwobody\", \"ŚredniKwadrat\", \"F\")\n",
    "rownames(tabela) <- c(\"cz. dopasowany\", \"bloki\", \"bład\", \"całkowita\")\n",
    "cat(\"Qf\", qf(p=0.95, df1=(a-1), df2=((a-1)*(b-1))), \"\\n\")\n",
    "print(tabela)\n",
    "\n",
    "MSBloki = (((k*(sum(c(Q1, Q2, Q3, Q4)**2)))/(lambda*a)) + sum((colSums(x2, na.rm=TRUE)**2))/k - (sum(rowSums(x2, na.rm=TRUE))**2/r)) * 1/(b-1)             \n",
    "    \n",
    "print(MSBloki)\n",
    "    print(MSE)\n",
    "    if (MSBloki>MSE) { sigma2beta = ((MSbloki-MSE)*(b-1))/(a*(r-1)) }\n",
    "else {sigma2beta} = 0\n",
    "sigma2 = MSE\n",
    "Var_tau_daszek = (k*(a-1))/(lambda*a**2)*sigma2\n",
    "Var_tau_falka = (k*(a-1)/(a*(r-lambda))) * (sigma2+k*sigma2beta)\n",
    "\n",
    "MSB = (SScz + SSB)/(b-1)\n",
    "MSB = (((k*(sum(Q**2)))/(lambda*a)) + sum((colSums(x2, na.rm=TRUE)**2))/k - (sum(rowSums(x2, na.rm=TRUE))**2/r)) * 1/(b-1)\n",
    "\n",
    "tau_daszek = c(k*Q/(lambda*a))  #wewnątrzblokowe\n",
    "    \n",
    "mi = sum(rowSums(x2, na.rm=TRUE))/N #międzyblokowe\n",
    "tau_falka = c(  (sum(colSums(x2, na.rm=TRUE)[which(t(x2[1,]) %ni% c(NA))]) - k*r*sum(rowSums(x2, na.rm=TRUE))/N)      /(r-lambda),\n",
    "                (sum(colSums(x2, na.rm=TRUE)[which(t(x2[2,]) %ni% c(NA))]) - k*r*sum(rowSums(x2, na.rm=TRUE))/N)      /(r-lambda),\n",
    "                (sum(colSums(x2, na.rm=TRUE)[which(t(x2[3,]) %ni% c(NA))])  -k*r*sum(rowSums(x2, na.rm=TRUE))/N)      /(r-lambda),\n",
    "                (sum(colSums(x2, na.rm=TRUE)[which(t(x2[4,]) %ni% c(NA))]) - k*r*sum(rowSums(x2, na.rm=TRUE))/N)      /(r-lambda),\n",
    "                (sum(colSums(x2, na.rm=TRUE)[which(t(x2[5,]) %ni% c(NA))]) - k*r*sum(rowSums(x2, na.rm=TRUE))/N)      /(r-lambda),\n",
    "                (sum(colSums(x2, na.rm=TRUE)[which(t(x2[6,]) %ni% c(NA))]) - k*r*sum(rowSums(x2, na.rm=TRUE))/N)     /(r-lambda),\n",
    "                (sum(colSums(x2, na.rm=TRUE)[which(t(x2[7,]) %ni% c(NA))]) - k*r*sum(rowSums(x2, na.rm=TRUE))/N)     /(r-lambda) )\n",
    "  tabela=data.frame(\n",
    "    \"Q\"=Q,\n",
    "    \"Tau wewnątrzblkowe\"=round(tau_daszek,3),\n",
    "    \"Tau międzyblokowe\"=round(tau_falka,3),\n",
    "    \"Wariancja wewnątrz bloków\"=c(round(Var_tau_daszek,4),rep(' ',a-1)),\n",
    "    \"Wariancja międzyblokowa\"=c(round(Var_tau_falka,4), rep(' ', a-1)),\n",
    "    \"Beta\"=round(beta_daszek,2))\n",
    "print(tabela) }\n",
    "niekompletne_estymatory(x2)"
   ]
  },
  {
   "cell_type": "code",
   "execution_count": 21,
   "metadata": {},
   "outputs": [
    {
     "data": {
      "text/html": [
       "<ol class=list-inline>\n",
       "\t<li>221</li>\n",
       "\t<li>224</li>\n",
       "\t<li>218</li>\n",
       "</ol>\n"
      ],
      "text/latex": [
       "\\begin{enumerate*}\n",
       "\\item 221\n",
       "\\item 224\n",
       "\\item 218\n",
       "\\end{enumerate*}\n"
      ],
      "text/markdown": [
       "1. 221\n",
       "2. 224\n",
       "3. 218\n",
       "\n",
       "\n"
      ],
      "text/plain": [
       "[1] 221 224 218"
      ]
     },
     "metadata": {},
     "output_type": "display_data"
    }
   ],
   "source": [
    "'%ni%' <- Negate('%in%')\n",
    "colSums(macierz, na.rm=TRUE)[which(t(macierz[1,]) %ni% c(NA))]"
   ]
  },
  {
   "cell_type": "code",
   "execution_count": 35,
   "metadata": {},
   "outputs": [
    {
     "name": "stderr",
     "output_type": "stream",
     "text": [
      "Your code contains a unicode char which cannot be displayed in your\n",
      "current locale and R will silently convert it to an escaped form when the\n",
      "R kernel executes this code. This can lead to subtle errors if you use\n",
      "such chars to do comparisons. For more information, please see\n",
      "https://github.com/IRkernel/repr/wiki/Problems-with-unicode-on-windows"
     ]
    },
    {
     "name": "stdout",
     "output_type": "stream",
     "text": [
      "[1] 55.575\n",
      "          Q Tau.wewnątrzblkowe Tau.międzyblokowe Wariancja.wewnątrz.bloków\n",
      "1 -3.000000              -1.12              10.5                    0.1828\n",
      "2 -2.333333              -0.87              -3.5                          \n",
      "3 -1.333333              -0.50              -0.5                          \n",
      "4  6.666667               2.50              -6.5                          \n",
      "  Wariancja.międzyblokowa X.Est.kombinowany. c.estymator_kombinowany.\n",
      "1                  55.575    Est kombinowany               -1.0868852\n",
      "2                            Est kombinowany               -0.8836066\n",
      "3                            Est kombinowany               -0.5000000\n",
      "4                            Est kombinowany                2.4704918\n"
     ]
    }
   ],
   "source": [
    "alfa=0.05\n",
    "\n",
    "macierz = matrix(c( 73, 74, NA, 71,\n",
    "             NA, 75, 67, 72,\n",
    "             73, 75, 68, NA,\n",
    "             75, NA, 72,75), byrow=TRUE, nrow = 4, ncol =4 )\n",
    "\n",
    "niekompletne_estymatory=function(macierz){\n",
    "  a=dim(macierz)[1]\n",
    "  b=dim(macierz)[2]\n",
    "  k=a-sum(is.na(macierz[,1])) #liczba poziomów czynnika w każdym bloku\n",
    "  (r=(b*k)/a) #N=ar=bk\n",
    "  (N=b*k)\n",
    "  (lambda=(r*(k-1))/(a-1))\n",
    "  #stopnie swobody\n",
    "  stc=a-1\n",
    "  stbl=b-1\n",
    "  stbł=N-a-b+1\n",
    "  stt=N-1\n",
    "    \n",
    "a = 4\n",
    "b = 4\n",
    "k = 3\n",
    "r = 3\n",
    "N = k*a\n",
    "lambda = (r*(k-1))/(a-1)\n",
    "    '%ni%' <- Negate('%in%')\n",
    "Q1 =  rowSums(macierz, na.rm=TRUE)[1] - 1/k*( sum(colSums(macierz, na.rm=TRUE)[which(t(macierz[1,]) %ni% c(NA))]))\n",
    "Q2 =  rowSums(macierz, na.rm=TRUE)[2] - 1/k*( sum(colSums(macierz, na.rm=TRUE)[which(t(macierz[2,]) %ni% c(NA))]))\n",
    "Q3 =  rowSums(macierz, na.rm=TRUE)[3] - 1/k*( sum(colSums(macierz, na.rm=TRUE)[which(t(macierz[3,]) %ni% c(NA))]))\n",
    "Q4 =  rowSums(macierz, na.rm=TRUE)[4] - 1/k*( sum(colSums(macierz, na.rm=TRUE)[which(t(macierz[4,]) %ni% c(NA))]))\n",
    "Q <- c(Q1, Q2, Q3, Q4)\n",
    "    \n",
    "  #suma kwadratów\n",
    "  (SST=sum(macierz^2,na.rm = T)-(sum(macierz,na.rm = T)^2/N))\n",
    "  (SSB=sum((colSums(macierz,na.rm=T)^2)/k)-(sum(macierz,na.rm = T)^2/N))\n",
    "  (SSCzdop=(k*sum(Q^2))/(lambda*a))\n",
    "  (SSE=SST-SSB-SSCzdop)\n",
    "  #średni kwadrat\n",
    "  MSB=SSB/stbl\n",
    "  (MSCzdop=SSCzdop/stc)\n",
    "  (MSE=SSE/stbł)\n",
    "  MST=SST/stt\n",
    "\n",
    "  #wewnątrzblokowe:\n",
    "  #Ti=(k*Qi)/(lambda*a)\n",
    "  Tau_wew=c()\n",
    "  for (i in 1:a){Tau_wew[i]=(k*Q[i])/(lambda*a)}\n",
    "  round(Tau_wew,2) #estymatory\n",
    "  sum(Tau_wew) #0, zgadza się\n",
    "  #międzyblokowe:\n",
    "  #τi=(E^{b}_{j=1}(nijy.j)-kry..)/(r-lambda)\n",
    "  mu=mean(macierz,na.rm=T)\n",
    "  Tau_mię=c()\n",
    "  for (i in 1:a){\n",
    "    Tau_mię[i]=\n",
    "      ((sum(colSums(macierz[,-which(is.na(macierz[i,]))],na.rm = T),na.rm = T))-(k*r*mu))/(r-lambda)}\n",
    "  sum(Tau_mię) #0,zgadza się\n",
    "  #wariancje:\n",
    "  MSbloki=1/(b-1)*((k*sum(Q^2))/(lambda*a)+\n",
    "                     sum((colSums(macierz,na.rm=T)^2)/k)-\n",
    "                     sum((rowSums(macierz,na.rm=T)^2)/r))\n",
    "    \n",
    "  if(MSbloki>MSE){\n",
    "    sigB=((MSbloki-MSE)*(b-1))/(a*(r-1))\n",
    "  }else sigB=0\n",
    "  sigma=MSE\n",
    "  #var wew bloków\n",
    "  (wew_var=((k*(a-1))/(lambda*a^2))*sigma)\n",
    "  #var międzyblokowe\n",
    "  (mie_var=((k*(a-1))/(a*(r-lambda)))*(sigma+k*sigB))\n",
    "    print(mie_var)\n",
    "    \n",
    "u1 = 1/wew_var\n",
    "u2 = 1/mie_var\n",
    "alfa1 = u1/(u1+u2)\n",
    "alfa2 = u2/(u1+u2)\n",
    "estymator_kombinowany = c(alfa1*Tau_wew+alfa2*Tau_mię)\n",
    "    \n",
    "  tabela=data.frame(\n",
    "    \"Q\"=Q,\n",
    "    \"Tau wewnątrzblkowe\"=round(Tau_wew,2),\n",
    "    \"Tau międzyblokowe\"=round(Tau_mię,2),\n",
    "    \"Wariancja wewnątrz bloków\"=c(round(wew_var,4),rep(' ',a-1)),\n",
    "    \"Wariancja międzyblokowa\"=c(round(mie_var,4),rep(' ',a-1)),\n",
    "  \"Est kombinowany\", c(estymator_kombinowany))\n",
    "  print(tabela)\n",
    "}\n",
    "niekompletne_estymatory(macierz)"
   ]
  },
  {
   "cell_type": "code",
   "execution_count": 32,
   "metadata": {},
   "outputs": [
    {
     "name": "stderr",
     "output_type": "stream",
     "text": [
      "Your code contains a unicode char which cannot be displayed in your\n",
      "current locale and R will silently convert it to an escaped form when the\n",
      "R kernel executes this code. This can lead to subtle errors if you use\n",
      "such chars to do comparisons. For more information, please see\n",
      "https://github.com/IRkernel/repr/wiki/Problems-with-unicode-on-windows"
     ]
    },
    {
     "data": {
      "text/html": [
       "<table>\n",
       "<tbody>\n",
       "\t<tr><td>114</td><td> NA</td><td> NA</td><td> NA</td><td>120</td><td> NA</td><td>117</td></tr>\n",
       "\t<tr><td>126</td><td>120</td><td> NA</td><td> NA</td><td> NA</td><td>119</td><td> NA</td></tr>\n",
       "\t<tr><td> NA</td><td>137</td><td>117</td><td> NA</td><td> NA</td><td> NA</td><td>134</td></tr>\n",
       "\t<tr><td>141</td><td> NA</td><td>129</td><td>149</td><td> NA</td><td> NA</td><td> NA</td></tr>\n",
       "\t<tr><td> NA</td><td>145</td><td> NA</td><td>150</td><td>143</td><td> NA</td><td> NA</td></tr>\n",
       "\t<tr><td> NA</td><td> NA</td><td>120</td><td> NA</td><td>118</td><td>123</td><td> NA</td></tr>\n",
       "\t<tr><td> NA</td><td> NA</td><td> NA</td><td>136</td><td> NA</td><td>130</td><td>137</td></tr>\n",
       "</tbody>\n",
       "</table>\n"
      ],
      "text/latex": [
       "\\begin{tabular}{lllllll}\n",
       "\t 114 &  NA &  NA &  NA & 120 &  NA & 117\\\\\n",
       "\t 126 & 120 &  NA &  NA &  NA & 119 &  NA\\\\\n",
       "\t  NA & 137 & 117 &  NA &  NA &  NA & 134\\\\\n",
       "\t 141 &  NA & 129 & 149 &  NA &  NA &  NA\\\\\n",
       "\t  NA & 145 &  NA & 150 & 143 &  NA &  NA\\\\\n",
       "\t  NA &  NA & 120 &  NA & 118 & 123 &  NA\\\\\n",
       "\t  NA &  NA &  NA & 136 &  NA & 130 & 137\\\\\n",
       "\\end{tabular}\n"
      ],
      "text/markdown": [
       "\n",
       "| 114 |  NA |  NA |  NA | 120 |  NA | 117 |\n",
       "| 126 | 120 |  NA |  NA |  NA | 119 |  NA |\n",
       "|  NA | 137 | 117 |  NA |  NA |  NA | 134 |\n",
       "| 141 |  NA | 129 | 149 |  NA |  NA |  NA |\n",
       "|  NA | 145 |  NA | 150 | 143 |  NA |  NA |\n",
       "|  NA |  NA | 120 |  NA | 118 | 123 |  NA |\n",
       "|  NA |  NA |  NA | 136 |  NA | 130 | 137 |\n",
       "\n"
      ],
      "text/plain": [
       "     [,1] [,2] [,3] [,4] [,5] [,6] [,7]\n",
       "[1,] 114   NA   NA   NA  120   NA  117 \n",
       "[2,] 126  120   NA   NA   NA  119   NA \n",
       "[3,]  NA  137  117   NA   NA   NA  134 \n",
       "[4,] 141   NA  129  149   NA   NA   NA \n",
       "[5,]  NA  145   NA  150  143   NA   NA \n",
       "[6,]  NA   NA  120   NA  118  123   NA \n",
       "[7,]  NA   NA   NA  136   NA  130  137 "
      ]
     },
     "metadata": {},
     "output_type": "display_data"
    },
    {
     "name": "stdout",
     "output_type": "stream",
     "text": [
      "       Q Tau.wewnątrzblkowe Tau.międzyblokowe Wariancja.wewnątrz.bloków\n",
      "1 -32.33             -13.86             -8.93                    7.9187\n",
      "2 -20.00              -8.57             -6.43                          \n",
      "3   2.67               1.14             -5.93                          \n",
      "4  25.00              10.71              7.07                          \n",
      "5  32.00              13.71             25.07                          \n",
      "6 -12.00              -5.14            -24.43                          \n",
      "7   4.67               2.00             13.57                          \n",
      "  Wariancja.międzyblokowa   Beta\n",
      "1                 95.9158  -1.00\n",
      "2                           7.29\n",
      "3                          -8.29\n",
      "4                          17.57\n",
      "5                         -10.71\n",
      "6                          -0.43\n",
      "7                          -4.43\n"
     ]
    }
   ],
   "source": [
    "alfa=0.05\n",
    "\n",
    "Q1=round(-(32*3+1)/3,2)\n",
    "Q2=round(-20,2)\n",
    "Q3=round((2*3+2)/3,2)\n",
    "Q4=round(25,2)\n",
    "Q5=round(32,2)\n",
    "Q6=round(-12,2)\n",
    "Q7=round((3*4+2)/3,2)\n",
    "Q=c(Q1,Q2,Q3,Q4,Q5,Q6,Q7)\n",
    "\n",
    "obs=c(114,126,NA,141,NA,NA,NA,NA,120,137,NA,145,NA,NA,NA,NA,117,129,NA,120,NA,NA,NA,NA,149,150,NA,136,120,NA,NA,NA,143,118,NA,NA,119,NA,NA,NA,123,130,117,NA,134,NA,NA,NA,137)\n",
    "(macierz=matrix(obs,7,7))\n",
    "\n",
    "niekompletne_estymatory=function(macierz){\n",
    "  a=dim(macierz)[1]\n",
    "  b=dim(macierz)[2]\n",
    "  k=a-sum(is.na(macierz[,1])) #liczba poziomów czynnika w każdym bloku\n",
    "  (r=(b*k)/a) #N=ar=bk\n",
    "  (N=b*k)\n",
    "  (lambda=(r*(k-1))/(a-1))\n",
    "  #stopnie swobody\n",
    "  stc=a-1\n",
    "  stbl=b-1\n",
    "  stbł=N-a-b+1\n",
    "  stt=N-1\n",
    "  #suma kwadratów\n",
    "  (SST=sum(macierz^2,na.rm = T)-(sum(macierz,na.rm = T)^2/N))\n",
    "  (SSB=sum((colSums(macierz,na.rm=T)^2)/k)-(sum(macierz,na.rm = T)^2/N))\n",
    "  (SSCzdop=(k*sum(Q^2))/(lambda*a))\n",
    "  (SSE=SST-SSB-SSCzdop)\n",
    "  #średni kwadrat\n",
    "  MSB=SSB/stbl\n",
    "  (MSCzdop=SSCzdop/stc)\n",
    "  (MSE=SSE/stbł)\n",
    "  MST=SST/stt\n",
    "  Q1=round(-(32*3+1)/3,2)\n",
    "  Q2=round(-20,2)\n",
    "  Q3=round((2*3+2)/3,2)\n",
    "  Q4=round(25,2)\n",
    "  Q5=round(32,2)\n",
    "  Q6=round(-12,2)\n",
    "  Q7=round((3*4+2)/3,2)\n",
    "  Q=c(Q1,Q2,Q3,Q4,Q5,Q6,Q7)\n",
    "\n",
    "  Qj=c()#Qj\n",
    "  for (j in 1:b){\n",
    "    Qj[j]=(colSums(macierz,na.rm=T)[j])-(1/r)*\n",
    "      sum(rowSums(macierz[,-which(is.na(macierz[j,]))],na.rm = T))}\n",
    "  beta_daszek=c()\n",
    "  for (j in 1:b){beta_daszek[j]=(r*Qj[j])/(lambda*b)}\n",
    "  round(beta_daszek)\n",
    "  \n",
    "  #wewnątrzblokowe:\n",
    "  #Ti=(k*Qi)/(lambda*a)\n",
    "  Tau_wew=c()\n",
    "  for (i in 1:a){Tau_wew[i]=(k*Q[i])/(lambda*a)}\n",
    "  round(Tau_wew,2) #estymatory\n",
    "  sum(Tau_wew) #0, zgadza się\n",
    "  #międzyblokowe:\n",
    "  #τi=(E^{b}_{j=1}(nijy.j)-kry..)/(r-lambda)\n",
    "  mu=mean(macierz,na.rm=T)\n",
    "  Tau_mię=c()\n",
    "  for (i in 1:a){\n",
    "    Tau_mię[i]=\n",
    "      ((sum(colSums(macierz[,-which(is.na(macierz[i,]))],na.rm = T),na.rm = T))-(k*r*mu))/(r-lambda)}\n",
    "  Tau_mię\n",
    "  sum(Tau_mię) #0,zgadza się\n",
    "  #wariancje:\n",
    "  MSbloki=1/(b-1)*((k*sum(Q^2))/(lambda*a)+\n",
    "                     sum((colSums(macierz,na.rm=T)^2)/k)-\n",
    "                     sum((rowSums(macierz,na.rm=T)^2)/r))\n",
    "  if(MSbloki>MSE){\n",
    "    sigB=((MSbloki-MSE)*(b-1))/(a*(r-1))\n",
    "  }else sigB=0\n",
    "  sigB\n",
    "  sigma=MSE\n",
    "  #var wew bloków\n",
    "  (wew_var=((k*(a-1))/(lambda*a^2))*sigma)\n",
    "  #var międzyblokowe\n",
    "  (mie_var=((k*(a-1))/(a*(r-lambda)))*(sigma+k*sigB))\n",
    "  tabela=data.frame(\n",
    "    \"Q\"=Q,\n",
    "    \"Tau wewnątrzblkowe\"=round(Tau_wew,2),\n",
    "    \"Tau międzyblokowe\"=round(Tau_mię,2),\n",
    "    \"Wariancja wewnątrz bloków\"=c(round(wew_var,4),rep(' ',a-1)),\n",
    "    \"Wariancja międzyblokowa\"=c(round(mie_var,4),rep(' ',a-1)),\n",
    "    \"Beta\"=round(beta_daszek,2)\n",
    "    )\n",
    "  print(tabela)\n",
    "}\n",
    "niekompletne_estymatory(macierz)"
   ]
  }
 ],
 "metadata": {
  "kernelspec": {
   "display_name": "R",
   "language": "R",
   "name": "ir"
  },
  "language_info": {
   "codemirror_mode": "r",
   "file_extension": ".r",
   "mimetype": "text/x-r-source",
   "name": "R",
   "pygments_lexer": "r",
   "version": "3.6.1"
  },
  "toc": {
   "base_numbering": 1,
   "nav_menu": {},
   "number_sections": true,
   "sideBar": true,
   "skip_h1_title": false,
   "title_cell": "Table of Contents",
   "title_sidebar": "Contents",
   "toc_cell": false,
   "toc_position": {},
   "toc_section_display": true,
   "toc_window_display": false
  },
  "varInspector": {
   "cols": {
    "lenName": 16,
    "lenType": 16,
    "lenVar": 40
   },
   "kernels_config": {
    "python": {
     "delete_cmd_postfix": "",
     "delete_cmd_prefix": "del ",
     "library": "var_list.py",
     "varRefreshCmd": "print(var_dic_list())"
    },
    "r": {
     "delete_cmd_postfix": ") ",
     "delete_cmd_prefix": "rm(",
     "library": "var_list.r",
     "varRefreshCmd": "cat(var_dic_list()) "
    }
   },
   "types_to_exclude": [
    "module",
    "function",
    "builtin_function_or_method",
    "instance",
    "_Feature"
   ],
   "window_display": false
  }
 },
 "nbformat": 4,
 "nbformat_minor": 2
}
