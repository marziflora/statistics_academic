{
 "cells": [
  {
   "cell_type": "code",
   "execution_count": 4,
   "metadata": {},
   "outputs": [
    {
     "name": "stdout",
     "output_type": "stream",
     "text": [
      "[1] \"a - poziomy czynnika: 8 ; b - bloki:  56 ; r - replikacje:  21 ; k - poziomy czynnika w bloku:  3\"\n"
     ]
    }
   ],
   "source": [
    "#dane: #lambda - liczba całkowita; b i r nieznane\n",
    "#a*r=b*k; lambda=r*(k-1)/(a-1)\n",
    "#a - poziomy czynnika; b - bloki ; k - poziomy czynnika w bloku; r - replikacje poziomów czynnika\n",
    "a=8 #poziom czynnika    a*r = b * k (k poziomów dla bloku)        r to ilość poziomów dla a (czynnika)\n",
    "k=3\n",
    "\n",
    "r=b=c()\n",
    "estymacja=function(a,k){\n",
    "  for (i in 1:100){    #jakie r \n",
    "  if(((k-1)*i)%%(a-1)==0){  # lambda wyliczone, jeżeli jest liczbą całkowitą\n",
    "    if(((a*i)%%k)==0){   # a*r = N*a = b*k \n",
    "      r=append(r,i,after=length(r))\n",
    "      be=(a*r)/k  \n",
    "      b=append(b,be,after=length(b))}}}\n",
    "  print(paste(\"a - poziomy czynnika:\",a,\"; b - bloki: \",b[1], \"; r - replikacje: \",r[1], \"; k - poziomy czynnika w bloku: \",k))\n",
    "}\n",
    "estymacja(a,k)"
   ]
  },
  {
   "cell_type": "code",
   "execution_count": 29,
   "metadata": {},
   "outputs": [
    {
     "data": {
      "text/html": [
       "<table>\n",
       "<thead><tr><th></th><th scope=col>Tak_po</th><th scope=col>Nie_po</th></tr></thead>\n",
       "<tbody>\n",
       "\t<tr><th scope=row>Tak_przed</th><td>19</td><td>48</td></tr>\n",
       "\t<tr><th scope=row>Nie_przed</th><td> 1</td><td>32</td></tr>\n",
       "</tbody>\n",
       "</table>\n"
      ],
      "text/latex": [
       "\\begin{tabular}{r|ll}\n",
       "  & Tak\\_po & Nie\\_po\\\\\n",
       "\\hline\n",
       "\tTak\\_przed & 19 & 48\\\\\n",
       "\tNie\\_przed &  1 & 32\\\\\n",
       "\\end{tabular}\n"
      ],
      "text/markdown": [
       "\n",
       "| <!--/--> | Tak_po | Nie_po |\n",
       "|---|---|---|\n",
       "| Tak_przed | 19 | 48 |\n",
       "| Nie_przed |  1 | 32 |\n",
       "\n"
      ],
      "text/plain": [
       "          Tak_po Nie_po\n",
       "Tak_przed 19     48    \n",
       "Nie_przed  1     32    "
      ]
     },
     "metadata": {},
     "output_type": "display_data"
    }
   ],
   "source": [
    "#1. Ho: Film nie miał wpływu na rodzaj wybieranych posiłków, H1: Film miał wpływ na rodzaj wybieranych posiłków\n",
    "x = matrix(c(19, 48, 1, 32), byrow=TRUE, ncol=2, nrow=2)\n",
    "colnames(x) <- c(\"Tak_po\", \"Nie_po\") #PO\n",
    "rownames(x) <- c(\"Tak_przed\",\"Nie_przed\") #PRZED\n",
    "x = data.frame(x)\n",
    "x"
   ]
  },
  {
   "cell_type": "code",
   "execution_count": 18,
   "metadata": {},
   "outputs": [
    {
     "data": {
      "text/plain": [
       "\n",
       "\tMcNemar's Chi-squared test\n",
       "\n",
       "data:  rbind(c(19, 48), c(1, 32))\n",
       "McNemar's chi-squared = 45.082, df = 1, p-value = 1.89e-11\n"
      ]
     },
     "metadata": {},
     "output_type": "display_data"
    }
   ],
   "source": [
    "mcnemar.test(rbind(c(19,48),c(1,32)), correct =F) #p-value = 1.89e-11. Używam McNemara."
   ]
  },
  {
   "cell_type": "code",
   "execution_count": 43,
   "metadata": {},
   "outputs": [
    {
     "data": {
      "text/html": [
       "45.0816326530612"
      ],
      "text/latex": [
       "45.0816326530612"
      ],
      "text/markdown": [
       "45.0816326530612"
      ],
      "text/plain": [
       "[1] 45.08163"
      ]
     },
     "metadata": {},
     "output_type": "display_data"
    }
   ],
   "source": [
    "x1 <- (1-48)**2/(1+48)\n",
    "x1"
   ]
  },
  {
   "cell_type": "code",
   "execution_count": 2,
   "metadata": {},
   "outputs": [
    {
     "data": {
      "text/html": [
       "3.84145882069412"
      ],
      "text/latex": [
       "3.84145882069412"
      ],
      "text/markdown": [
       "3.84145882069412"
      ],
      "text/plain": [
       "[1] 3.841459"
      ]
     },
     "metadata": {},
     "output_type": "display_data"
    }
   ],
   "source": [
    "qchisq(0.95,df=1) #do + nieskonczonosc. W zakresie odrzucenia więc odrzucamy."
   ]
  },
  {
   "cell_type": "code",
   "execution_count": 3,
   "metadata": {},
   "outputs": [
    {
     "data": {
      "text/html": [
       "25"
      ],
      "text/latex": [
       "25"
      ],
      "text/markdown": [
       "25"
      ],
      "text/plain": [
       "[1] 25"
      ]
     },
     "metadata": {},
     "output_type": "display_data"
    },
    {
     "data": {
      "text/html": [
       "<table>\n",
       "<thead><tr><th></th><th scope=col>Szwalnia1</th><th scope=col>Szwalnia2</th></tr></thead>\n",
       "<tbody>\n",
       "\t<tr><th scope=row>Wadliwe</th><td>2 </td><td> 5</td></tr>\n",
       "\t<tr><th scope=row>Ok</th><td>7 </td><td>11</td></tr>\n",
       "</tbody>\n",
       "</table>\n"
      ],
      "text/latex": [
       "\\begin{tabular}{r|ll}\n",
       "  & Szwalnia1 & Szwalnia2\\\\\n",
       "\\hline\n",
       "\tWadliwe & 2  &  5\\\\\n",
       "\tOk & 7  & 11\\\\\n",
       "\\end{tabular}\n"
      ],
      "text/markdown": [
       "\n",
       "| <!--/--> | Szwalnia1 | Szwalnia2 |\n",
       "|---|---|---|\n",
       "| Wadliwe | 2  |  5 |\n",
       "| Ok | 7  | 11 |\n",
       "\n"
      ],
      "text/plain": [
       "        Szwalnia1 Szwalnia2\n",
       "Wadliwe 2          5       \n",
       "Ok      7         11       "
      ]
     },
     "metadata": {},
     "output_type": "display_data"
    }
   ],
   "source": [
    "#2\n",
    "x = matrix(c(2, 5, 7, 11), byrow=TRUE, ncol=2, nrow=2)\n",
    "colnames(x) <- c(\"Szwalnia1\", \"Szwalnia2\") #PO\n",
    "rownames(x) <- c(\"Wadliwe\",\"Ok\") #PRZED\n",
    "x = data.frame(x)\n",
    "sum(x) #ale jedna wartość poniżej 10 więc robię fishera.\n",
    "x"
   ]
  },
  {
   "cell_type": "code",
   "execution_count": 3,
   "metadata": {},
   "outputs": [
    {
     "data": {
      "text/html": [
       "1"
      ],
      "text/latex": [
       "1"
      ],
      "text/markdown": [
       "1"
      ],
      "text/plain": [
       "[1] 1"
      ]
     },
     "metadata": {},
     "output_type": "display_data"
    },
    {
     "name": "stdout",
     "output_type": "stream",
     "text": [
      "     [,1] [,2]\n",
      "[1,]    0    7\n",
      "[2,]    9    9\n",
      "     [,1] [,2]\n",
      "[1,]    1    6\n",
      "[2,]    8   10\n",
      "     [,1] [,2]\n",
      "[1,]    2    5\n",
      "[2,]    7   11\n",
      "     [,1] [,2]\n",
      "[1,]    3    4\n",
      "[2,]    6   12\n",
      "     [,1] [,2]\n",
      "[1,]    4    3\n",
      "[2,]    5   13\n",
      "     [,1] [,2]\n",
      "[1,]    5    2\n",
      "[2,]    4   14\n",
      "     [,1] [,2]\n",
      "[1,]    6    1\n",
      "[2,]    3   15\n",
      "     [,1] [,2]\n",
      "[1,]    7    0\n",
      "[2,]    2   16\n"
     ]
    },
    {
     "data": {
      "text/html": [
       "1"
      ],
      "text/latex": [
       "1"
      ],
      "text/markdown": [
       "1"
      ],
      "text/plain": [
       "[1] 1"
      ]
     },
     "metadata": {},
     "output_type": "display_data"
    }
   ],
   "source": [
    "x=matrix(c(2,5,7,11),2,2,byrow=T)\n",
    "\n",
    "p <- function(dane) {\n",
    "    n11 = dane[1,1]\n",
    "    n12 = dane[1,2]\n",
    "    n21 = dane[2,1]\n",
    "    n22 = dane[2,2]\n",
    "    N = sum(dane)\n",
    "    x2 = (factorial(n11+n12)/(factorial(n11)*factorial(n12))*factorial(n21+n22)/(factorial(n21)*factorial(n22)))/(factorial(N)/(factorial(n11+n21)*factorial(N-(n11+n21))))\n",
    "  return(x2) } # p(x)#[1] 0.3271229\n",
    "\n",
    "r1 <- sum(x[1,]) #suma w wierszu 1\n",
    "r2 <- sum(x[2,]) #suma w wierszu 2\n",
    "c1 <- sum(x[,1]) #suma w kolumnie 1\n",
    "c2 <- sum(x[,2]) #suma w kolumnie 2\n",
    "\n",
    "minvalue <- min(r1, r2, c1, c2) #będę iterować po najmniejszej sumie z kolumn lub wierszy\n",
    "index <- which.min(c(r1, r2, c1, c2)) #w którym punkcie zacząć od 0\n",
    "p_wektor <- numeric(minvalue+1) #dlatego że zaczynam od 0\n",
    "index\n",
    "\n",
    "for (i in 0:minvalue) {\n",
    "    if (index==1 | index==3){\n",
    "  macierz <- rbind(c(i,r1-i),\n",
    "                   c(c1-i,c2-r1+i))\n",
    "  print(macierz)\n",
    "  p_wektor[i+1] <- p(macierz) }\n",
    "    if (index==2 | index==4){ #najmniejsza wartość dla wiersza 2 lub 4\n",
    "  macierz <- rbind(c(c1-i,r1-c1+i),\n",
    "                   c(i,r2-i))\n",
    "  print(macierz)\n",
    "  p_wektor[i+1] <- p(macierz)\n",
    "    }}\n",
    "\n",
    "sum(p_wektor[p_wektor <= p(x)]) #[1] 1, dlatego nie mamy podstaw od odrzucenia hipotezy zerowej, oznacza to: że obecność brakóW nie jest zależna od szwalni"
   ]
  },
  {
   "cell_type": "code",
   "execution_count": null,
   "metadata": {},
   "outputs": [],
   "source": []
  },
  {
   "cell_type": "code",
   "execution_count": 16,
   "metadata": {},
   "outputs": [
    {
     "data": {
      "text/html": [
       "<table>\n",
       "<thead><tr><th></th><th scope=col>X1</th><th scope=col>X2</th><th scope=col>X3</th><th scope=col>X4</th><th scope=col>X5</th><th scope=col>X6</th><th scope=col>X7</th><th scope=col>X8</th><th scope=col>X9</th></tr></thead>\n",
       "<tbody>\n",
       "\t<tr><th scope=row>p</th><td>1</td><td>1</td><td>0</td><td>1</td><td>1</td><td>0</td><td>1</td><td>1</td><td>0</td></tr>\n",
       "\t<tr><th scope=row>w</th><td>1</td><td>0</td><td>0</td><td>1</td><td>1</td><td>1</td><td>1</td><td>0</td><td>1</td></tr>\n",
       "\t<tr><th scope=row>s</th><td>0</td><td>0</td><td>1</td><td>1</td><td>0</td><td>0</td><td>1</td><td>1</td><td>1</td></tr>\n",
       "\t<tr><th scope=row>c</th><td>1</td><td>1</td><td>0</td><td>0</td><td>0</td><td>1</td><td>1</td><td>0</td><td>0</td></tr>\n",
       "\t<tr><th scope=row>t</th><td>1</td><td>0</td><td>1</td><td>0</td><td>0</td><td>1</td><td>0</td><td>1</td><td>1</td></tr>\n",
       "\t<tr><th scope=row>o</th><td>0</td><td>1</td><td>0</td><td>1</td><td>1</td><td>0</td><td>0</td><td>1</td><td>0</td></tr>\n",
       "\t<tr><th scope=row>n</th><td>1</td><td>0</td><td>0</td><td>1</td><td>1</td><td>0</td><td>1</td><td>0</td><td>1</td></tr>\n",
       "</tbody>\n",
       "</table>\n"
      ],
      "text/latex": [
       "\\begin{tabular}{r|lllllllll}\n",
       "  & X1 & X2 & X3 & X4 & X5 & X6 & X7 & X8 & X9\\\\\n",
       "\\hline\n",
       "\tp & 1 & 1 & 0 & 1 & 1 & 0 & 1 & 1 & 0\\\\\n",
       "\tw & 1 & 0 & 0 & 1 & 1 & 1 & 1 & 0 & 1\\\\\n",
       "\ts & 0 & 0 & 1 & 1 & 0 & 0 & 1 & 1 & 1\\\\\n",
       "\tc & 1 & 1 & 0 & 0 & 0 & 1 & 1 & 0 & 0\\\\\n",
       "\tt & 1 & 0 & 1 & 0 & 0 & 1 & 0 & 1 & 1\\\\\n",
       "\to & 0 & 1 & 0 & 1 & 1 & 0 & 0 & 1 & 0\\\\\n",
       "\tn & 1 & 0 & 0 & 1 & 1 & 0 & 1 & 0 & 1\\\\\n",
       "\\end{tabular}\n"
      ],
      "text/markdown": [
       "\n",
       "| <!--/--> | X1 | X2 | X3 | X4 | X5 | X6 | X7 | X8 | X9 |\n",
       "|---|---|---|---|---|---|---|---|---|---|\n",
       "| p | 1 | 1 | 0 | 1 | 1 | 0 | 1 | 1 | 0 |\n",
       "| w | 1 | 0 | 0 | 1 | 1 | 1 | 1 | 0 | 1 |\n",
       "| s | 0 | 0 | 1 | 1 | 0 | 0 | 1 | 1 | 1 |\n",
       "| c | 1 | 1 | 0 | 0 | 0 | 1 | 1 | 0 | 0 |\n",
       "| t | 1 | 0 | 1 | 0 | 0 | 1 | 0 | 1 | 1 |\n",
       "| o | 0 | 1 | 0 | 1 | 1 | 0 | 0 | 1 | 0 |\n",
       "| n | 1 | 0 | 0 | 1 | 1 | 0 | 1 | 0 | 1 |\n",
       "\n"
      ],
      "text/plain": [
       "  X1 X2 X3 X4 X5 X6 X7 X8 X9\n",
       "p 1  1  0  1  1  0  1  1  0 \n",
       "w 1  0  0  1  1  1  1  0  1 \n",
       "s 0  0  1  1  0  0  1  1  1 \n",
       "c 1  1  0  0  0  1  1  0  0 \n",
       "t 1  0  1  0  0  1  0  1  1 \n",
       "o 0  1  0  1  1  0  0  1  0 \n",
       "n 1  0  0  1  1  0  1  0  1 "
      ]
     },
     "metadata": {},
     "output_type": "display_data"
    }
   ],
   "source": [
    "#3\n",
    "x = matrix(c(1,1,0,1,1,0,1,1,0,\n",
    "             1,0,0,1,1,1,1,0,1,\n",
    "             0,0,1,1,0,0,1,1,1,\n",
    "             1,1,0,0,0,1,1,0,0,\n",
    "             1,0,1,0,0,1,0,1,1,\n",
    "             0,1,0,1,1,0,0,1,0,\n",
    "             1,0,0,1,1,0,1,0,1), byrow=TRUE, ncol=9, nrow=7)\n",
    "colnames(x) <- c(\"1\",\"2\",\"3\",\"4\", \"5\", \"6\", \"7\", \"8\", \"9\") #kolumna: koza\n",
    "rownames(x) <- c(\"p\",\"w\",\"s\",\"c\",\"t\", \"o\",\"n\") #wiersz: dzień\n",
    "x = data.frame(x)\n",
    "x"
   ]
  },
  {
   "cell_type": "code",
   "execution_count": 8,
   "metadata": {},
   "outputs": [],
   "source": [
    "# data = c(1,1,0,1,1,0,1,1,0, 1,0,0,1,1,1,1,0,1,  0,0,1,1,0,0,1,1,1,  1,1,0,0,0,1,1,0,0, 1,0,1,0,0,1,0,1,1,   0,1,0,1,1,0,0,1,0, 1,0,0,1,1,0,1,0,1)\n",
    "# lista = data.frame(data, rep(c(\"1\",\"2\",\"3\",\"4\", \"5\", \"6\", \"7\", \"8\", \"9\"),7), c(rep(\"pon\", 9), rep(\"wt\", 9), rep(\"sro\", 9), rep(\"czw\", 9), rep(\"pt\", 9), rep(\"sob\", 9), rep(\"niedz\", 9)) )\n",
    "# colnames(lista) <- c(\"Dane\", \"Koza\", \"Dzien\")\n",
    "# lista"
   ]
  },
  {
   "cell_type": "code",
   "execution_count": 53,
   "metadata": {},
   "outputs": [
    {
     "name": "stdout",
     "output_type": "stream",
     "text": [
      "Q statystyka 1.68 \n",
      "P value dla Q 0.9466548 \n",
      "H0 \n",
      "Obszar odrzucenia: ( 12.59159 ; +inf) \n"
     ]
    }
   ],
   "source": [
    "k <- nrow(x)\n",
    "R <- sum(colSums(x)**2)\n",
    "C <- sum(rowSums(x)**2)\n",
    "T <- sum(rowSums(x))\n",
    "\n",
    "Q <- (k-1)* ((k*C)-(T**2))/(k*T-R)\n",
    "cat(\"Q statystyka\", Q, \"\\n\") #1.68\n",
    "p.val=pchisq(Q,df,lower=FALSE) \n",
    "cat(\"P value dla Q\", p.val, \"\\n\")\n",
    "if (p.val>=0.05){cat(\"H0\", \"\\n\")}\n",
    "if (p.val<0.05){cat(\"H0\", \"\\n\")}\n",
    "\n",
    "df <- k-1\n",
    "alfa <- 0.05\n",
    "#Obustronny:\n",
    "# cat(\"Obszar odrzucenia:\", \"(-inf ;\", qchisq(alfa/2, k-1),\"),(\",  qchisq(1-alfa/2, k-1),\"; +inf)\", \"\\n\") \n",
    "cat(\"Obszar odrzucenia: (\",  qchisq(1-alfa, k-1),\"; +inf)\", \"\\n\") \n",
    "#1.63. Nasze Q nie mieści się w zakresie odrzucenia. + nieskonczonosc."
   ]
  },
  {
   "cell_type": "code",
   "execution_count": 49,
   "metadata": {},
   "outputs": [
    {
     "data": {
      "text/html": [
       "12.591587243744"
      ],
      "text/latex": [
       "12.591587243744"
      ],
      "text/markdown": [
       "12.591587243744"
      ],
      "text/plain": [
       "[1] 12.59159"
      ]
     },
     "metadata": {},
     "output_type": "display_data"
    }
   ],
   "source": [
    "qchisq(1-alfa, k-1) "
   ]
  },
  {
   "cell_type": "code",
   "execution_count": 112,
   "metadata": {},
   "outputs": [
    {
     "data": {
      "text/html": [
       "<table>\n",
       "<thead><tr><th></th><th scope=col>szczep</th><th scope=col>brak</th></tr></thead>\n",
       "<tbody>\n",
       "\t<tr><th scope=row>zdrowe</th><td>30 </td><td> 20</td></tr>\n",
       "\t<tr><th scope=row>chore</th><td>40 </td><td>300</td></tr>\n",
       "</tbody>\n",
       "</table>\n"
      ],
      "text/latex": [
       "\\begin{tabular}{r|ll}\n",
       "  & szczep & brak\\\\\n",
       "\\hline\n",
       "\tzdrowe & 30  &  20\\\\\n",
       "\tchore & 40  & 300\\\\\n",
       "\\end{tabular}\n"
      ],
      "text/markdown": [
       "\n",
       "| <!--/--> | szczep | brak |\n",
       "|---|---|---|\n",
       "| zdrowe | 30  |  20 |\n",
       "| chore | 40  | 300 |\n",
       "\n"
      ],
      "text/plain": [
       "       szczep brak\n",
       "zdrowe 30      20 \n",
       "chore  40     300 "
      ]
     },
     "metadata": {},
     "output_type": "display_data"
    }
   ],
   "source": [
    "#4\n",
    "x = matrix(c(30, 20, 40, 300), byrow=TRUE, ncol=2, nrow=2)\n",
    "colnames(x) <- c(\"szczep\", \"brak\")\n",
    "rownames(x) <- c(\"zdrowe\",\"chore\") \n",
    "x = data.frame(x)\n",
    "x"
   ]
  },
  {
   "cell_type": "code",
   "execution_count": 113,
   "metadata": {},
   "outputs": [
    {
     "data": {
      "text/plain": [
       "\n",
       "\tPearson's Chi-squared test\n",
       "\n",
       "data:  x\n",
       "X-squared = 68.864, df = 1, p-value < 2.2e-16\n"
      ]
     },
     "metadata": {},
     "output_type": "display_data"
    }
   ],
   "source": [
    "chisq.test(x,correct=FALSE) # p-value < 2.2e-16 Jest różnica."
   ]
  },
  {
   "cell_type": "code",
   "execution_count": 114,
   "metadata": {},
   "outputs": [
    {
     "data": {
      "text/html": [
       "11.25"
      ],
      "text/latex": [
       "11.25"
      ],
      "text/markdown": [
       "11.25"
      ],
      "text/plain": [
       "[1] 11.25"
      ]
     },
     "metadata": {},
     "output_type": "display_data"
    }
   ],
   "source": [
    "OR =  300/20 / (40/30) #Ryzyko zachorowanie u nieszczepionych jest 11,25 x wyższa od ryzyka zachorowania u szczepionych\n",
    "OR"
   ]
  },
  {
   "cell_type": "code",
   "execution_count": 55,
   "metadata": {},
   "outputs": [
    {
     "data": {
      "text/html": [
       "11"
      ],
      "text/latex": [
       "11"
      ],
      "text/markdown": [
       "11"
      ],
      "text/plain": [
       "[1] 11"
      ]
     },
     "metadata": {},
     "output_type": "display_data"
    }
   ],
   "source": [
    "13/13 / (1/11)"
   ]
  },
  {
   "cell_type": "code",
   "execution_count": 9,
   "metadata": {},
   "outputs": [
    {
     "data": {
      "text/html": [
       "11.25"
      ],
      "text/latex": [
       "11.25"
      ],
      "text/markdown": [
       "11.25"
      ],
      "text/plain": [
       "[1] 11.25"
      ]
     },
     "metadata": {},
     "output_type": "display_data"
    },
    {
     "data": {
      "text/html": [
       "0.647619047619048"
      ],
      "text/latex": [
       "0.647619047619048"
      ],
      "text/markdown": [
       "0.647619047619048"
      ],
      "text/plain": [
       "[1] 0.647619"
      ]
     },
     "metadata": {},
     "output_type": "display_data"
    },
    {
     "data": {
      "text/html": [
       "1.54411764705882"
      ],
      "text/latex": [
       "1.54411764705882"
      ],
      "text/markdown": [
       "1.54411764705882"
      ],
      "text/plain": [
       "[1] 1.544118"
      ]
     },
     "metadata": {},
     "output_type": "display_data"
    }
   ],
   "source": [
    "#Iloraz szans: szansa w jednej grupie/szansa w drugiej grupie. \n",
    "n11 = 30\n",
    "n22 = 300\n",
    "n21= 40\n",
    "n12 = 20\n",
    "OR = n11*n22/(n21*n12)  # (30*300/(40*20))\n",
    "OR #Szansa na zachorowanie jest 11x wyższa wśród nieszczepionych\n",
    "\n",
    "#Ryzyko względne:\n",
    "RR = (40/(40+30)) / ((300)/(300+40))\n",
    "RR #0.609.  Zachorowanie wśród szczepionych jest o 61% niższe niż u nie szczepionych.\n",
    "RR =  ((300)/(300+40))  /  (40/(40+30)) \n",
    "RR"
   ]
  },
  {
   "cell_type": "code",
   "execution_count": 117,
   "metadata": {},
   "outputs": [
    {
     "data": {
      "text/html": [
       "390"
      ],
      "text/latex": [
       "390"
      ],
      "text/markdown": [
       "390"
      ],
      "text/plain": [
       "[1] 390"
      ]
     },
     "metadata": {},
     "output_type": "display_data"
    }
   ],
   "source": [
    "sum(x) # N = 390"
   ]
  },
  {
   "cell_type": "code",
   "execution_count": 118,
   "metadata": {},
   "outputs": [
    {
     "data": {
      "text/html": [
       "7.24301941543849"
      ],
      "text/latex": [
       "7.24301941543849"
      ],
      "text/markdown": [
       "7.24301941543849"
      ],
      "text/plain": [
       "[1] 7.243019"
      ]
     },
     "metadata": {},
     "output_type": "display_data"
    }
   ],
   "source": [
    "#Statystyka testowa OR:\n",
    "Z = log(OR) / (sqrt(1/n11 + 1/n12 + 1/n21 + 1/n22)) #7.24 powinno być\n",
    "Z"
   ]
  },
  {
   "cell_type": "code",
   "execution_count": 120,
   "metadata": {},
   "outputs": [
    {
     "data": {
      "text/html": [
       "1.64485362695147"
      ],
      "text/latex": [
       "1.64485362695147"
      ],
      "text/markdown": [
       "1.64485362695147"
      ],
      "text/plain": [
       "[1] 1.644854"
      ]
     },
     "metadata": {},
     "output_type": "display_data"
    }
   ],
   "source": [
    "qnorm(0.95) #(do + nieskonczonosc, i -inf, -1.64)"
   ]
  },
  {
   "cell_type": "code",
   "execution_count": 48,
   "metadata": {},
   "outputs": [
    {
     "data": {
      "text/html": [
       "-1.64485362695147"
      ],
      "text/latex": [
       "-1.64485362695147"
      ],
      "text/markdown": [
       "-1.64485362695147"
      ],
      "text/plain": [
       "[1] -1.644854"
      ]
     },
     "metadata": {},
     "output_type": "display_data"
    }
   ],
   "source": [
    "qnorm(1-0.95)"
   ]
  },
  {
   "cell_type": "code",
   "execution_count": null,
   "metadata": {},
   "outputs": [],
   "source": [
    "#Nasza próba wpada w obszar odrzucenia, czyli statystycznie jest różnica w szansie."
   ]
  },
  {
   "cell_type": "code",
   "execution_count": null,
   "metadata": {},
   "outputs": [],
   "source": []
  },
  {
   "cell_type": "code",
   "execution_count": null,
   "metadata": {},
   "outputs": [],
   "source": []
  }
 ],
 "metadata": {
  "kernelspec": {
   "display_name": "R",
   "language": "R",
   "name": "ir"
  },
  "language_info": {
   "codemirror_mode": "r",
   "file_extension": ".r",
   "mimetype": "text/x-r-source",
   "name": "R",
   "pygments_lexer": "r",
   "version": "3.6.1"
  },
  "toc": {
   "base_numbering": 1,
   "nav_menu": {},
   "number_sections": true,
   "sideBar": true,
   "skip_h1_title": false,
   "title_cell": "Table of Contents",
   "title_sidebar": "Contents",
   "toc_cell": false,
   "toc_position": {},
   "toc_section_display": true,
   "toc_window_display": false
  },
  "varInspector": {
   "cols": {
    "lenName": 16,
    "lenType": 16,
    "lenVar": 40
   },
   "kernels_config": {
    "python": {
     "delete_cmd_postfix": "",
     "delete_cmd_prefix": "del ",
     "library": "var_list.py",
     "varRefreshCmd": "print(var_dic_list())"
    },
    "r": {
     "delete_cmd_postfix": ") ",
     "delete_cmd_prefix": "rm(",
     "library": "var_list.r",
     "varRefreshCmd": "cat(var_dic_list()) "
    }
   },
   "types_to_exclude": [
    "module",
    "function",
    "builtin_function_or_method",
    "instance",
    "_Feature"
   ],
   "window_display": false
  }
 },
 "nbformat": 4,
 "nbformat_minor": 2
}
