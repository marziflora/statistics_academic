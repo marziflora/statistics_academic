{
 "cells": [
  {
   "cell_type": "code",
   "execution_count": 14,
   "metadata": {},
   "outputs": [
    {
     "data": {
      "text/html": [
       "<table>\n",
       "<thead><tr><th scope=col>X1</th><th scope=col>X2</th><th scope=col>X3</th><th scope=col>X4</th><th scope=col>X5</th></tr></thead>\n",
       "<tbody>\n",
       "\t<tr><td>3 </td><td>-2</td><td>4 </td><td>1 </td><td>-3</td></tr>\n",
       "\t<tr><td>3 </td><td>-3</td><td>5 </td><td>2 </td><td> 0</td></tr>\n",
       "\t<tr><td>5 </td><td>-2</td><td>8 </td><td>3 </td><td>-2</td></tr>\n",
       "\t<tr><td>3 </td><td> 1</td><td>5 </td><td>5 </td><td>-1</td></tr>\n",
       "</tbody>\n",
       "</table>\n"
      ],
      "text/latex": [
       "\\begin{tabular}{r|lllll}\n",
       " X1 & X2 & X3 & X4 & X5\\\\\n",
       "\\hline\n",
       "\t 3  & -2 & 4  & 1  & -3\\\\\n",
       "\t 3  & -3 & 5  & 2  &  0\\\\\n",
       "\t 5  & -2 & 8  & 3  & -2\\\\\n",
       "\t 3  &  1 & 5  & 5  & -1\\\\\n",
       "\\end{tabular}\n"
      ],
      "text/markdown": [
       "\n",
       "| X1 | X2 | X3 | X4 | X5 |\n",
       "|---|---|---|---|---|\n",
       "| 3  | -2 | 4  | 1  | -3 |\n",
       "| 3  | -3 | 5  | 2  |  0 |\n",
       "| 5  | -2 | 8  | 3  | -2 |\n",
       "| 3  |  1 | 5  | 5  | -1 |\n",
       "\n"
      ],
      "text/plain": [
       "  X1 X2 X3 X4 X5\n",
       "1 3  -2 4  1  -3\n",
       "2 3  -3 5  2   0\n",
       "3 5  -2 8  3  -2\n",
       "4 3   1 5  5  -1"
      ]
     },
     "metadata": {},
     "output_type": "display_data"
    }
   ],
   "source": [
    "#Zad1.\n",
    "x = matrix(c(73, 68, 74, 71, 67, 73, 67, 75, 72, 70, 75, 68, 78, 73, 68, 73, 71, 75, 75, 69), byrow=TRUE, nrow = 4, ncol = 5)\n",
    "x = data.frame(x)\n",
    "# rownames(x) <- c(1:4) \n",
    "# colnames(x) <- c(1:5)\n",
    "x = (x-70)*1\n",
    "# x$sum = rowSums(x)\n",
    "# x[nrow(x) + 1,] = colSums(x)\n",
    "x"
   ]
  },
  {
   "cell_type": "code",
   "execution_count": 15,
   "metadata": {},
   "outputs": [],
   "source": [
    "a = 4\n",
    "b = 5\n",
    "N = 20"
   ]
  },
  {
   "cell_type": "code",
   "execution_count": 4,
   "metadata": {},
   "outputs": [
    {
     "data": {
      "text/html": [
       "191.75"
      ],
      "text/latex": [
       "191.75"
      ],
      "text/markdown": [
       "191.75"
      ],
      "text/plain": [
       "[1] 191.75"
      ]
     },
     "metadata": {},
     "output_type": "display_data"
    },
    {
     "data": {
      "text/html": [
       "12.95"
      ],
      "text/latex": [
       "12.95"
      ],
      "text/markdown": [
       "12.95"
      ],
      "text/plain": [
       "[1] 12.95"
      ]
     },
     "metadata": {},
     "output_type": "display_data"
    },
    {
     "data": {
      "text/html": [
       "157"
      ],
      "text/latex": [
       "157"
      ],
      "text/markdown": [
       "157"
      ],
      "text/plain": [
       "[1] 157"
      ]
     },
     "metadata": {},
     "output_type": "display_data"
    },
    {
     "data": {
      "text/html": [
       "21.8"
      ],
      "text/latex": [
       "21.8"
      ],
      "text/markdown": [
       "21.8"
      ],
      "text/plain": [
       "[1] 21.8"
      ]
     },
     "metadata": {},
     "output_type": "display_data"
    }
   ],
   "source": [
    "#a) + b)?\n",
    "SST = sum(x[1:4, 1:5]**2)-(35**2/20)\n",
    "SST\n",
    "SSA = sum(x[1:4, 6]**2)/b -(35**2/20)\n",
    "SSA\n",
    "SSB = sum(x[5,1:5]**2)/a - (35**2/20)\n",
    "SSB\n",
    "SSE = SST - SSA - SSB\n",
    "SSE"
   ]
  },
  {
   "cell_type": "code",
   "execution_count": 9,
   "metadata": {},
   "outputs": [
    {
     "data": {
      "text/html": [
       "21.605504587156"
      ],
      "text/latex": [
       "21.605504587156"
      ],
      "text/markdown": [
       "21.605504587156"
      ],
      "text/plain": [
       "[1] 21.6055"
      ]
     },
     "metadata": {},
     "output_type": "display_data"
    },
    {
     "data": {
      "text/html": [
       "3.25916672690125"
      ],
      "text/latex": [
       "3.25916672690125"
      ],
      "text/markdown": [
       "3.25916672690125"
      ],
      "text/plain": [
       "[1] 3.259167"
      ]
     },
     "metadata": {},
     "output_type": "display_data"
    }
   ],
   "source": [
    "# Poziom czynnika: a-1=4 MSA=SSA/a-1   F=MSA/MSE\n",
    "# Bloki: b-1=3  SSB/b-1   MSB=SSB/b-1  F=MSB/MSE\n",
    "#F0 = MSB/MSE\n",
    "MSA = SSA/(a-1)\n",
    "MSB = SSB/(b-1)\n",
    "MSE = SSE/((a-1)*(b-1))\n",
    "F0 = MSB/MSE\n",
    "F0\n",
    "qf(p=0.95, df1=4, df2=12)\n",
    "#Wartość z tablic F(0.95) dla stopni swobody (4,3*4=12) = 3,259 Odrzucamy hipotezę H0."
   ]
  },
  {
   "cell_type": "code",
   "execution_count": 24,
   "metadata": {},
   "outputs": [
    {
     "data": {
      "text/html": [
       "4.66666666666667"
      ],
      "text/latex": [
       "4.66666666666667"
      ],
      "text/markdown": [
       "4.66666666666667"
      ],
      "text/plain": [
       "[1] 4.666667"
      ]
     },
     "metadata": {},
     "output_type": "display_data"
    },
    {
     "data": {
      "text/html": [
       "<dl class=dl-horizontal>\n",
       "\t<dt>1</dt>\n",
       "\t\t<dd>-3.66666666666667</dd>\n",
       "\t<dt>2</dt>\n",
       "\t\t<dd>-2.33333333333333</dd>\n",
       "\t<dt>3</dt>\n",
       "\t\t<dd>-0.666666666666667</dd>\n",
       "\t<dt>4</dt>\n",
       "\t\t<dd>-0.333333333333334</dd>\n",
       "\t<dt>5</dt>\n",
       "\t\t<dd>7</dd>\n",
       "</dl>\n"
      ],
      "text/latex": [
       "\\begin{description*}\n",
       "\\item[1] -3.66666666666667\n",
       "\\item[2] -2.33333333333333\n",
       "\\item[3] -0.666666666666667\n",
       "\\item[4] -0.333333333333334\n",
       "\\item[5] 7\n",
       "\\end{description*}\n"
      ],
      "text/markdown": [
       "1\n",
       ":   -3.666666666666672\n",
       ":   -2.333333333333333\n",
       ":   -0.6666666666666674\n",
       ":   -0.3333333333333345\n",
       ":   7\n",
       "\n"
      ],
      "text/plain": [
       "         1          2          3          4          5 \n",
       "-3.6666667 -2.3333333 -0.6666667 -0.3333333  7.0000000 "
      ]
     },
     "metadata": {},
     "output_type": "display_data"
    },
    {
     "data": {
      "text/html": [
       "<dl class=dl-horizontal>\n",
       "\t<dt>1</dt>\n",
       "\t\t<dd>1</dd>\n",
       "\t<dt>2</dt>\n",
       "\t\t<dd>2.33333333333333</dd>\n",
       "\t<dt>3</dt>\n",
       "\t\t<dd>4</dd>\n",
       "\t<dt>4</dt>\n",
       "\t\t<dd>4.33333333333333</dd>\n",
       "\t<dt>5</dt>\n",
       "\t\t<dd>11.6666666666667</dd>\n",
       "</dl>\n"
      ],
      "text/latex": [
       "\\begin{description*}\n",
       "\\item[1] 1\n",
       "\\item[2] 2.33333333333333\n",
       "\\item[3] 4\n",
       "\\item[4] 4.33333333333333\n",
       "\\item[5] 11.6666666666667\n",
       "\\end{description*}\n"
      ],
      "text/markdown": [
       "1\n",
       ":   12\n",
       ":   2.333333333333333\n",
       ":   44\n",
       ":   4.333333333333335\n",
       ":   11.6666666666667\n",
       "\n"
      ],
      "text/plain": [
       "        1         2         3         4         5 \n",
       " 1.000000  2.333333  4.000000  4.333333 11.666667 "
      ]
     },
     "metadata": {},
     "output_type": "display_data"
    },
    {
     "data": {
      "text/html": [
       "<dl class=dl-horizontal>\n",
       "\t<dt>1</dt>\n",
       "\t\t<dd>0.933333333333333</dd>\n",
       "\t<dt>2</dt>\n",
       "\t\t<dd>-7.06666666666667</dd>\n",
       "\t<dt>3</dt>\n",
       "\t\t<dd>4.13333333333333</dd>\n",
       "\t<dt>4</dt>\n",
       "\t\t<dd>-0.266666666666667</dd>\n",
       "\t<dt>5</dt>\n",
       "\t\t<dd>-7.06666666666667</dd>\n",
       "\t<dt>sum</dt>\n",
       "\t\t<dd>9.33333333333333</dd>\n",
       "</dl>\n"
      ],
      "text/latex": [
       "\\begin{description*}\n",
       "\\item[1] 0.933333333333333\n",
       "\\item[2] -7.06666666666667\n",
       "\\item[3] 4.13333333333333\n",
       "\\item[4] -0.266666666666667\n",
       "\\item[5] -7.06666666666667\n",
       "\\item[sum] 9.33333333333333\n",
       "\\end{description*}\n"
      ],
      "text/markdown": [
       "1\n",
       ":   0.9333333333333332\n",
       ":   -7.066666666666673\n",
       ":   4.133333333333334\n",
       ":   -0.2666666666666675\n",
       ":   -7.06666666666667sum\n",
       ":   9.33333333333333\n",
       "\n"
      ],
      "text/plain": [
       "         1          2          3          4          5        sum \n",
       " 0.9333333 -7.0666667  4.1333333 -0.2666667 -7.0666667  9.3333333 "
      ]
     },
     "metadata": {},
     "output_type": "display_data"
    },
    {
     "data": {
      "text/html": [
       "<dl class=dl-horizontal>\n",
       "\t<dt>1</dt>\n",
       "\t\t<dd>5.6</dd>\n",
       "\t<dt>2</dt>\n",
       "\t\t<dd>-2.4</dd>\n",
       "\t<dt>3</dt>\n",
       "\t\t<dd>8.8</dd>\n",
       "\t<dt>4</dt>\n",
       "\t\t<dd>4.4</dd>\n",
       "\t<dt>5</dt>\n",
       "\t\t<dd>-2.4</dd>\n",
       "\t<dt>sum</dt>\n",
       "\t\t<dd>14</dd>\n",
       "</dl>\n"
      ],
      "text/latex": [
       "\\begin{description*}\n",
       "\\item[1] 5.6\n",
       "\\item[2] -2.4\n",
       "\\item[3] 8.8\n",
       "\\item[4] 4.4\n",
       "\\item[5] -2.4\n",
       "\\item[sum] 14\n",
       "\\end{description*}\n"
      ],
      "text/markdown": [
       "1\n",
       ":   5.62\n",
       ":   -2.43\n",
       ":   8.84\n",
       ":   4.45\n",
       ":   -2.4sum\n",
       ":   14\n",
       "\n"
      ],
      "text/plain": [
       "   1    2    3    4    5  sum \n",
       " 5.6 -2.4  8.8  4.4 -2.4 14.0 "
      ]
     },
     "metadata": {},
     "output_type": "display_data"
    }
   ],
   "source": [
    "a = nrow(x) \n",
    "b = ncol(x)\n",
    "N = a*b\n",
    "yi <- rowSums(x) # yi.\n",
    "yj <- colSums(x) # y.j\n",
    "y = sum(x) # y..\n",
    "\n",
    "mu.hat =  y/N\n",
    "tau.hat =  rowMeans(x) - y/N # estymator dla i-tego poziomu czynnika\n",
    "mui.hat = mu.hat + tau.hat\n",
    "beta.hat =  colMeans(x) - y/N  #estymator dla j-tego bloku\n",
    "betai.hat = mu.hat + beta.hat\n",
    "\n",
    "mu.hat\n",
    "tau.hat # estymator dla i-tego poziomu czynnika\n",
    "mui.hat\n",
    "beta.hat # estymator dla j-tego bloku\n",
    "betai.hat"
   ]
  },
  {
   "cell_type": "code",
   "execution_count": 11,
   "metadata": {},
   "outputs": [
    {
     "data": {
      "text/html": [
       "<table>\n",
       "<thead><tr><th scope=col>1</th><th scope=col>2</th><th scope=col>3</th><th scope=col>4</th><th scope=col>5</th><th scope=col>sum</th></tr></thead>\n",
       "<tbody>\n",
       "\t<tr><td> 3 </td><td>-2 </td><td>  4</td><td> 1 </td><td>-3 </td><td> 3 </td></tr>\n",
       "\t<tr><td> 3 </td><td>-3 </td><td>NaN</td><td> 2 </td><td> 0 </td><td> 2 </td></tr>\n",
       "\t<tr><td> 5 </td><td>-2 </td><td>  8</td><td> 3 </td><td>-2 </td><td>12 </td></tr>\n",
       "\t<tr><td> 3 </td><td> 1 </td><td>  5</td><td> 5 </td><td>-1 </td><td>13 </td></tr>\n",
       "\t<tr><td>14 </td><td>-6 </td><td> 17</td><td>11 </td><td>-6 </td><td>30 </td></tr>\n",
       "</tbody>\n",
       "</table>\n"
      ],
      "text/latex": [
       "\\begin{tabular}{r|llllll}\n",
       " 1 & 2 & 3 & 4 & 5 & sum\\\\\n",
       "\\hline\n",
       "\t  3  & -2  &   4 &  1  & -3  &  3 \\\\\n",
       "\t  3  & -3  & NaN &  2  &  0  &  2 \\\\\n",
       "\t  5  & -2  &   8 &  3  & -2  & 12 \\\\\n",
       "\t  3  &  1  &   5 &  5  & -1  & 13 \\\\\n",
       "\t 14  & -6  &  17 & 11  & -6  & 30 \\\\\n",
       "\\end{tabular}\n"
      ],
      "text/markdown": [
       "\n",
       "| 1 | 2 | 3 | 4 | 5 | sum |\n",
       "|---|---|---|---|---|---|\n",
       "|  3  | -2  |   4 |  1  | -3  |  3  |\n",
       "|  3  | -3  | NaN |  2  |  0  |  2  |\n",
       "|  5  | -2  |   8 |  3  | -2  | 12  |\n",
       "|  3  |  1  |   5 |  5  | -1  | 13  |\n",
       "| 14  | -6  |  17 | 11  | -6  | 30  |\n",
       "\n"
      ],
      "text/plain": [
       "  1  2  3   4  5  sum\n",
       "1  3 -2   4  1 -3  3 \n",
       "2  3 -3 NaN  2  0  2 \n",
       "3  5 -2   8  3 -2 12 \n",
       "4  3  1   5  5 -1 13 \n",
       "5 14 -6  17 11 -6 30 "
      ]
     },
     "metadata": {},
     "output_type": "display_data"
    }
   ],
   "source": [
    "#c) substancja 2, bela 3\n",
    "x2 = x[1:4, 1:5]\n",
    "x2[2, 3] = NaN\n",
    "x2$sum = rowSums(x2, na.rm=TRUE)\n",
    "x2[nrow(x2) + 1,] = colSums(x2, na.rm=TRUE)\n",
    "x2"
   ]
  },
  {
   "cell_type": "code",
   "execution_count": 12,
   "metadata": {},
   "outputs": [
    {
     "data": {
      "text/html": [
       "5.25"
      ],
      "text/latex": [
       "5.25"
      ],
      "text/markdown": [
       "5.25"
      ],
      "text/plain": [
       "[1] 5.25"
      ]
     },
     "metadata": {},
     "output_type": "display_data"
    }
   ],
   "source": [
    "y2 = sum(x2[2,1:5], na.rm=TRUE)\n",
    "y3 = sum(x2[1:4,3], na.rm=TRUE)\n",
    "y.. = sum(x2[1:4,1:5], na.rm=TRUE)\n",
    "x_estymowane = (a*y2+b*y3-y..)/((a-1)*(b-1))\n",
    "x_estymowane "
   ]
  },
  {
   "cell_type": "code",
   "execution_count": 35,
   "metadata": {},
   "outputs": [
    {
     "name": "stdout",
     "output_type": "stream",
     "text": [
      "[1] \"H1\"\n"
     ]
    },
    {
     "data": {
      "text/html": [
       "<ol>\n",
       "\t<li>191.75</li>\n",
       "\t<li>12.95</li>\n",
       "\t<li>157</li>\n",
       "\t<li>21.8</li>\n",
       "\t<li>4.31666666666667</li>\n",
       "\t<li>39.25</li>\n",
       "\t<li>1.81666666666667</li>\n",
       "\t<li>21.605504587156</li>\n",
       "\t<li>3.4902948194976</li>\n",
       "</ol>\n"
      ],
      "text/latex": [
       "\\begin{enumerate}\n",
       "\\item 191.75\n",
       "\\item 12.95\n",
       "\\item 157\n",
       "\\item 21.8\n",
       "\\item 4.31666666666667\n",
       "\\item 39.25\n",
       "\\item 1.81666666666667\n",
       "\\item 21.605504587156\n",
       "\\item 3.4902948194976\n",
       "\\end{enumerate}\n"
      ],
      "text/markdown": [
       "1. 191.75\n",
       "2. 12.95\n",
       "3. 157\n",
       "4. 21.8\n",
       "5. 4.31666666666667\n",
       "6. 39.25\n",
       "7. 1.81666666666667\n",
       "8. 21.605504587156\n",
       "9. 3.4902948194976\n",
       "\n",
       "\n"
      ],
      "text/plain": [
       "[[1]]\n",
       "[1] 191.75\n",
       "\n",
       "[[2]]\n",
       "[1] 12.95\n",
       "\n",
       "[[3]]\n",
       "[1] 157\n",
       "\n",
       "[[4]]\n",
       "[1] 21.8\n",
       "\n",
       "[[5]]\n",
       "[1] 4.316667\n",
       "\n",
       "[[6]]\n",
       "[1] 39.25\n",
       "\n",
       "[[7]]\n",
       "[1] 1.816667\n",
       "\n",
       "[[8]]\n",
       "[1] 21.6055\n",
       "\n",
       "[[9]]\n",
       "[1] 3.490295\n"
      ]
     },
     "metadata": {},
     "output_type": "display_data"
    },
    {
     "name": "stdout",
     "output_type": "stream",
     "text": [
      "[1] \"H1\"\n"
     ]
    },
    {
     "data": {
      "text/html": [
       "<ol>\n",
       "\t<li>210.5625</li>\n",
       "\t<li>18.8666666666667</li>\n",
       "\t<li>124.5</li>\n",
       "\t<li>67.1958333333333</li>\n",
       "\t<li>6.28888888888889</li>\n",
       "\t<li>31.125</li>\n",
       "\t<li>5.59965277777778</li>\n",
       "\t<li>5.55838035592485</li>\n",
       "\t<li>3.4902948194976</li>\n",
       "</ol>\n"
      ],
      "text/latex": [
       "\\begin{enumerate}\n",
       "\\item 210.5625\n",
       "\\item 18.8666666666667\n",
       "\\item 124.5\n",
       "\\item 67.1958333333333\n",
       "\\item 6.28888888888889\n",
       "\\item 31.125\n",
       "\\item 5.59965277777778\n",
       "\\item 5.55838035592485\n",
       "\\item 3.4902948194976\n",
       "\\end{enumerate}\n"
      ],
      "text/markdown": [
       "1. 210.5625\n",
       "2. 18.8666666666667\n",
       "3. 124.5\n",
       "4. 67.1958333333333\n",
       "5. 6.28888888888889\n",
       "6. 31.125\n",
       "7. 5.59965277777778\n",
       "8. 5.55838035592485\n",
       "9. 3.4902948194976\n",
       "\n",
       "\n"
      ],
      "text/plain": [
       "[[1]]\n",
       "[1] 210.5625\n",
       "\n",
       "[[2]]\n",
       "[1] 18.86667\n",
       "\n",
       "[[3]]\n",
       "[1] 124.5\n",
       "\n",
       "[[4]]\n",
       "[1] 67.19583\n",
       "\n",
       "[[5]]\n",
       "[1] 6.288889\n",
       "\n",
       "[[6]]\n",
       "[1] 31.125\n",
       "\n",
       "[[7]]\n",
       "[1] 5.599653\n",
       "\n",
       "[[8]]\n",
       "[1] 5.55838\n",
       "\n",
       "[[9]]\n",
       "[1] 3.490295\n"
      ]
     },
     "metadata": {},
     "output_type": "display_data"
    }
   ],
   "source": [
    "analiza_wariancji <- function(x, estymacja=FALSE){\n",
    "    a = length(row.names(x)) - 1\n",
    "    b = length(colnames(x)) - 1\n",
    "    if (estymacja==TRUE) {  y2 = sum(x[2,1:5], na.rm=TRUE)\n",
    "                            y3 = sum(x[1:4,3], na.rm=TRUE)\n",
    "                            y.. = sum(x[1:4,1:5], na.rm=TRUE)\n",
    "                            x_estymowane = (a*y2+b*y3-y..)/((a-1)*(b-1))\n",
    "                            H = ((y3-(a-1)*x_estymowane)**2)/(a*(a-1))\n",
    "                            SSA = sum(x[1:4, 6]**2)/b -(x[5,6]**2/20)  - H }   #x[5,6] to suma y.i=y j.\n",
    "    else { SSA = sum(x[1:4, 6]**2)/b -(x[5,6]**2/20) }\n",
    "SST = sum(x[1:4, 1:5]**2)-(x[5,6]**2/20) \n",
    "SSB = sum(x[5,1:5]**2)/a - (x[5,6]**2/20)\n",
    "SSE = SST - SSA - SSB\n",
    "MSA = SSA/(a-1)\n",
    "MSB = SSB/(b-1)\n",
    "MSE = SSE/((a-1)*(b-1))\n",
    "F0 = MSB/MSE\n",
    "f_ztablic = qf(p=0.95, df1=(a-1), df2=((a-1)*(b-1)))\n",
    "    if (f_ztablic > F0){ print(\"H0\")}\n",
    "    else {print(\"H1\")}\n",
    "return (list(SST, SSA, SSB, SSE, MSA, MSB, MSE, F0, f_ztablic))}\n",
    "analiza_wariancji(x)\n",
    "x2[2, 3] = x_estymowane\n",
    "analiza_wariancji(x2, estymacja=TRUE)"
   ]
  },
  {
   "cell_type": "code",
   "execution_count": 32,
   "metadata": {},
   "outputs": [
    {
     "data": {
      "text/html": [
       "<table>\n",
       "<thead><tr><th scope=col>1</th><th scope=col>2</th><th scope=col>3</th><th scope=col>4</th><th scope=col>5</th><th scope=col>sum</th></tr></thead>\n",
       "<tbody>\n",
       "\t<tr><td> 3 </td><td>-2 </td><td>  4</td><td>  1</td><td>-3 </td><td> 3 </td></tr>\n",
       "\t<tr><td> 3 </td><td>-3 </td><td>NaN</td><td>  2</td><td> 0 </td><td> 2 </td></tr>\n",
       "\t<tr><td> 5 </td><td>-2 </td><td>  8</td><td>  3</td><td>-2 </td><td>12 </td></tr>\n",
       "\t<tr><td> 3 </td><td> 1 </td><td>  5</td><td>NaN</td><td>-1 </td><td> 8 </td></tr>\n",
       "\t<tr><td>14 </td><td>-6 </td><td> 17</td><td>  6</td><td>-6 </td><td>25 </td></tr>\n",
       "</tbody>\n",
       "</table>\n"
      ],
      "text/latex": [
       "\\begin{tabular}{r|llllll}\n",
       " 1 & 2 & 3 & 4 & 5 & sum\\\\\n",
       "\\hline\n",
       "\t  3  & -2  &   4 &   1 & -3  &  3 \\\\\n",
       "\t  3  & -3  & NaN &   2 &  0  &  2 \\\\\n",
       "\t  5  & -2  &   8 &   3 & -2  & 12 \\\\\n",
       "\t  3  &  1  &   5 & NaN & -1  &  8 \\\\\n",
       "\t 14  & -6  &  17 &   6 & -6  & 25 \\\\\n",
       "\\end{tabular}\n"
      ],
      "text/markdown": [
       "\n",
       "| 1 | 2 | 3 | 4 | 5 | sum |\n",
       "|---|---|---|---|---|---|\n",
       "|  3  | -2  |   4 |   1 | -3  |  3  |\n",
       "|  3  | -3  | NaN |   2 |  0  |  2  |\n",
       "|  5  | -2  |   8 |   3 | -2  | 12  |\n",
       "|  3  |  1  |   5 | NaN | -1  |  8  |\n",
       "| 14  | -6  |  17 |   6 | -6  | 25  |\n",
       "\n"
      ],
      "text/plain": [
       "  1  2  3   4   5  sum\n",
       "1  3 -2   4   1 -3  3 \n",
       "2  3 -3 NaN   2  0  2 \n",
       "3  5 -2   8   3 -2 12 \n",
       "4  3  1   5 NaN -1  8 \n",
       "5 14 -6  17   6 -6 25 "
      ]
     },
     "metadata": {},
     "output_type": "display_data"
    }
   ],
   "source": [
    "#d) \n",
    "x3 = x[1:4, 1:5]\n",
    "x3[2,3] = NaN\n",
    "x3[4,4] = NaN\n",
    "x3$sum = rowSums(x3, na.rm=TRUE)\n",
    "x3[nrow(x3) + 1,] = colSums(x3, na.rm=TRUE)\n",
    "x3"
   ]
  },
  {
   "cell_type": "code",
   "execution_count": 33,
   "metadata": {},
   "outputs": [
    {
     "data": {
      "text/html": [
       "4.35"
      ],
      "text/latex": [
       "4.35"
      ],
      "text/markdown": [
       "4.35"
      ],
      "text/plain": [
       "[1] 4.35"
      ]
     },
     "metadata": {},
     "output_type": "display_data"
    },
    {
     "data": {
      "text/html": [
       "2.55"
      ],
      "text/latex": [
       "2.55"
      ],
      "text/markdown": [
       "2.55"
      ],
      "text/plain": [
       "[1] 2.55"
      ]
     },
     "metadata": {},
     "output_type": "display_data"
    }
   ],
   "source": [
    "estymacja_brakujacej <- function(x,nr_row,nr_col){\n",
    "    y2. = sum(x[nr_row,1:5], na.rm=TRUE)\n",
    "    y.3 = sum(x[1:4,nr_col], na.rm=TRUE)\n",
    "    y.. = sum(x[1:4,1:5], na.rm=TRUE)\n",
    "    x_estymowane = (a*y2.+b*y.3-y..)/((a-1)*(b-1))\n",
    "    return (x_estymowane)  }\n",
    "#przykład:\n",
    "estymacja_brakujacej(x3, 2,3)\n",
    "estymacja_brakujacej(x3, 4,4)"
   ]
  },
  {
   "cell_type": "code",
   "execution_count": 34,
   "metadata": {},
   "outputs": [
    {
     "data": {
      "text/html": [
       "<table>\n",
       "<thead><tr><th scope=col>1</th><th scope=col>2</th><th scope=col>3</th><th scope=col>4</th><th scope=col>5</th><th scope=col>sum</th></tr></thead>\n",
       "<tbody>\n",
       "\t<tr><td> 3 </td><td>-2 </td><td>  4</td><td>  1</td><td>-3 </td><td> 3 </td></tr>\n",
       "\t<tr><td> 3 </td><td>-3 </td><td>NaN</td><td>  2</td><td> 0 </td><td> 2 </td></tr>\n",
       "\t<tr><td> 5 </td><td>-2 </td><td>  8</td><td>  3</td><td>-2 </td><td>12 </td></tr>\n",
       "\t<tr><td> 3 </td><td> 1 </td><td>  5</td><td>NaN</td><td>-1 </td><td> 8 </td></tr>\n",
       "\t<tr><td>14 </td><td>-6 </td><td> 17</td><td>  6</td><td>-6 </td><td>25 </td></tr>\n",
       "</tbody>\n",
       "</table>\n"
      ],
      "text/latex": [
       "\\begin{tabular}{r|llllll}\n",
       " 1 & 2 & 3 & 4 & 5 & sum\\\\\n",
       "\\hline\n",
       "\t  3  & -2  &   4 &   1 & -3  &  3 \\\\\n",
       "\t  3  & -3  & NaN &   2 &  0  &  2 \\\\\n",
       "\t  5  & -2  &   8 &   3 & -2  & 12 \\\\\n",
       "\t  3  &  1  &   5 & NaN & -1  &  8 \\\\\n",
       "\t 14  & -6  &  17 &   6 & -6  & 25 \\\\\n",
       "\\end{tabular}\n"
      ],
      "text/markdown": [
       "\n",
       "| 1 | 2 | 3 | 4 | 5 | sum |\n",
       "|---|---|---|---|---|---|\n",
       "|  3  | -2  |   4 |   1 | -3  |  3  |\n",
       "|  3  | -3  | NaN |   2 |  0  |  2  |\n",
       "|  5  | -2  |   8 |   3 | -2  | 12  |\n",
       "|  3  |  1  |   5 | NaN | -1  |  8  |\n",
       "| 14  | -6  |  17 |   6 | -6  | 25  |\n",
       "\n"
      ],
      "text/plain": [
       "  1  2  3   4   5  sum\n",
       "1  3 -2   4   1 -3  3 \n",
       "2  3 -3 NaN   2  0  2 \n",
       "3  5 -2   8   3 -2 12 \n",
       "4  3  1   5 NaN -1  8 \n",
       "5 14 -6  17   6 -6 25 "
      ]
     },
     "metadata": {},
     "output_type": "display_data"
    }
   ],
   "source": [
    "x3[2,3] = NaN\n",
    "x3[4,4] = NaN\n",
    "x3"
   ]
  },
  {
   "cell_type": "code",
   "execution_count": 28,
   "metadata": {},
   "outputs": [
    {
     "data": {
      "text/html": [
       "55"
      ],
      "text/latex": [
       "55"
      ],
      "text/markdown": [
       "55"
      ],
      "text/plain": [
       "[1] 55"
      ]
     },
     "metadata": {},
     "output_type": "display_data"
    }
   ],
   "source": [
    "last_23 = 0.00\n",
    "last_44 = 0.00\n",
    "iter = 0\n",
    "# dI.\n",
    "while ( (last_23 != estymacja_brakujacej(x3, 2,3))&( last_44 != estymacja_brakujacej(x3, 4,4) )) {\n",
    "    iter = iter+1\n",
    "    if ((is.nan(x3[2,3])) || (is.nan(x3[4,4] == NaN))){ \n",
    "        last_23 = 0\n",
    "        last_44 = 0 }\n",
    "    else{ last_23 = x3[2,3]\n",
    "          last_44 = x3[4,4] }\n",
    "    x3[2,3] = estymacja_brakujacej(x3, 2,3)\n",
    "    x3[4,4] = estymacja_brakujacej(x3, 4,4) \n",
    "}\n",
    "iter #po 10 iteracji osiąga zbieżność (jeżeli zaokrąglenie do 2, jeżeli do 4 liczby po przecinku to po 33 iteracji dopiero...), bez round - po 79 iteracjach"
   ]
  },
  {
   "cell_type": "code",
   "execution_count": null,
   "metadata": {},
   "outputs": [],
   "source": [
    "x3 #15.6665 i 5.3335"
   ]
  },
  {
   "cell_type": "code",
   "execution_count": 29,
   "metadata": {},
   "outputs": [
    {
     "name": "stdout",
     "output_type": "stream",
     "text": [
      "[1] \"H0\"\n"
     ]
    },
    {
     "data": {
      "text/html": [
       "<ol>\n",
       "\t<li>258.444214876033</li>\n",
       "\t<li>12.95</li>\n",
       "\t<li>117</li>\n",
       "\t<li>128.494214876033</li>\n",
       "\t<li>4.31666666666667</li>\n",
       "\t<li>29.25</li>\n",
       "\t<li>10.7078512396694</li>\n",
       "\t<li>2.73164048932968</li>\n",
       "\t<li>3.4902948194976</li>\n",
       "</ol>\n"
      ],
      "text/latex": [
       "\\begin{enumerate}\n",
       "\\item 258.444214876033\n",
       "\\item 12.95\n",
       "\\item 117\n",
       "\\item 128.494214876033\n",
       "\\item 4.31666666666667\n",
       "\\item 29.25\n",
       "\\item 10.7078512396694\n",
       "\\item 2.73164048932968\n",
       "\\item 3.4902948194976\n",
       "\\end{enumerate}\n"
      ],
      "text/markdown": [
       "1. 258.444214876033\n",
       "2. 12.95\n",
       "3. 117\n",
       "4. 128.494214876033\n",
       "5. 4.31666666666667\n",
       "6. 29.25\n",
       "7. 10.7078512396694\n",
       "8. 2.73164048932968\n",
       "9. 3.4902948194976\n",
       "\n",
       "\n"
      ],
      "text/plain": [
       "[[1]]\n",
       "[1] 258.4442\n",
       "\n",
       "[[2]]\n",
       "[1] 12.95\n",
       "\n",
       "[[3]]\n",
       "[1] 117\n",
       "\n",
       "[[4]]\n",
       "[1] 128.4942\n",
       "\n",
       "[[5]]\n",
       "[1] 4.316667\n",
       "\n",
       "[[6]]\n",
       "[1] 29.25\n",
       "\n",
       "[[7]]\n",
       "[1] 10.70785\n",
       "\n",
       "[[8]]\n",
       "[1] 2.73164\n",
       "\n",
       "[[9]]\n",
       "[1] 3.490295\n"
      ]
     },
     "metadata": {},
     "output_type": "display_data"
    },
    {
     "name": "stdout",
     "output_type": "stream",
     "text": [
      "[1] \"H0\"\n"
     ]
    },
    {
     "data": {
      "text/html": [
       "<ol>\n",
       "\t<li>258.444214876033</li>\n",
       "\t<li>8.62454373278236</li>\n",
       "\t<li>117</li>\n",
       "\t<li>132.819671143251</li>\n",
       "\t<li>2.87484791092745</li>\n",
       "\t<li>29.25</li>\n",
       "\t<li>11.0683059286042</li>\n",
       "\t<li>2.64268083920667</li>\n",
       "\t<li>3.4902948194976</li>\n",
       "</ol>\n"
      ],
      "text/latex": [
       "\\begin{enumerate}\n",
       "\\item 258.444214876033\n",
       "\\item 8.62454373278236\n",
       "\\item 117\n",
       "\\item 132.819671143251\n",
       "\\item 2.87484791092745\n",
       "\\item 29.25\n",
       "\\item 11.0683059286042\n",
       "\\item 2.64268083920667\n",
       "\\item 3.4902948194976\n",
       "\\end{enumerate}\n"
      ],
      "text/markdown": [
       "1. 258.444214876033\n",
       "2. 8.62454373278236\n",
       "3. 117\n",
       "4. 132.819671143251\n",
       "5. 2.87484791092745\n",
       "6. 29.25\n",
       "7. 11.0683059286042\n",
       "8. 2.64268083920667\n",
       "9. 3.4902948194976\n",
       "\n",
       "\n"
      ],
      "text/plain": [
       "[[1]]\n",
       "[1] 258.4442\n",
       "\n",
       "[[2]]\n",
       "[1] 8.624544\n",
       "\n",
       "[[3]]\n",
       "[1] 117\n",
       "\n",
       "[[4]]\n",
       "[1] 132.8197\n",
       "\n",
       "[[5]]\n",
       "[1] 2.874848\n",
       "\n",
       "[[6]]\n",
       "[1] 29.25\n",
       "\n",
       "[[7]]\n",
       "[1] 11.06831\n",
       "\n",
       "[[8]]\n",
       "[1] 2.642681\n",
       "\n",
       "[[9]]\n",
       "[1] 3.490295\n"
      ]
     },
     "metadata": {},
     "output_type": "display_data"
    }
   ],
   "source": [
    "# dII. ?? O co pomniejszony kwadrat błędu? H x2?\n",
    "analiza_wariancji(x3) # czy\n",
    "analiza_wariancji(x3, estymacja=TRUE)"
   ]
  },
  {
   "cell_type": "code",
   "execution_count": null,
   "metadata": {},
   "outputs": [],
   "source": [
    "# d III. \n",
    "# ZRóżniczkować SSE względem 2 brakujących danych"
   ]
  },
  {
   "cell_type": "code",
   "execution_count": null,
   "metadata": {},
   "outputs": [],
   "source": [
    "#?????????????? wzory"
   ]
  },
  {
   "cell_type": "code",
   "execution_count": null,
   "metadata": {},
   "outputs": [],
   "source": []
  },
  {
   "cell_type": "code",
   "execution_count": null,
   "metadata": {},
   "outputs": [],
   "source": []
  },
  {
   "cell_type": "code",
   "execution_count": null,
   "metadata": {},
   "outputs": [],
   "source": [
    "#2.a)\n",
    "data2 = matrix(c(13, 22, 18, 39,     16, 24, 17, 44,    5, 4, 1, 22), byrow=TRUE, nrow = 3, ncol = 4)\n",
    "data2 = data.frame(data2)\n",
    "colnames(data2) <- c(1:4)\n",
    "data2$sum = rowSums(data2)\n",
    "data2[nrow(data2) + 1,] = colSums(data2)\n",
    "data2"
   ]
  },
  {
   "cell_type": "code",
   "execution_count": null,
   "metadata": {},
   "outputs": [],
   "source": [
    "analiza_wariancji <- function(data2) {\n",
    "    a = length(row.names(data2)) - 1\n",
    "    b = length(colnames(data2)) - 1\n",
    "SST = sum(data2[1:3, 1:4]**2)- ((data2[4,5]**2/(3*4))) \n",
    "SSA = sum(data2[1:3, 5]**2)/b -((data2[4,5]**2/(3*4)))\n",
    "SSB = sum(data2[4, 1:4]**2)/a - (data2[4,5]**2/(3*4))\n",
    "SSE = SST - SSA - SSB\n",
    "MSA = SSA/(a-1)\n",
    "MSB = SSB/(b-1)\n",
    "MSE = SSE/((a-1)*(b-1))\n",
    "F0 = MSB/MSE\n",
    "f_ztablic = qf(p=0.95, df1=(a-1), df2=((a-1)*(b-1)))\n",
    "if (f_ztablic > F0){ print(\"H0\")}\n",
    "else {print(\"H1\")}\n",
    "return (list(SST, SSA, SSB, SSE, MSA, MSB, MSE, F0, f_ztablic))}\n",
    "analiza_wariancji(data2)  "
   ]
  },
  {
   "cell_type": "code",
   "execution_count": null,
   "metadata": {},
   "outputs": [],
   "source": [
    "#b)\n",
    "data2b = matrix(c(13, 22, 18, 39,     16, 24, 17, 44,    5, 4, 1, 22), byrow=TRUE, nrow = 3, ncol = 4)\n",
    "data2b = data.frame(data2b)\n",
    "colnames(data2b) <- c(1:4)\n",
    "# data2b$mean = rowMeans(data2b)\n",
    "# data2b[nrow(data2b) + 1,] = colMeans(data2b)\n",
    "data2b"
   ]
  },
  {
   "cell_type": "markdown",
   "metadata": {
    "heading_collapsed": true
   },
   "source": [
    "# Na piechotę"
   ]
  },
  {
   "cell_type": "code",
   "execution_count": null,
   "metadata": {
    "hidden": true
   },
   "outputs": [],
   "source": [
    "max(t.test(data2b[,1], data2b[,2], paired=TRUE)$p.value,\n",
    "t.test(data2b[,1], data2b[,3], paired=TRUE)$p.value,\n",
    "t.test(data2b[,1], data2b[,4], paired=TRUE)$p.value,\n",
    "t.test(data2b[,2], data2b[,3], paired=TRUE)$p.value,\n",
    "t.test(data2b[,2], data2b[,4], paired=TRUE)$p.value,\n",
    "t.test(data2b[,3], data2b[,4], paired=TRUE)$p.value)"
   ]
  },
  {
   "cell_type": "code",
   "execution_count": null,
   "metadata": {
    "hidden": true
   },
   "outputs": [],
   "source": [
    "a_max = 1 - (1- 0.82182583872505)**(6-1)\n",
    "a_max"
   ]
  },
  {
   "cell_type": "markdown",
   "metadata": {},
   "source": [
    "# Test Dunkana"
   ]
  },
  {
   "cell_type": "code",
   "execution_count": null,
   "metadata": {},
   "outputs": [],
   "source": [
    "# install.packages(\"PMCMRplus\")\n",
    "library(\"PMCMRplus\")\n",
    "duncanTest(data2b)"
   ]
  },
  {
   "cell_type": "code",
   "execution_count": null,
   "metadata": {
    "scrolled": true
   },
   "outputs": [],
   "source": [
    "duncanTest( c(13,16, 5, 22,24, 4, 18,17,1, 39, 44,22), factor(rep(1:4, each=3)))"
   ]
  },
  {
   "cell_type": "code",
   "execution_count": null,
   "metadata": {},
   "outputs": [],
   "source": [
    "# Różnice między 1 a 4 dniem, 3 i 4."
   ]
  },
  {
   "cell_type": "code",
   "execution_count": 20,
   "metadata": {},
   "outputs": [
    {
     "name": "stderr",
     "output_type": "stream",
     "text": [
      "Warning message:\n",
      "\"package 'agricolae' was built under R version 3.6.3\""
     ]
    },
    {
     "data": {
      "text/plain": [
       "$statistics\n",
       "    MSerror Df Mean       CV\n",
       "  0.6066855 10    2 38.94501\n",
       "\n",
       "$parameters\n",
       "    test   name.t ntr alpha\n",
       "  Duncan technika   3  0.05\n",
       "\n",
       "$duncan\n",
       "     Table CriticalRange\n",
       "2 3.151064      1.227182\n",
       "3 3.292833      1.282394\n",
       "\n",
       "$means\n",
       "  technika std r Min Max Q25 Q50 Q75\n",
       "1        1   0 4   1   1   1   1   1\n",
       "2        2   0 4   2   2   2   2   2\n",
       "3        3   0 4   3   3   3   3   3\n",
       "\n",
       "$comparison\n",
       "NULL\n",
       "\n",
       "$groups\n",
       "  technika groups\n",
       "3        3      a\n",
       "2        2     ab\n",
       "1        1      b\n",
       "\n",
       "attr(,\"class\")\n",
       "[1] \"group\""
      ]
     },
     "metadata": {},
     "output_type": "display_data"
    }
   ],
   "source": [
    "library(agricolae)\n",
    "\n",
    "technika <-  c(1,1,1,1,2,2,2,2,3,3,3,3)\n",
    "l.bakterii <- c(13,22,18,39,16,24,17,44,5,4,1,22)\n",
    "y <- aov(technika~l.bakterii,)\n",
    "\n",
    "duncan <- duncan.test(y, \"technika\", alpha=0.05, group=TRUE)\n",
    "duncan"
   ]
  }
 ],
 "metadata": {
  "kernelspec": {
   "display_name": "R",
   "language": "R",
   "name": "ir"
  },
  "language_info": {
   "codemirror_mode": "r",
   "file_extension": ".r",
   "mimetype": "text/x-r-source",
   "name": "R",
   "pygments_lexer": "r",
   "version": "3.6.1"
  },
  "toc": {
   "base_numbering": 1,
   "nav_menu": {},
   "number_sections": true,
   "sideBar": true,
   "skip_h1_title": false,
   "title_cell": "Table of Contents",
   "title_sidebar": "Contents",
   "toc_cell": false,
   "toc_position": {},
   "toc_section_display": true,
   "toc_window_display": false
  },
  "varInspector": {
   "cols": {
    "lenName": 16,
    "lenType": 16,
    "lenVar": 40
   },
   "kernels_config": {
    "python": {
     "delete_cmd_postfix": "",
     "delete_cmd_prefix": "del ",
     "library": "var_list.py",
     "varRefreshCmd": "print(var_dic_list())"
    },
    "r": {
     "delete_cmd_postfix": ") ",
     "delete_cmd_prefix": "rm(",
     "library": "var_list.r",
     "varRefreshCmd": "cat(var_dic_list()) "
    }
   },
   "types_to_exclude": [
    "module",
    "function",
    "builtin_function_or_method",
    "instance",
    "_Feature"
   ],
   "window_display": false
  }
 },
 "nbformat": 4,
 "nbformat_minor": 2
}
