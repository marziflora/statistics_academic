{
 "cells": [
  {
   "cell_type": "code",
   "execution_count": 42,
   "metadata": {},
   "outputs": [],
   "source": []
  },
  {
   "cell_type": "code",
   "execution_count": null,
   "metadata": {},
   "outputs": [],
   "source": []
  },
  {
   "cell_type": "code",
   "execution_count": 15,
   "metadata": {},
   "outputs": [
    {
     "data": {
      "text/html": [
       "<ol class=list-inline>\n",
       "\t<li>11</li>\n",
       "\t<li>14</li>\n",
       "\t<li>8</li>\n",
       "\t<li>13</li>\n",
       "\t<li>19</li>\n",
       "\t<li>4</li>\n",
       "\t<li>7</li>\n",
       "\t<li>14</li>\n",
       "\t<li>16</li>\n",
       "\t<li>17</li>\n",
       "\t<li>11</li>\n",
       "</ol>\n"
      ],
      "text/latex": [
       "\\begin{enumerate*}\n",
       "\\item 11\n",
       "\\item 14\n",
       "\\item 8\n",
       "\\item 13\n",
       "\\item 19\n",
       "\\item 4\n",
       "\\item 7\n",
       "\\item 14\n",
       "\\item 16\n",
       "\\item 17\n",
       "\\item 11\n",
       "\\end{enumerate*}\n"
      ],
      "text/markdown": [
       "1. 11\n",
       "2. 14\n",
       "3. 8\n",
       "4. 13\n",
       "5. 19\n",
       "6. 4\n",
       "7. 7\n",
       "8. 14\n",
       "9. 16\n",
       "10. 17\n",
       "11. 11\n",
       "\n",
       "\n"
      ],
      "text/plain": [
       " [1] 11 14  8 13 19  4  7 14 16 17 11"
      ]
     },
     "metadata": {},
     "output_type": "display_data"
    },
    {
     "data": {
      "text/html": [
       "77"
      ],
      "text/latex": [
       "77"
      ],
      "text/markdown": [
       "77"
      ],
      "text/plain": [
       "[1] 77"
      ]
     },
     "metadata": {},
     "output_type": "display_data"
    }
   ],
   "source": [
    "#1\n",
    "pierwszej = c(11, 14, 8, 13, 19)\n",
    "drugiej = c(4, 7, 14, 16, 17, 11)\n",
    "#H0: czas nie zależy od grupy\n",
    "#h1: czas zależy od grupy -> dla 2 grupy czas jest mniejszy druga < pierwsza: if( t1 >= t0)  {cnt ++} p.val = cnt/N\n",
    "h = c(1,0,0,1,1,0,1,0,1,0,1) \n",
    "\n",
    "z=c(pierwszej,drugiej)\n",
    "suma = sum(drugiej)\n",
    "z\n",
    "11+13+19+7+16+11\n",
    "11,8,9"
   ]
  },
  {
   "cell_type": "code",
   "execution_count": null,
   "metadata": {},
   "outputs": [],
   "source": []
  },
  {
   "cell_type": "code",
   "execution_count": 63,
   "metadata": {},
   "outputs": [
    {
     "data": {
      "text/html": [
       "0.72"
      ],
      "text/latex": [
       "0.72"
      ],
      "text/markdown": [
       "0.72"
      ],
      "text/plain": [
       "[1] 0.72"
      ]
     },
     "metadata": {},
     "output_type": "display_data"
    }
   ],
   "source": [
    "cs = 0.64\n",
    "if (cs <= 0.5) p = 2*cs\n",
    "if (cs > 0.5) p = 2-2*cs\n",
    "p"
   ]
  },
  {
   "cell_type": "code",
   "execution_count": 21,
   "metadata": {},
   "outputs": [],
   "source": [
    "X=c(75, 84, 82, 80,81) \n",
    "Y=c(92,93,87,87)"
   ]
  },
  {
   "cell_type": "code",
   "execution_count": 28,
   "metadata": {},
   "outputs": [
    {
     "ename": "ERROR",
     "evalue": "Error in if (aly(pd) >= stat0) {: brakuje wartości tam, gdzie wymagane jest TRUE/FALSE\n",
     "output_type": "error",
     "traceback": [
      "Error in if (aly(pd) >= stat0) {: brakuje wartości tam, gdzie wymagane jest TRUE/FALSE\nTraceback:\n",
      "1. vartest(X, Y, 1600)"
     ]
    }
   ],
   "source": [
    "diff = function(samp ){\n",
    "s= sort (samp)\n",
    "l= length ( samp )\n",
    "d =1:( l -1)\n",
    "for (k in 2: l ){\n",
    "d[k -1]= s [k]- s[k -1]\n",
    "}\n",
    "return (d)\n",
    "}\n",
    "\n",
    "aly=function(samp){\n",
    "stat =0\n",
    "l= length(samp)\n",
    "for (k in 1: l)\n",
    "stat = stat+k*(l +1 - k)* samp[k]\n",
    "return (stat)\n",
    "}\n",
    "\n",
    "\n",
    "vartest = function ( samp1 , samp2 , NMonte ){\n",
    "d1 = diff( samp1 )\n",
    "d2 = diff( samp2 )\n",
    "l= length(d1)\n",
    "stat0 = aly(d1)\n",
    "pd = d1\n",
    "cnt =0\n",
    "for (j in 1: NMonte ){\n",
    "r=rbinom(l ,1 ,.5)\n",
    "for (k in 1: l){\n",
    "pd[k]= ifelse(r[ k], d1 [k], d2 [k ])\n",
    "}\n",
    "if( aly(pd) >= stat0) {cnt = cnt +1}\n",
    "}\n",
    "return ( cnt / NMonte ) #one - sided p- value\n",
    "}\n",
    "\n",
    "vartest (X,Y,1600)"
   ]
  },
  {
   "cell_type": "code",
   "execution_count": 36,
   "metadata": {},
   "outputs": [
    {
     "data": {
      "text/html": [
       "210"
      ],
      "text/latex": [
       "210"
      ],
      "text/markdown": [
       "210"
      ],
      "text/plain": [
       "[1] 210"
      ]
     },
     "metadata": {},
     "output_type": "display_data"
    },
    {
     "data": {
      "text/html": [
       "210"
      ],
      "text/latex": [
       "210"
      ],
      "text/markdown": [
       "210"
      ],
      "text/plain": [
       "[1] 210"
      ]
     },
     "metadata": {},
     "output_type": "display_data"
    }
   ],
   "source": [
    "x= c(11, 14, 8, 13)\n",
    "y= c(4, 7, 14, 16, 17, 11)\n",
    "N <- choose(length(x)+length(y), length(x))\n",
    "# com <- combn(n+m, n)\n",
    "# cnt <- 0\n",
    "N\n",
    "N <- choose(length(x)+length(y), length(y))\n",
    "N"
   ]
  },
  {
   "cell_type": "code",
   "execution_count": null,
   "metadata": {},
   "outputs": [],
   "source": []
  },
  {
   "cell_type": "code",
   "execution_count": 50,
   "metadata": {},
   "outputs": [
    {
     "data": {
      "text/html": [
       "<dl>\n",
       "\t<dt>$nn.index</dt>\n",
       "\t\t<dd><table>\n",
       "<tbody>\n",
       "\t<tr><td>2</td><td>3</td><td>4</td></tr>\n",
       "\t<tr><td>4</td><td>3</td><td>1</td></tr>\n",
       "\t<tr><td>4</td><td>2</td><td>1</td></tr>\n",
       "\t<tr><td>2</td><td>3</td><td>1</td></tr>\n",
       "</tbody>\n",
       "</table>\n",
       "</dd>\n",
       "\t<dt>$nn.dist</dt>\n",
       "\t\t<dd><table>\n",
       "<tbody>\n",
       "\t<tr><td>4.986983</td><td>6.828616</td><td>7.897468</td></tr>\n",
       "\t<tr><td>3.538361</td><td>4.658326</td><td>4.986983</td></tr>\n",
       "\t<tr><td>3.934463</td><td>4.658326</td><td>6.828616</td></tr>\n",
       "\t<tr><td>3.538361</td><td>3.934463</td><td>7.897468</td></tr>\n",
       "</tbody>\n",
       "</table>\n",
       "</dd>\n",
       "</dl>\n"
      ],
      "text/latex": [
       "\\begin{description}\n",
       "\\item[\\$nn.index] \\begin{tabular}{lll}\n",
       "\t 2 & 3 & 4\\\\\n",
       "\t 4 & 3 & 1\\\\\n",
       "\t 4 & 2 & 1\\\\\n",
       "\t 2 & 3 & 1\\\\\n",
       "\\end{tabular}\n",
       "\n",
       "\\item[\\$nn.dist] \\begin{tabular}{lll}\n",
       "\t 4.986983 & 6.828616 & 7.897468\\\\\n",
       "\t 3.538361 & 4.658326 & 4.986983\\\\\n",
       "\t 3.934463 & 4.658326 & 6.828616\\\\\n",
       "\t 3.538361 & 3.934463 & 7.897468\\\\\n",
       "\\end{tabular}\n",
       "\n",
       "\\end{description}\n"
      ],
      "text/markdown": [
       "$nn.index\n",
       ":   \n",
       "| 2 | 3 | 4 |\n",
       "| 4 | 3 | 1 |\n",
       "| 4 | 2 | 1 |\n",
       "| 2 | 3 | 1 |\n",
       "\n",
       "\n",
       "$nn.dist\n",
       ":   \n",
       "| 4.986983 | 6.828616 | 7.897468 |\n",
       "| 3.538361 | 4.658326 | 4.986983 |\n",
       "| 3.934463 | 4.658326 | 6.828616 |\n",
       "| 3.538361 | 3.934463 | 7.897468 |\n",
       "\n",
       "\n",
       "\n",
       "\n"
      ],
      "text/plain": [
       "$nn.index\n",
       "     [,1] [,2] [,3]\n",
       "[1,]    2    3    4\n",
       "[2,]    4    3    1\n",
       "[3,]    4    2    1\n",
       "[4,]    2    3    1\n",
       "\n",
       "$nn.dist\n",
       "         [,1]     [,2]     [,3]\n",
       "[1,] 4.986983 6.828616 7.897468\n",
       "[2,] 3.538361 4.658326 4.986983\n",
       "[3,] 3.934463 4.658326 6.828616\n",
       "[4,] 3.538361 3.934463 7.897468\n"
      ]
     },
     "metadata": {},
     "output_type": "display_data"
    },
    {
     "data": {
      "text/html": [
       "<table>\n",
       "<thead><tr><th></th><th scope=col>V1</th><th scope=col>V2</th><th scope=col>V3</th><th scope=col>V4</th><th scope=col>V5</th></tr></thead>\n",
       "<tbody>\n",
       "\t<tr><th scope=row>Z1</th><td>3.3</td><td>5.2</td><td>7.3</td><td>9.4</td><td>4.5</td></tr>\n",
       "\t<tr><th scope=row>Z2</th><td>3.4</td><td>3.7</td><td>4.8</td><td>5.4</td><td>3.9</td></tr>\n",
       "\t<tr><th scope=row>Z3</th><td>4.6</td><td>7.2</td><td>3.6</td><td>4.5</td><td>6.3</td></tr>\n",
       "\t<tr><th scope=row>Z4</th><td>4.5</td><td>3.6</td><td>2.7</td><td>3.4</td><td>5.6</td></tr>\n",
       "</tbody>\n",
       "</table>\n"
      ],
      "text/latex": [
       "\\begin{tabular}{r|lllll}\n",
       "  & V1 & V2 & V3 & V4 & V5\\\\\n",
       "\\hline\n",
       "\tZ1 & 3.3 & 5.2 & 7.3 & 9.4 & 4.5\\\\\n",
       "\tZ2 & 3.4 & 3.7 & 4.8 & 5.4 & 3.9\\\\\n",
       "\tZ3 & 4.6 & 7.2 & 3.6 & 4.5 & 6.3\\\\\n",
       "\tZ4 & 4.5 & 3.6 & 2.7 & 3.4 & 5.6\\\\\n",
       "\\end{tabular}\n"
      ],
      "text/markdown": [
       "\n",
       "| <!--/--> | V1 | V2 | V3 | V4 | V5 |\n",
       "|---|---|---|---|---|---|\n",
       "| Z1 | 3.3 | 5.2 | 7.3 | 9.4 | 4.5 |\n",
       "| Z2 | 3.4 | 3.7 | 4.8 | 5.4 | 3.9 |\n",
       "| Z3 | 4.6 | 7.2 | 3.6 | 4.5 | 6.3 |\n",
       "| Z4 | 4.5 | 3.6 | 2.7 | 3.4 | 5.6 |\n",
       "\n"
      ],
      "text/plain": [
       "   V1  V2  V3  V4  V5 \n",
       "Z1 3.3 5.2 7.3 9.4 4.5\n",
       "Z2 3.4 3.7 4.8 5.4 3.9\n",
       "Z3 4.6 7.2 3.6 4.5 6.3\n",
       "Z4 4.5 3.6 2.7 3.4 5.6"
      ]
     },
     "metadata": {},
     "output_type": "display_data"
    }
   ],
   "source": [
    "Z1<-c(3.3,5.2,7.3,9.4,4.5)\n",
    "Z2<-c(3.4,3.7,4.8,5.4,3.9)\n",
    "Z3<-c(4.6,7.2,3.6,4.5,6.3) \n",
    "Z4<-c(4.5,3.6,2.7,3.4,5.6) \n",
    "\n",
    "Z = as.data.frame(rbind(Z1,Z2,Z3,Z4))\n",
    "NN <- get.knn(Z,3)\n",
    "# block1 <- NN$nn.index[1:n, ]\n",
    "# block2 <- NN$nn.index[(n+1):N, ]\n",
    "NN\n"
   ]
  },
  {
   "cell_type": "code",
   "execution_count": null,
   "metadata": {},
   "outputs": [],
   "source": [
    "x = matrix(c(0.00, 2.21, 2.49, 1.78, 3.11, 2.94, 2.21, 0.00, 2.60, 3.27, 1.45, 3.29,2.49, 2.60, 0.00, 2.14, 0.43, 3.52,\n",
    "           1.87, 3.27, 2.14, 0.00, 2.69, 2.60, 3.11, 1.45, 0.43, 2.69, 0.00, 3.48, 2.94, 3.29, 3.52, 2.60, 3.48, 0.00), byrow=TRUE, nrow = 6, ncol = 6)"
   ]
  },
  {
   "cell_type": "code",
   "execution_count": 53,
   "metadata": {},
   "outputs": [
    {
     "ename": "ERROR",
     "evalue": "Error in block2[, 1:k]: niepoprawna liczba wymiarów\n",
     "output_type": "error",
     "traceback": [
      "Error in block2[, 1:k]: niepoprawna liczba wymiarów\nTraceback:\n",
      "1. T(k = 2, n = 3, N = 4)"
     ]
    }
   ],
   "source": []
  },
  {
   "cell_type": "code",
   "execution_count": 62,
   "metadata": {},
   "outputs": [
    {
     "data": {
      "text/html": [
       "<table>\n",
       "<thead><tr><th></th><th scope=col>V1</th><th scope=col>V2</th><th scope=col>V3</th><th scope=col>V4</th><th scope=col>V5</th><th scope=col>V6</th><th scope=col>V7</th></tr></thead>\n",
       "<tbody>\n",
       "\t<tr><th scope=row>Z1</th><td>0.00</td><td>3.05</td><td>2.33</td><td>3.96</td><td>2.01</td><td>4.32</td><td>2.62</td></tr>\n",
       "\t<tr><th scope=row>Z2</th><td>3.05</td><td>0.00</td><td>4.69</td><td>3.29</td><td>3.69</td><td>5.44</td><td>3.62</td></tr>\n",
       "\t<tr><th scope=row>Z3</th><td>2.33</td><td>4.69</td><td>0.00</td><td>3.99</td><td>1.84</td><td>2.96</td><td>1.85</td></tr>\n",
       "\t<tr><th scope=row>Z4</th><td>3.96</td><td>3.29</td><td>3.99</td><td>0.00</td><td>2.69</td><td>3.12</td><td>2.77</td></tr>\n",
       "\t<tr><th scope=row>Z5</th><td>2.01</td><td>3.69</td><td>1.84</td><td>2.69</td><td>0.00</td><td>2.77</td><td>2.03</td></tr>\n",
       "\t<tr><th scope=row>Z6</th><td>4.32</td><td>5.44</td><td>2.98</td><td>3.12</td><td>2.77</td><td>0.00</td><td>3.10</td></tr>\n",
       "\t<tr><th scope=row>Z7</th><td>2.62</td><td>3.62</td><td>1.85</td><td>2.77</td><td>2.03</td><td>3.10</td><td>0.00</td></tr>\n",
       "</tbody>\n",
       "</table>\n"
      ],
      "text/latex": [
       "\\begin{tabular}{r|lllllll}\n",
       "  & V1 & V2 & V3 & V4 & V5 & V6 & V7\\\\\n",
       "\\hline\n",
       "\tZ1 & 0.00 & 3.05 & 2.33 & 3.96 & 2.01 & 4.32 & 2.62\\\\\n",
       "\tZ2 & 3.05 & 0.00 & 4.69 & 3.29 & 3.69 & 5.44 & 3.62\\\\\n",
       "\tZ3 & 2.33 & 4.69 & 0.00 & 3.99 & 1.84 & 2.96 & 1.85\\\\\n",
       "\tZ4 & 3.96 & 3.29 & 3.99 & 0.00 & 2.69 & 3.12 & 2.77\\\\\n",
       "\tZ5 & 2.01 & 3.69 & 1.84 & 2.69 & 0.00 & 2.77 & 2.03\\\\\n",
       "\tZ6 & 4.32 & 5.44 & 2.98 & 3.12 & 2.77 & 0.00 & 3.10\\\\\n",
       "\tZ7 & 2.62 & 3.62 & 1.85 & 2.77 & 2.03 & 3.10 & 0.00\\\\\n",
       "\\end{tabular}\n"
      ],
      "text/markdown": [
       "\n",
       "| <!--/--> | V1 | V2 | V3 | V4 | V5 | V6 | V7 |\n",
       "|---|---|---|---|---|---|---|---|\n",
       "| Z1 | 0.00 | 3.05 | 2.33 | 3.96 | 2.01 | 4.32 | 2.62 |\n",
       "| Z2 | 3.05 | 0.00 | 4.69 | 3.29 | 3.69 | 5.44 | 3.62 |\n",
       "| Z3 | 2.33 | 4.69 | 0.00 | 3.99 | 1.84 | 2.96 | 1.85 |\n",
       "| Z4 | 3.96 | 3.29 | 3.99 | 0.00 | 2.69 | 3.12 | 2.77 |\n",
       "| Z5 | 2.01 | 3.69 | 1.84 | 2.69 | 0.00 | 2.77 | 2.03 |\n",
       "| Z6 | 4.32 | 5.44 | 2.98 | 3.12 | 2.77 | 0.00 | 3.10 |\n",
       "| Z7 | 2.62 | 3.62 | 1.85 | 2.77 | 2.03 | 3.10 | 0.00 |\n",
       "\n"
      ],
      "text/plain": [
       "   V1   V2   V3   V4   V5   V6   V7  \n",
       "Z1 0.00 3.05 2.33 3.96 2.01 4.32 2.62\n",
       "Z2 3.05 0.00 4.69 3.29 3.69 5.44 3.62\n",
       "Z3 2.33 4.69 0.00 3.99 1.84 2.96 1.85\n",
       "Z4 3.96 3.29 3.99 0.00 2.69 3.12 2.77\n",
       "Z5 2.01 3.69 1.84 2.69 0.00 2.77 2.03\n",
       "Z6 4.32 5.44 2.98 3.12 2.77 0.00 3.10\n",
       "Z7 2.62 3.62 1.85 2.77 2.03 3.10 0.00"
      ]
     },
     "metadata": {},
     "output_type": "display_data"
    },
    {
     "data": {
      "text/html": [
       "<table>\n",
       "<tbody>\n",
       "\t<tr><td>5</td><td>3</td></tr>\n",
       "\t<tr><td>1</td><td>4</td></tr>\n",
       "\t<tr><td>7</td><td>5</td></tr>\n",
       "\t<tr><td>7</td><td>5</td></tr>\n",
       "\t<tr><td>7</td><td>3</td></tr>\n",
       "\t<tr><td>3</td><td>4</td></tr>\n",
       "\t<tr><td>5</td><td>3</td></tr>\n",
       "</tbody>\n",
       "</table>\n"
      ],
      "text/latex": [
       "\\begin{tabular}{ll}\n",
       "\t 5 & 3\\\\\n",
       "\t 1 & 4\\\\\n",
       "\t 7 & 5\\\\\n",
       "\t 7 & 5\\\\\n",
       "\t 7 & 3\\\\\n",
       "\t 3 & 4\\\\\n",
       "\t 5 & 3\\\\\n",
       "\\end{tabular}\n"
      ],
      "text/markdown": [
       "\n",
       "| 5 | 3 |\n",
       "| 1 | 4 |\n",
       "| 7 | 5 |\n",
       "| 7 | 5 |\n",
       "| 7 | 3 |\n",
       "| 3 | 4 |\n",
       "| 5 | 3 |\n",
       "\n"
      ],
      "text/plain": [
       "     [,1] [,2]\n",
       "[1,] 5    3   \n",
       "[2,] 1    4   \n",
       "[3,] 7    5   \n",
       "[4,] 7    5   \n",
       "[5,] 7    3   \n",
       "[6,] 3    4   \n",
       "[7,] 5    3   "
      ]
     },
     "metadata": {},
     "output_type": "display_data"
    },
    {
     "data": {
      "text/html": [
       "0.5"
      ],
      "text/latex": [
       "0.5"
      ],
      "text/markdown": [
       "0.5"
      ],
      "text/plain": [
       "[1] 0.5"
      ]
     },
     "metadata": {},
     "output_type": "display_data"
    }
   ],
   "source": [
    "library(FNN)\n",
    "library(RANN)\n",
    "\n",
    "Z1<-c(0, 3.05, 2.33, 3.96, 2.01, 4.32, 2.62)\n",
    "Z2<-c(3.05,0, 4.69, 3.29, 3.69, 5.44, 3.62)\n",
    "Z3<-c(2.33, 4.69, 0, 3.99, 1.84, 2.96, 1.85)\n",
    "Z4<-c(3.96, 3.29, 3.99, 0, 2.69, 3.12, 2.77)\n",
    "Z5<-c(2.01, 3.69, 1.84, 2.69, 0, 2.77, 2.03)\n",
    "Z6<-c(4.32, 5.44, 2.98, 3.12, 2.77, 0, 3.1)\n",
    "Z7<-c(2.62, 3.62, 1.85, 2.77, 2.03, 3.1, 0)\n",
    "Z = as.data.frame(rbind(Z1,Z2,Z3,Z4,Z5,Z6,Z7))\n",
    "Z\n",
    "\n",
    "NN <- get.knn(Z,k=ncol(Z)-1)\n",
    "index = knn.index(Z,k=2)\n",
    "index\n",
    "\n",
    "T <- function(k,n,N ) {\n",
    "  block1 <- NN$nn.index[1:n, ]\n",
    "  block2 <- NN$nn.index [(n +1):N , ]\n",
    "  i1 <- sum(block1[,1:k] <= n)  \n",
    "  i2 <- sum(block2[,1:k] > n)\n",
    "  return (1*sum(i1+i2)/(k*N))}\n",
    "\n",
    "T2<- T(k=2,n=3,N=7)\n",
    "T2 #0.5"
   ]
  },
  {
   "cell_type": "code",
   "execution_count": null,
   "metadata": {},
   "outputs": [],
   "source": []
  },
  {
   "cell_type": "code",
   "execution_count": null,
   "metadata": {},
   "outputs": [],
   "source": []
  },
  {
   "cell_type": "code",
   "execution_count": null,
   "metadata": {},
   "outputs": [],
   "source": []
  }
 ],
 "metadata": {
  "kernelspec": {
   "display_name": "R",
   "language": "R",
   "name": "ir"
  },
  "language_info": {
   "codemirror_mode": "r",
   "file_extension": ".r",
   "mimetype": "text/x-r-source",
   "name": "R",
   "pygments_lexer": "r",
   "version": "3.6.1"
  },
  "toc": {
   "base_numbering": 1,
   "nav_menu": {},
   "number_sections": true,
   "sideBar": true,
   "skip_h1_title": false,
   "title_cell": "Table of Contents",
   "title_sidebar": "Contents",
   "toc_cell": false,
   "toc_position": {},
   "toc_section_display": true,
   "toc_window_display": false
  },
  "varInspector": {
   "cols": {
    "lenName": 16,
    "lenType": 16,
    "lenVar": 40
   },
   "kernels_config": {
    "python": {
     "delete_cmd_postfix": "",
     "delete_cmd_prefix": "del ",
     "library": "var_list.py",
     "varRefreshCmd": "print(var_dic_list())"
    },
    "r": {
     "delete_cmd_postfix": ") ",
     "delete_cmd_prefix": "rm(",
     "library": "var_list.r",
     "varRefreshCmd": "cat(var_dic_list()) "
    }
   },
   "types_to_exclude": [
    "module",
    "function",
    "builtin_function_or_method",
    "instance",
    "_Feature"
   ],
   "window_display": false
  }
 },
 "nbformat": 4,
 "nbformat_minor": 2
}
