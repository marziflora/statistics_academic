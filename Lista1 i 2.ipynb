{
 "cells": [
  {
   "cell_type": "code",
   "execution_count": 24,
   "metadata": {
    "scrolled": false
   },
   "outputs": [
    {
     "data": {
      "text/plain": [
       "\n",
       "\tShapiro-Wilk normality test\n",
       "\n",
       "data:  class\n",
       "W = 0.89868, p-value = 0.02798\n"
      ]
     },
     "metadata": {},
     "output_type": "display_data"
    },
    {
     "data": {
      "text/html": [
       "152.095454545455"
      ],
      "text/latex": [
       "152.095454545455"
      ],
      "text/markdown": [
       "152.095454545455"
      ],
      "text/plain": [
       "[1] 152.0955"
      ]
     },
     "metadata": {},
     "output_type": "display_data"
    },
    {
     "data": {
      "text/html": [
       "<ol class=list-inline>\n",
       "\t<li>149.477272727273</li>\n",
       "\t<li>153.386363636364</li>\n",
       "</ol>\n"
      ],
      "text/latex": [
       "\\begin{enumerate*}\n",
       "\\item 149.477272727273\n",
       "\\item 153.386363636364\n",
       "\\end{enumerate*}\n"
      ],
      "text/markdown": [
       "1. 149.477272727273\n",
       "2. 153.386363636364\n",
       "\n",
       "\n"
      ],
      "text/plain": [
       "[1] 149.4773 153.3864"
      ]
     },
     "metadata": {},
     "output_type": "display_data"
    },
    {
     "data": {
      "text/html": [
       "151.25"
      ],
      "text/latex": [
       "151.25"
      ],
      "text/markdown": [
       "151.25"
      ],
      "text/plain": [
       "[1] 151.25"
      ]
     },
     "metadata": {},
     "output_type": "display_data"
    },
    {
     "data": {
      "text/html": [
       "151.199318181818"
      ],
      "text/latex": [
       "151.199318181818"
      ],
      "text/markdown": [
       "151.199318181818"
      ],
      "text/plain": [
       "[1] 151.1993"
      ]
     },
     "metadata": {},
     "output_type": "display_data"
    },
    {
     "data": {
      "text/html": [
       "1.71448519116978"
      ],
      "text/latex": [
       "1.71448519116978"
      ],
      "text/markdown": [
       "1.71448519116978"
      ],
      "text/plain": [
       "[1] 1.714485"
      ]
     },
     "metadata": {},
     "output_type": "display_data"
    },
    {
     "data": {
      "text/html": [
       "1.71448519116978"
      ],
      "text/latex": [
       "1.71448519116978"
      ],
      "text/markdown": [
       "1.71448519116978"
      ],
      "text/plain": [
       "[1] 1.714485"
      ]
     },
     "metadata": {},
     "output_type": "display_data"
    }
   ],
   "source": [
    "#Zad 4, lista1\n",
    "class = c(138.5, 138.5, 140.0, 141.0, 141.0, 143.5, 145.0, 147.0, 148.5, 150.0, 153.0,\n",
    "154.0, 155.0, 156.5, 157.0, 158.5, 159.0, 159.0, 159.0, 160.5, 161.0, 162)\n",
    "#a) Zwizualizuj\n",
    "#plot(class)\n",
    "#hist(class)\n",
    "#b) Czy wiemy z jakiego rozkªadu pochodz¡ te danNie wiemy, ale możemy przeprowadzić test na sprawdzenie normalności\n",
    "shapiro.test(class)\n",
    "#p value =  p-value = 0.02798 --> małe --> nie pochodzą z rozkładu norm wg H1\n",
    "\n",
    "#c)Wylosuj 5 prób bootstrapowych z danej próby, co mo»emy powiedzie¢ o ich rozkªadzie?\n",
    "n <- length(class)\n",
    "N <- 5 #ile prób bootstrapowych\n",
    "stat <- numeric(N)\n",
    "macierz <- matrix(N, n)\n",
    "\n",
    "BT <- function(N, proba){\n",
    "mean_value_BT <- numeric(N)\n",
    "n <- length(proba)\n",
    "for (i in 1:N) {\n",
    "  x = sample(proba, n, replace = TRUE)\n",
    "  mean_value_BT[i] = mean(x) }\n",
    "return (mean_value_BT)}\n",
    "\n",
    "mean(BT(5, class))\n",
    "#boxplot(stat)\n",
    "range(BT(5, class)) #zakres wariancji w próbach bootstrapowych\n",
    "mean(class) #średnia orginalna #Możemy powiedzieć, że wariancja z 5 prób bootrapowych mieści się w przedziale^, #a wariancja z próby=66.77976 i średnia wariancja z prób boot=62,3118\n",
    "\n",
    "#d) Oszacuj średni wzrost\n",
    "N <- 100 #ile prób bootstrapowych\n",
    "stat <- numeric(N)\n",
    "x <- numeric(N*n)\n",
    "wzrostsredni <- numeric(N)\n",
    "\n",
    "for (i in 1:N) {\n",
    "  classB = sample (class, n, replace = TRUE)\n",
    "  wzrostsredni[i] = mean(classB) }\n",
    "mean(BT(100, class))\n",
    "#e) błąd standardowy = różnica między średnią ze średnich - każda średnia\n",
    "sqrt(1/(N-1) * sum((wzrostsredni-mean(wzrostsredni))^2))   # 1.884176\n",
    "sd(wzrostsredni) #to samo co wyżej^ #błęd standardowy powinniśmy jeszcze uśrednić o pierw z rozmiaru\n",
    "\n",
    "#obciążenia dla estymatora średniej próby:\n",
    "bias_var_estymatora = mean(var(class))-mean(stat) #3.577089 wariancja z próby-średnia z wariancji z bootstrap\n",
    "obc_boot = abs(mean(class)-mean(wzrostsredni))\n",
    "#0.15022727 (albo na odwrót: średnia z estymatorów bootstrap-średnia na podst próby)"
   ]
  },
  {
   "cell_type": "code",
   "execution_count": null,
   "metadata": {},
   "outputs": [],
   "source": [
    "#f) \n",
    "zad4_f <- function(N){\n",
    "  stat <- numeric(N)\n",
    "  x <- numeric(N*n)\n",
    "  wzrostsredni <- numeric(N)\n",
    "  \n",
    "  for (i in 1:N) {\n",
    "    classB = sample (class, n, replace = TRUE)\n",
    "    wzrostsredni[i] = mean(classB) }\n",
    "  return (wzrostsredni)}\n",
    "mean(class) # 151.25\n",
    "wzrostsredni = (zad4_f(100))\n",
    "mean(wzrostsredni)\n",
    "abs(mean(class)-mean(wzrostsredni)) \n",
    "\n",
    "wzrostsredni = (zad4_f(200))\n",
    "mean(wzrostsredni)\n",
    "abs(mean(class)-mean(wzrostsredni)) \n",
    "\n",
    "wzrostsredni = (zad4_f(500))\n",
    "mean(wzrostsredni)\n",
    "abs(mean(class)-mean(wzrostsredni)) \n",
    "\n",
    "wzrostsredni = (zad4_f(1000))\n",
    "mean(wzrostsredni)\n",
    "abs(mean(class)-mean(wzrostsredni)) \n",
    "\n",
    "wzrostsredni = (zad4_f(10000))\n",
    "mean(wzrostsredni) #przybliżenie estymatora do wartości z oryginalnej próby\n",
    "abs(mean(class)-mean(wzrostsredni)) #Poprawa estymacji (zmniejszenie obciążenia)\n",
    "\n",
    "srednie = cbind(c(mean(wzrost), sd(wzrost), mean(wzrost)-mean()))\n",
    "\n",
    "abs(mean(class)-mean(wzrostsredni)) #0.1165909  e)Obciążenie Estymatora: średnia z estymatorów bootstrap-średnia na podst próby)\n",
    "\n",
    "#mean(var(class))-mean(stat) # 3.269922 - wzrost wariancji\n",
    "\n",
    "#g)\n",
    "N <- 100 #ile prób bootstrapowych\n",
    "stat <- numeric(N)\n",
    "wzrostsredni <- numeric(N)\n",
    "\n",
    "for (i in 1:N) {\n",
    "  classB = sample (class, n, replace = TRUE)\n",
    "  stat[i] = var(classB)\n",
    "  wzrostsredni[i] = median(classB)}\n",
    "median(var(class))-median(stat) #2.935065 dla 10000, 1.839827 dla 100. Dla wariancji \n",
    "abs(median(class)-median(wzrostsredni)) # 0.5 dla 100, 0 dla 1000. Czyli maleje wraz ze wzrostem ilości prób boots.\n",
    "\n",
    "#Precyzja rośnie wraz z ilością losowań, obciążenie estymatora maleje\n"
   ]
  }
 ],
 "metadata": {
  "kernelspec": {
   "display_name": "R",
   "language": "R",
   "name": "ir"
  },
  "language_info": {
   "codemirror_mode": "r",
   "file_extension": ".r",
   "mimetype": "text/x-r-source",
   "name": "R",
   "pygments_lexer": "r",
   "version": "3.6.1"
  },
  "toc": {
   "base_numbering": 1,
   "nav_menu": {},
   "number_sections": true,
   "sideBar": true,
   "skip_h1_title": false,
   "title_cell": "Table of Contents",
   "title_sidebar": "Contents",
   "toc_cell": false,
   "toc_position": {},
   "toc_section_display": true,
   "toc_window_display": false
  },
  "varInspector": {
   "cols": {
    "lenName": 16,
    "lenType": 16,
    "lenVar": 40
   },
   "kernels_config": {
    "python": {
     "delete_cmd_postfix": "",
     "delete_cmd_prefix": "del ",
     "library": "var_list.py",
     "varRefreshCmd": "print(var_dic_list())"
    },
    "r": {
     "delete_cmd_postfix": ") ",
     "delete_cmd_prefix": "rm(",
     "library": "var_list.r",
     "varRefreshCmd": "cat(var_dic_list()) "
    }
   },
   "types_to_exclude": [
    "module",
    "function",
    "builtin_function_or_method",
    "instance",
    "_Feature"
   ],
   "window_display": false
  }
 },
 "nbformat": 4,
 "nbformat_minor": 2
}
