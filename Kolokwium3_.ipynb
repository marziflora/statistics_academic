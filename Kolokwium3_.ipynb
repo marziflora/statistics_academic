{
 "cells": [
  {
   "cell_type": "code",
   "execution_count": 2,
   "metadata": {},
   "outputs": [
    {
     "data": {
      "text/html": [
       "<table>\n",
       "<thead><tr><th scope=col>1</th><th scope=col>2</th><th scope=col>3</th><th scope=col>4</th><th scope=col>5</th><th scope=col>6</th><th scope=col>7</th></tr></thead>\n",
       "<tbody>\n",
       "\t<tr><td>114</td><td> NA</td><td> NA</td><td> NA</td><td>120</td><td> NA</td><td>117</td></tr>\n",
       "\t<tr><td>126</td><td>120</td><td> NA</td><td> NA</td><td> NA</td><td>119</td><td> NA</td></tr>\n",
       "\t<tr><td> NA</td><td>137</td><td>117</td><td> NA</td><td> NA</td><td> NA</td><td>134</td></tr>\n",
       "\t<tr><td>141</td><td> NA</td><td>129</td><td>149</td><td> NA</td><td> NA</td><td> NA</td></tr>\n",
       "\t<tr><td> NA</td><td>145</td><td> NA</td><td>150</td><td>143</td><td> NA</td><td> NA</td></tr>\n",
       "\t<tr><td> NA</td><td> NA</td><td>120</td><td> NA</td><td>118</td><td>123</td><td> NA</td></tr>\n",
       "\t<tr><td> NA</td><td> NA</td><td> NA</td><td>136</td><td> NA</td><td>130</td><td>137</td></tr>\n",
       "</tbody>\n",
       "</table>\n"
      ],
      "text/latex": [
       "\\begin{tabular}{r|lllllll}\n",
       " 1 & 2 & 3 & 4 & 5 & 6 & 7\\\\\n",
       "\\hline\n",
       "\t 114 &  NA &  NA &  NA & 120 &  NA & 117\\\\\n",
       "\t 126 & 120 &  NA &  NA &  NA & 119 &  NA\\\\\n",
       "\t  NA & 137 & 117 &  NA &  NA &  NA & 134\\\\\n",
       "\t 141 &  NA & 129 & 149 &  NA &  NA &  NA\\\\\n",
       "\t  NA & 145 &  NA & 150 & 143 &  NA &  NA\\\\\n",
       "\t  NA &  NA & 120 &  NA & 118 & 123 &  NA\\\\\n",
       "\t  NA &  NA &  NA & 136 &  NA & 130 & 137\\\\\n",
       "\\end{tabular}\n"
      ],
      "text/markdown": [
       "\n",
       "| 1 | 2 | 3 | 4 | 5 | 6 | 7 |\n",
       "|---|---|---|---|---|---|---|\n",
       "| 114 |  NA |  NA |  NA | 120 |  NA | 117 |\n",
       "| 126 | 120 |  NA |  NA |  NA | 119 |  NA |\n",
       "|  NA | 137 | 117 |  NA |  NA |  NA | 134 |\n",
       "| 141 |  NA | 129 | 149 |  NA |  NA |  NA |\n",
       "|  NA | 145 |  NA | 150 | 143 |  NA |  NA |\n",
       "|  NA |  NA | 120 |  NA | 118 | 123 |  NA |\n",
       "|  NA |  NA |  NA | 136 |  NA | 130 | 137 |\n",
       "\n"
      ],
      "text/plain": [
       "  1   2   3   4   5   6   7  \n",
       "1 114  NA  NA  NA 120  NA 117\n",
       "2 126 120  NA  NA  NA 119  NA\n",
       "3  NA 137 117  NA  NA  NA 134\n",
       "4 141  NA 129 149  NA  NA  NA\n",
       "5  NA 145  NA 150 143  NA  NA\n",
       "6  NA  NA 120  NA 118 123  NA\n",
       "7  NA  NA  NA 136  NA 130 137"
      ]
     },
     "metadata": {},
     "output_type": "display_data"
    }
   ],
   "source": [
    "#1\n",
    "x = matrix(c(114, NA, NA,NA, 120, NA, 117,\n",
    "            126, 120, NA, NA, NA, 119, NA,\n",
    "            NA, 137, 117, NA, NA, NA, 134,\n",
    "            141, NA, 129, 149, NA, NA, NA,\n",
    "            NA, 145, NA, 150, 143, NA, NA,\n",
    "            NA, NA, 120, NA, 118, 123, NA,\n",
    "            NA, NA, NA, 136, NA, 130, 137), byrow=TRUE, nrow = 7, ncol = 7)\n",
    "x = data.frame(x)\n",
    "rownames(x) <- c(1:7) \n",
    "colnames(x) <- c(1:7)\n",
    "x"
   ]
  },
  {
   "cell_type": "code",
   "execution_count": null,
   "metadata": {},
   "outputs": [],
   "source": [
    "metoda bloków kompletnie zrandomizowanych (losowych) - wszystkie wypełnione\n",
    "model niekompletne bloki losowe - dziury (1 lambda)\n",
    "# częściowo niezrównoważone - co w zadaniu\n",
    "model częściowo zrównoważony niekompletnych bloków - różne lambdy"
   ]
  },
  {
   "cell_type": "code",
   "execution_count": 3,
   "metadata": {},
   "outputs": [
    {
     "data": {
      "text/html": [
       "1"
      ],
      "text/latex": [
       "1"
      ],
      "text/markdown": [
       "1"
      ],
      "text/plain": [
       "[1] 1"
      ]
     },
     "metadata": {},
     "output_type": "display_data"
    }
   ],
   "source": [
    "a = 7\n",
    "b = 7\n",
    "k = 3\n",
    "r=3\n",
    "N=k*a\n",
    "lambda = (r*(k-1))/(a-1)\n",
    "lambda"
   ]
  },
  {
   "cell_type": "code",
   "execution_count": null,
   "metadata": {},
   "outputs": [],
   "source": [
    "#a) Model niekompletnych bloków losowych\n",
    "#Hipotezy: H0: Dzień nie wpływa na wytrzymałość papieru H1: Dzień wpływa na wytrzymałość\n",
    "#H0: Koncentracja drewna nie wpływa na wytrzymałość papieru H1: Koncentracja wpływa na wytrzymałość\n",
    "#yij = mi + tau i + Betaj + eij gdzie e należy do N(0, sigma2)"
   ]
  },
  {
   "cell_type": "code",
   "execution_count": 5,
   "metadata": {},
   "outputs": [],
   "source": [
    "#b)\n",
    "Q1 = -97/3\n",
    "Q2 = -20\n",
    "Q3 =  8/3\n",
    "Q4 = 25\n",
    "Q5 = 32\n",
    "Q6 = -12\n",
    "Q7 = 14/3"
   ]
  },
  {
   "cell_type": "code",
   "execution_count": 15,
   "metadata": {},
   "outputs": [
    {
     "data": {
      "text/html": [
       "129.761904761905"
      ],
      "text/latex": [
       "129.761904761905"
      ],
      "text/markdown": [
       "129.761904761905"
      ],
      "text/plain": [
       "[1] 129.7619"
      ]
     },
     "metadata": {},
     "output_type": "display_data"
    },
    {
     "data": {
      "text/html": [
       "<ol class=list-inline>\n",
       "\t<li>-13.8571428571429</li>\n",
       "\t<li>-8.57142857142857</li>\n",
       "\t<li>1.14285714285714</li>\n",
       "\t<li>10.7142857142857</li>\n",
       "\t<li>13.7142857142857</li>\n",
       "\t<li>-5.14285714285714</li>\n",
       "\t<li>2</li>\n",
       "</ol>\n"
      ],
      "text/latex": [
       "\\begin{enumerate*}\n",
       "\\item -13.8571428571429\n",
       "\\item -8.57142857142857\n",
       "\\item 1.14285714285714\n",
       "\\item 10.7142857142857\n",
       "\\item 13.7142857142857\n",
       "\\item -5.14285714285714\n",
       "\\item 2\n",
       "\\end{enumerate*}\n"
      ],
      "text/markdown": [
       "1. -13.8571428571429\n",
       "2. -8.57142857142857\n",
       "3. 1.14285714285714\n",
       "4. 10.7142857142857\n",
       "5. 13.7142857142857\n",
       "6. -5.14285714285714\n",
       "7. 2\n",
       "\n",
       "\n"
      ],
      "text/plain": [
       "[1] -13.857143  -8.571429   1.142857  10.714286  13.714286  -5.142857   2.000000"
      ]
     },
     "metadata": {},
     "output_type": "display_data"
    }
   ],
   "source": [
    "#Wewnątrzblokowe:\n",
    "MNK1 = k*Q1/(lambda*a)\n",
    "MNK2 = k*Q2/(lambda*a)\n",
    "MNK3 = k*Q3/(lambda*a)\n",
    "MNK4 = k*Q4/(lambda*a)\n",
    "MNK5 = k*Q5/(lambda*a)\n",
    "MNK6 = k*Q6/(lambda*a)\n",
    "MNK7 = k*Q7/(lambda*a)\n",
    "tau_daszek = c(MNK1, MNK2, MNK3, MNK4, MNK5, MNK6, MNK7)  #wewnątrzblokowe\n",
    "\n",
    "mi = sum(rowSums(x, na.rm=TRUE))/N\n",
    "# betaj = (colSums(x, na.rm=TRUE))\n",
    "# betaj\n",
    "\n",
    "mi\n",
    "tau_daszek"
   ]
  },
  {
   "cell_type": "code",
   "execution_count": 16,
   "metadata": {},
   "outputs": [
    {
     "data": {
      "text/html": [
       "<dl class=dl-horizontal>\n",
       "\t<dt>1</dt>\n",
       "\t\t<dd>1.14285714285715</dd>\n",
       "\t<dt>2</dt>\n",
       "\t\t<dd>2.14285714285714</dd>\n",
       "\t<dt>3</dt>\n",
       "\t\t<dd>-9.99999999999999</dd>\n",
       "\t<dt>4</dt>\n",
       "\t\t<dd>6.42857142857143</dd>\n",
       "\t<dt>5</dt>\n",
       "\t\t<dd>-0.999999999999992</dd>\n",
       "\t<dt>6</dt>\n",
       "\t\t<dd>-1.85714285714285</dd>\n",
       "\t<dt>7</dt>\n",
       "\t\t<dd>3.14285714285716</dd>\n",
       "</dl>\n"
      ],
      "text/latex": [
       "\\begin{description*}\n",
       "\\item[1] 1.14285714285715\n",
       "\\item[2] 2.14285714285714\n",
       "\\item[3] -9.99999999999999\n",
       "\\item[4] 6.42857142857143\n",
       "\\item[5] -0.999999999999992\n",
       "\\item[6] -1.85714285714285\n",
       "\\item[7] 3.14285714285716\n",
       "\\end{description*}\n"
      ],
      "text/markdown": [
       "1\n",
       ":   1.142857142857152\n",
       ":   2.142857142857143\n",
       ":   -9.999999999999994\n",
       ":   6.428571428571435\n",
       ":   -0.9999999999999926\n",
       ":   -1.857142857142857\n",
       ":   3.14285714285716\n",
       "\n"
      ],
      "text/plain": [
       "         1          2          3          4          5          6          7 \n",
       "  1.142857   2.142857 -10.000000   6.428571  -1.000000  -1.857143   3.142857 "
      ]
     },
     "metadata": {},
     "output_type": "display_data"
    }
   ],
   "source": [
    "'%ni%' <- Negate('%in%')\n",
    "Qj = c( colSums(x, na.rm=TRUE)[1] - 1/r*( sum(rowSums(x, na.rm=TRUE)[which(t(x[,1]) %ni% c(NA))])),\n",
    "colSums(x, na.rm=TRUE)[2] - 1/r*( sum(rowSums(x, na.rm=TRUE)[which(t(x[,2]) %ni% c(NA))])),\n",
    "colSums(x, na.rm=TRUE)[3] - 1/r*( sum(rowSums(x, na.rm=TRUE)[which(t(x[,3]) %ni% c(NA))])),\n",
    "colSums(x, na.rm=TRUE)[4] - 1/r*( sum(rowSums(x, na.rm=TRUE)[which(t(x[,4]) %ni% c(NA))])),\n",
    "colSums(x, na.rm=TRUE)[5] - 1/r*( sum(rowSums(x, na.rm=TRUE)[which(t(x[,5]) %ni% c(NA))])),\n",
    "colSums(x, na.rm=TRUE)[6] - 1/r*( sum(rowSums(x, na.rm=TRUE)[which(t(x[,6]) %ni% c(NA))])),\n",
    "colSums(x, na.rm=TRUE)[7] - 1/r*( sum(rowSums(x, na.rm=TRUE)[which(t(x[,7]) %ni% c(NA))]))  )\n",
    "\n",
    "betaj_daszek = (r*Qj)/(lambda*b)\n",
    "betaj_daszek"
   ]
  },
  {
   "cell_type": "code",
   "execution_count": 12,
   "metadata": {},
   "outputs": [
    {
     "data": {
      "text/html": [
       "129.761904761905"
      ],
      "text/latex": [
       "129.761904761905"
      ],
      "text/markdown": [
       "129.761904761905"
      ],
      "text/plain": [
       "[1] 129.7619"
      ]
     },
     "metadata": {},
     "output_type": "display_data"
    },
    {
     "data": {
      "text/html": [
       "<ol class=list-inline>\n",
       "\t<li>-8.92857142857144</li>\n",
       "\t<li>-6.42857142857144</li>\n",
       "\t<li>-5.92857142857144</li>\n",
       "\t<li>7.07142857142856</li>\n",
       "\t<li>25.0714285714286</li>\n",
       "\t<li>-24.4285714285714</li>\n",
       "\t<li>13.5714285714286</li>\n",
       "</ol>\n"
      ],
      "text/latex": [
       "\\begin{enumerate*}\n",
       "\\item -8.92857142857144\n",
       "\\item -6.42857142857144\n",
       "\\item -5.92857142857144\n",
       "\\item 7.07142857142856\n",
       "\\item 25.0714285714286\n",
       "\\item -24.4285714285714\n",
       "\\item 13.5714285714286\n",
       "\\end{enumerate*}\n"
      ],
      "text/markdown": [
       "1. -8.92857142857144\n",
       "2. -6.42857142857144\n",
       "3. -5.92857142857144\n",
       "4. 7.07142857142856\n",
       "5. 25.0714285714286\n",
       "6. -24.4285714285714\n",
       "7. 13.5714285714286\n",
       "\n",
       "\n"
      ],
      "text/plain": [
       "[1]  -8.928571  -6.428571  -5.928571   7.071429  25.071429 -24.428571  13.571429"
      ]
     },
     "metadata": {},
     "output_type": "display_data"
    }
   ],
   "source": [
    "#Międzyblokowe:\n",
    "mi = sum(rowSums(x, na.rm=TRUE))/N #międzyblokowe\n",
    "\n",
    "'%ni%' <- Negate('%in%')\n",
    "tau_falka = c(  (sum(colSums(x, na.rm=TRUE)[which(t(x[1,]) %ni% c(NA))]) - k*r*sum(rowSums(x, na.rm=TRUE))/N)      /(r-lambda),\n",
    "                (sum(colSums(x, na.rm=TRUE)[which(t(x[2,]) %ni% c(NA))]) - k*r*sum(rowSums(x, na.rm=TRUE))/N)      /(r-lambda),\n",
    "                (sum(colSums(x, na.rm=TRUE)[which(t(x[3,]) %ni% c(NA))])  -k*r*sum(rowSums(x, na.rm=TRUE))/N)      /(r-lambda),\n",
    "                (sum(colSums(x, na.rm=TRUE)[which(t(x[4,]) %ni% c(NA))]) - k*r*sum(rowSums(x, na.rm=TRUE))/N)      /(r-lambda),\n",
    "                (sum(colSums(x, na.rm=TRUE)[which(t(x[5,]) %ni% c(NA))]) - k*r*sum(rowSums(x, na.rm=TRUE))/N)      /(r-lambda),\n",
    "                (sum(colSums(x, na.rm=TRUE)[which(t(x[6,]) %ni% c(NA))]) - k*r*sum(rowSums(x, na.rm=TRUE))/N)     /(r-lambda),\n",
    "                (sum(colSums(x, na.rm=TRUE)[which(t(x[7,]) %ni% c(NA))]) - k*r*sum(rowSums(x, na.rm=TRUE))/N)     /(r-lambda) )\n",
    "mi\n",
    "tau_falka"
   ]
  },
  {
   "cell_type": "code",
   "execution_count": 23,
   "metadata": {},
   "outputs": [
    {
     "data": {
      "text/html": [
       "<table>\n",
       "<thead><tr><th></th><th scope=col>SumaKwadratów</th><th scope=col>StopnieSwobody</th><th scope=col>ŚredniKwadrat</th><th scope=col>F</th></tr></thead>\n",
       "<tbody>\n",
       "\t<tr><th scope=row>cz. dopasowany</th><td>1400.286     </td><td> 6           </td><td>    233.38095</td><td>10.83094     </td></tr>\n",
       "\t<tr><th scope=row>bloki</th><td>1077.143     </td><td> 6           </td><td>-353188.28571</td><td>      NA     </td></tr>\n",
       "\t<tr><th scope=row>bład</th><td> 172.381     </td><td> 8           </td><td>     21.54762</td><td>      NA     </td></tr>\n",
       "\t<tr><th scope=row>całkowita</th><td>2649.810     </td><td>20           </td><td>           NA</td><td>      NA     </td></tr>\n",
       "</tbody>\n",
       "</table>\n"
      ],
      "text/latex": [
       "\\begin{tabular}{r|llll}\n",
       "  & SumaKwadratów & StopnieSwobody & ŚredniKwadrat & F\\\\\n",
       "\\hline\n",
       "\tcz. dopasowany & 1400.286      &  6            &     233.38095 & 10.83094     \\\\\n",
       "\tbloki & 1077.143      &  6            & -353188.28571 &       NA     \\\\\n",
       "\tbład &  172.381      &  8            &      21.54762 &       NA     \\\\\n",
       "\tcałkowita & 2649.810      & 20            &            NA &       NA     \\\\\n",
       "\\end{tabular}\n"
      ],
      "text/markdown": [
       "\n",
       "| <!--/--> | SumaKwadratów | StopnieSwobody | ŚredniKwadrat | F |\n",
       "|---|---|---|---|---|\n",
       "| cz. dopasowany | 1400.286      |  6            |     233.38095 | 10.83094      |\n",
       "| bloki | 1077.143      |  6            | -353188.28571 |       NA      |\n",
       "| bład |  172.381      |  8            |      21.54762 |       NA      |\n",
       "| całkowita | 2649.810      | 20            |            NA |       NA      |\n",
       "\n"
      ],
      "text/plain": [
       "               SumaKwadratów StopnieSwobody ŚredniKwadrat F       \n",
       "cz. dopasowany 1400.286       6                 233.38095 10.83094\n",
       "bloki          1077.143       6             -353188.28571       NA\n",
       "bład            172.381       8                  21.54762       NA\n",
       "całkowita      2649.810      20                        NA       NA"
      ]
     },
     "metadata": {},
     "output_type": "display_data"
    },
    {
     "data": {
      "text/html": [
       "7.91545189504463"
      ],
      "text/latex": [
       "7.91545189504463"
      ],
      "text/markdown": [
       "7.91545189504463"
      ],
      "text/plain": [
       "[1] 7.915452"
      ]
     },
     "metadata": {},
     "output_type": "display_data"
    },
    {
     "data": {
      "text/html": [
       "-583869.349854228"
      ],
      "text/latex": [
       "-583869.349854228"
      ],
      "text/markdown": [
       "-583869.349854228"
      ],
      "text/plain": [
       "[1] -583869.3"
      ]
     },
     "metadata": {},
     "output_type": "display_data"
    }
   ],
   "source": [
    "SST = sum(x**2, na.rm=TRUE)   - sum(rowSums(x, na.rm=TRUE))**2/N\n",
    "SSB = sum(colSums(x, na.rm=TRUE)**2, na.rm=TRUE)/k  - sum(rowSums(x, na.rm=TRUE))**2/N\n",
    "SScz = ((k*(sum(c(Q1, Q2, Q3, Q4, Q5, Q6, Q7)**2)))/(lambda*a))\n",
    "SSE = SST-SSB - SScz\n",
    "MScd = SScz/(a-1)\n",
    "MSE = SSE/(N-a-b+1)\n",
    "MSB = (((k*(sum(c(Q1, Q2, Q3, Q4, Q5, Q6, Q7)**2)))/(lambda*a)) + sum((colSums(x, na.rm=TRUE)**2))/k - (sum(rowSums(x, na.rm=TRUE))**2/r)) * 1/(b-1)\n",
    "F0 = MScd/MSE\n",
    "\n",
    "dfcd <- a-1\n",
    "dfB <- b-1\n",
    "dfE <- N-a-b+1\n",
    "dfT <- N-1\n",
    "\n",
    "tabela <- rbind(c(SScz, dfcd, MScd, F0),\n",
    "                c(SSB, dfB, MSB, NA),\n",
    "                c(SSE, dfE, MSE, NA),\n",
    "                c(SST, dfT, NA, NA))\n",
    "colnames(tabela) <- c(\"SumaKwadratów\", \"StopnieSwobody\", \"ŚredniKwadrat\", \"F\")\n",
    "rownames(tabela) <- c(\"cz. dopasowany\", \"bloki\", \"bład\", \"całkowita\")\n",
    "tabela\n",
    "\n",
    "MSB = (((k*(sum(c(Q1, Q2, Q3, Q4, Q5)**2)))/(lambda*a)) + sum((colSums(x, na.rm=TRUE)**2))/k - (sum(rowSums(x, na.rm=TRUE))**2/r)) * 1/(b-1)\n",
    "sigma2 = MSE\n",
    "sigma2beta = ((MSB-MSE)*(b-1))/(a*(r-1))\n",
    "Var_tau_daszek = (k*(a-1))/(lambda*a**2)*sigma2\n",
    "Var_tau_falka = (k*(a-1)/(a*(r-lambda))) * (sigma2+k*sigma2beta)\n",
    "Var_tau_daszek\n",
    "Var_tau_falka\n"
   ]
  },
  {
   "cell_type": "code",
   "execution_count": 5,
   "metadata": {},
   "outputs": [
    {
     "data": {
      "text/html": [
       "43"
      ],
      "text/latex": [
       "43"
      ],
      "text/markdown": [
       "43"
      ],
      "text/plain": [
       "[1] 43"
      ]
     },
     "metadata": {},
     "output_type": "display_data"
    }
   ],
   "source": [
    "X <- c(129, 123, 126, 128.5, 121)\n",
    "Y <- c(153, 154, 155, 156, 158)\n",
    "\n",
    "diff=function(samp){\n",
    "s=sort(samp)\n",
    "l=length(samp)\n",
    "d=1:(l-1)\n",
    "for(k in 2:l){\n",
    "d[k-1]=s[k]-s[k-1]}\n",
    "return(d)}\n",
    "\n",
    "aly=function(samp){\n",
    "stat=0\n",
    "l=length(samp)\n",
    "for(k in 1:l)\n",
    "stat=stat+k*(l+1-k)*samp[k]\n",
    "return(stat)}\n",
    "\n",
    "amp = diff(X)\n",
    "aly(amp)"
   ]
  },
  {
   "cell_type": "code",
   "execution_count": null,
   "metadata": {},
   "outputs": [],
   "source": []
  },
  {
   "cell_type": "code",
   "execution_count": 7,
   "metadata": {},
   "outputs": [
    {
     "name": "stderr",
     "output_type": "stream",
     "text": [
      "Your code contains a unicode char which cannot be displayed in your\n",
      "current locale and R will silently convert it to an escaped form when the\n",
      "R kernel executes this code. This can lead to subtle errors if you use\n",
      "such chars to do comparisons. For more information, please see\n",
      "https://github.com/IRkernel/repr/wiki/Problems-with-unicode-on-windows"
     ]
    },
    {
     "data": {
      "text/html": [
       "<table>\n",
       "<tbody>\n",
       "\t<tr><td>114</td><td> NA</td><td> NA</td><td> NA</td><td>120</td><td> NA</td><td>117</td></tr>\n",
       "\t<tr><td>126</td><td>120</td><td> NA</td><td> NA</td><td> NA</td><td>119</td><td> NA</td></tr>\n",
       "\t<tr><td> NA</td><td>137</td><td>117</td><td> NA</td><td> NA</td><td> NA</td><td>134</td></tr>\n",
       "\t<tr><td>141</td><td> NA</td><td>129</td><td>149</td><td> NA</td><td> NA</td><td> NA</td></tr>\n",
       "\t<tr><td> NA</td><td>145</td><td> NA</td><td>150</td><td>143</td><td> NA</td><td> NA</td></tr>\n",
       "\t<tr><td> NA</td><td> NA</td><td>120</td><td> NA</td><td>118</td><td>123</td><td> NA</td></tr>\n",
       "\t<tr><td> NA</td><td> NA</td><td> NA</td><td>136</td><td> NA</td><td>130</td><td>137</td></tr>\n",
       "</tbody>\n",
       "</table>\n"
      ],
      "text/latex": [
       "\\begin{tabular}{lllllll}\n",
       "\t 114 &  NA &  NA &  NA & 120 &  NA & 117\\\\\n",
       "\t 126 & 120 &  NA &  NA &  NA & 119 &  NA\\\\\n",
       "\t  NA & 137 & 117 &  NA &  NA &  NA & 134\\\\\n",
       "\t 141 &  NA & 129 & 149 &  NA &  NA &  NA\\\\\n",
       "\t  NA & 145 &  NA & 150 & 143 &  NA &  NA\\\\\n",
       "\t  NA &  NA & 120 &  NA & 118 & 123 &  NA\\\\\n",
       "\t  NA &  NA &  NA & 136 &  NA & 130 & 137\\\\\n",
       "\\end{tabular}\n"
      ],
      "text/markdown": [
       "\n",
       "| 114 |  NA |  NA |  NA | 120 |  NA | 117 |\n",
       "| 126 | 120 |  NA |  NA |  NA | 119 |  NA |\n",
       "|  NA | 137 | 117 |  NA |  NA |  NA | 134 |\n",
       "| 141 |  NA | 129 | 149 |  NA |  NA |  NA |\n",
       "|  NA | 145 |  NA | 150 | 143 |  NA |  NA |\n",
       "|  NA |  NA | 120 |  NA | 118 | 123 |  NA |\n",
       "|  NA |  NA |  NA | 136 |  NA | 130 | 137 |\n",
       "\n"
      ],
      "text/plain": [
       "     [,1] [,2] [,3] [,4] [,5] [,6] [,7]\n",
       "[1,] 114   NA   NA   NA  120   NA  117 \n",
       "[2,] 126  120   NA   NA   NA  119   NA \n",
       "[3,]  NA  137  117   NA   NA   NA  134 \n",
       "[4,] 141   NA  129  149   NA   NA   NA \n",
       "[5,]  NA  145   NA  150  143   NA   NA \n",
       "[6,]  NA   NA  120   NA  118  123   NA \n",
       "[7,]  NA   NA   NA  136   NA  130  137 "
      ]
     },
     "metadata": {},
     "output_type": "display_data"
    },
    {
     "name": "stdout",
     "output_type": "stream",
     "text": [
      "       Q Tau.wewnątrzblkowe Tau.międzyblokowe Wariancja.wewnątrz.bloków\n",
      "1 -32.33             -13.86             -8.93                    7.9187\n",
      "2 -20.00              -8.57             -6.43                          \n",
      "3   2.67               1.14             -5.93                          \n",
      "4  25.00              10.71              7.07                          \n",
      "5  32.00              13.71             25.07                          \n",
      "6 -12.00              -5.14            -24.43                          \n",
      "7   4.67               2.00             13.57                          \n",
      "  Wariancja.międzyblokowa   Beta\n",
      "1                 95.9158  -1.00\n",
      "2                           7.29\n",
      "3                          -8.29\n",
      "4                          17.57\n",
      "5                         -10.71\n",
      "6                          -0.43\n",
      "7                          -4.43\n"
     ]
    }
   ],
   "source": [
    "alfa=0.05\n",
    "\n",
    "Q1=round(-(32*3+1)/3,2)\n",
    "Q2=round(-20,2)\n",
    "Q3=round((2*3+2)/3,2)\n",
    "Q4=round(25,2)\n",
    "Q5=round(32,2)\n",
    "Q6=round(-12,2)\n",
    "Q7=round((3*4+2)/3,2)\n",
    "Q=c(Q1,Q2,Q3,Q4,Q5,Q6,Q7)\n",
    "\n",
    "obs=c(114,126,NA,141,NA,NA,NA,NA,120,137,NA,145,NA,NA,NA,NA,117,129,NA,120,NA,NA,NA,NA,149,150,NA,136,120,NA,NA,NA,143,118,NA,NA,119,NA,NA,NA,123,130,117,NA,134,NA,NA,NA,137)\n",
    "(macierz=matrix(obs,7,7))\n",
    "\n",
    "niekompletne_estymatory=function(macierz){\n",
    "  a=dim(macierz)[1]\n",
    "  b=dim(macierz)[2]\n",
    "  k=a-sum(is.na(macierz[,1])) #liczba poziomów czynnika w każdym bloku\n",
    "  (r=(b*k)/a) #N=ar=bk\n",
    "  (N=b*k)\n",
    "  (lambda=(r*(k-1))/(a-1))\n",
    "  #stopnie swobody\n",
    "  stc=a-1\n",
    "  stbl=b-1\n",
    "  stbł=N-a-b+1\n",
    "  stt=N-1\n",
    "  #suma kwadratów\n",
    "  (SST=sum(macierz^2,na.rm = T)-(sum(macierz,na.rm = T)^2/N))\n",
    "  (SSB=sum((colSums(macierz,na.rm=T)^2)/k)-(sum(macierz,na.rm = T)^2/N))\n",
    "  (SSCzdop=(k*sum(Q^2))/(lambda*a))\n",
    "  (SSE=SST-SSB-SSCzdop)\n",
    "  #średni kwadrat\n",
    "  MSB=SSB/stbl\n",
    "  (MSCzdop=SSCzdop/stc)\n",
    "  (MSE=SSE/stbł)\n",
    "  MST=SST/stt\n",
    "  Q1=round(-(32*3+1)/3,2)\n",
    "  Q2=round(-20,2)\n",
    "  Q3=round((2*3+2)/3,2)\n",
    "  Q4=round(25,2)\n",
    "  Q5=round(32,2)\n",
    "  Q6=round(-12,2)\n",
    "  Q7=round((3*4+2)/3,2)\n",
    "  Q=c(Q1,Q2,Q3,Q4,Q5,Q6,Q7)\n",
    "\n",
    "  Qj=c()#Qj\n",
    "  for (j in 1:b){\n",
    "    Qj[j]=(colSums(macierz,na.rm=T)[j])-(1/r)*\n",
    "      sum(rowSums(macierz[,-which(is.na(macierz[j,]))],na.rm = T))}\n",
    "  beta_daszek=c()\n",
    "  for (j in 1:b){beta_daszek[j]=(r*Qj[j])/(lambda*b)}\n",
    "  round(beta_daszek)\n",
    "  \n",
    "  #wewnątrzblokowe:\n",
    "  #Ti=(k*Qi)/(lambda*a)\n",
    "  Tau_wew=c()\n",
    "  for (i in 1:a){Tau_wew[i]=(k*Q[i])/(lambda*a)}\n",
    "  round(Tau_wew,2) #estymatory\n",
    "  sum(Tau_wew) #0, zgadza się\n",
    "  #międzyblokowe:\n",
    "  #τi=(E^{b}_{j=1}(nijy.j)-kry..)/(r-lambda)\n",
    "  mu=mean(macierz,na.rm=T)\n",
    "  Tau_mię=c()\n",
    "  for (i in 1:a){\n",
    "    Tau_mię[i]=\n",
    "      ((sum(colSums(macierz[,-which(is.na(macierz[i,]))],na.rm = T),na.rm = T))-(k*r*mu))/(r-lambda)}\n",
    "  Tau_mię\n",
    "  sum(Tau_mię) #0,zgadza się\n",
    "  #wariancje:\n",
    "  MSbloki=1/(b-1)*((k*sum(Q^2))/(lambda*a)+\n",
    "                     sum((colSums(macierz,na.rm=T)^2)/k)-\n",
    "                     sum((rowSums(macierz,na.rm=T)^2)/r))\n",
    "  if(MSbloki>MSE){\n",
    "    sigB=((MSbloki-MSE)*(b-1))/(a*(r-1))\n",
    "  }else sigB=0\n",
    "  sigB\n",
    "  sigma=MSE\n",
    "  #var wew bloków\n",
    "  (wew_var=((k*(a-1))/(lambda*a^2))*sigma)\n",
    "  #var międzyblokowe\n",
    "  (mie_var=((k*(a-1))/(a*(r-lambda)))*(sigma+k*sigB))\n",
    "  tabela=data.frame(\n",
    "    \"Q\"=Q,\n",
    "    \"Tau wewnątrzblkowe\"=round(Tau_wew,2),\n",
    "    \"Tau międzyblokowe\"=round(Tau_mię,2),\n",
    "    \"Wariancja wewnątrz bloków\"=c(round(wew_var,4),rep(' ',a-1)),\n",
    "    \"Wariancja międzyblokowa\"=c(round(mie_var,4),rep(' ',a-1)),\n",
    "    \"Beta\"=round(beta_daszek,2)\n",
    "    )\n",
    "  print(tabela)\n",
    "}\n",
    "niekompletne_estymatory(macierz)"
   ]
  }
 ],
 "metadata": {
  "kernelspec": {
   "display_name": "R",
   "language": "R",
   "name": "ir"
  },
  "language_info": {
   "codemirror_mode": "r",
   "file_extension": ".r",
   "mimetype": "text/x-r-source",
   "name": "R",
   "pygments_lexer": "r",
   "version": "3.6.1"
  },
  "toc": {
   "base_numbering": 1,
   "nav_menu": {},
   "number_sections": true,
   "sideBar": true,
   "skip_h1_title": false,
   "title_cell": "Table of Contents",
   "title_sidebar": "Contents",
   "toc_cell": false,
   "toc_position": {},
   "toc_section_display": true,
   "toc_window_display": false
  },
  "varInspector": {
   "cols": {
    "lenName": 16,
    "lenType": 16,
    "lenVar": 40
   },
   "kernels_config": {
    "python": {
     "delete_cmd_postfix": "",
     "delete_cmd_prefix": "del ",
     "library": "var_list.py",
     "varRefreshCmd": "print(var_dic_list())"
    },
    "r": {
     "delete_cmd_postfix": ") ",
     "delete_cmd_prefix": "rm(",
     "library": "var_list.r",
     "varRefreshCmd": "cat(var_dic_list()) "
    }
   },
   "types_to_exclude": [
    "module",
    "function",
    "builtin_function_or_method",
    "instance",
    "_Feature"
   ],
   "window_display": false
  }
 },
 "nbformat": 4,
 "nbformat_minor": 2
}
