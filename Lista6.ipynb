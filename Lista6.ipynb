{
 "cells": [
  {
   "cell_type": "code",
   "execution_count": 2,
   "metadata": {},
   "outputs": [],
   "source": [
    "#2.\n",
    "# H0: Brak wpływu jakiegokolwiek składnika na czas reakcji, H1: Chociaż jeden składnik wpływa na czas reakcji\n",
    "partia <- rep(c(\"P1\", \"P2\", \"P3\", \"P4\", \"P5\"), 5)\n",
    "dzien <- c(rep(\"D1\",5), rep(\"D2\",5), rep(\"D3\",5), rep(\"D4\",5), rep(\"D5\",5))\n",
    "skladnik <- c(\"A\",\"C\",\"B\",\"D\",\"E\",\n",
    "             \"B\",\"E\",\"A\",\"C\",\"D\",\n",
    "             \"D\",\"A\",\"C\",\"E\",\"B\",\n",
    "             \"C\",\"D\",\"E\",\"B\",\"A\",\n",
    "             \"E\",\"B\",\"D\",\"A\",\"C\")\n",
    "efekt <-      c(8, 11,4, 6, 4,\n",
    "                7, 2, 9, 8, 2,\n",
    "                1, 7,10, 6, 3,\n",
    "                7, 3, 1, 6, 8,\n",
    "                3, 8, 5,10, 8)\n",
    "\n",
    "x = matrix(c(efekt), nrow=5, ncol=5, byrow=FALSE)\n",
    "colnames(x) <- c(\"D1\", \"D2\", \"D3\", \"D4\", \"D5\") \n",
    "rownames(x) <- c(\"P1\", \"P2\", \"P3\", \"P4\", \"P5\")\n",
    "lista_danych <- data.frame(dzien, partia, skladnik, matrix(x))"
   ]
  },
  {
   "cell_type": "code",
   "execution_count": 3,
   "metadata": {},
   "outputs": [
    {
     "name": "stdout",
     "output_type": "stream",
     "text": [
      "[1] 37.52\n"
     ]
    },
    {
     "data": {
      "text/html": [
       "<table>\n",
       "<thead><tr><th></th><th scope=col>SumaKwadratow</th><th scope=col>StopnieSwobody</th><th scope=col>SredniKwadrat</th><th scope=col>F</th></tr></thead>\n",
       "<tbody>\n",
       "\t<tr><th scope=row>obiekty</th><td>141.44          </td><td>4               </td><td>35.36           </td><td>11.3091684434968</td></tr>\n",
       "\t<tr><th scope=row>wiersze</th><td>15.4399999999999</td><td>4               </td><td>3.85999999999999</td><td>-               </td></tr>\n",
       "\t<tr><th scope=row>kolumny</th><td>12.24           </td><td>4               </td><td>3.06            </td><td>-               </td></tr>\n",
       "\t<tr><th scope=row>blad</th><td>37.5200000000001</td><td>12              </td><td>3.12666666666667</td><td>-               </td></tr>\n",
       "\t<tr><th scope=row>calkowita</th><td>206.64          </td><td>24              </td><td>-               </td><td>-               </td></tr>\n",
       "</tbody>\n",
       "</table>\n"
      ],
      "text/latex": [
       "\\begin{tabular}{r|llll}\n",
       "  & SumaKwadratow & StopnieSwobody & SredniKwadrat & F\\\\\n",
       "\\hline\n",
       "\tobiekty & 141.44           & 4                & 35.36            & 11.3091684434968\\\\\n",
       "\twiersze & 15.4399999999999 & 4                & 3.85999999999999 & -               \\\\\n",
       "\tkolumny & 12.24            & 4                & 3.06             & -               \\\\\n",
       "\tblad & 37.5200000000001 & 12               & 3.12666666666667 & -               \\\\\n",
       "\tcalkowita & 206.64           & 24               & -                & -               \\\\\n",
       "\\end{tabular}\n"
      ],
      "text/markdown": [
       "\n",
       "| <!--/--> | SumaKwadratow | StopnieSwobody | SredniKwadrat | F |\n",
       "|---|---|---|---|---|\n",
       "| obiekty | 141.44           | 4                | 35.36            | 11.3091684434968 |\n",
       "| wiersze | 15.4399999999999 | 4                | 3.85999999999999 | -                |\n",
       "| kolumny | 12.24            | 4                | 3.06             | -                |\n",
       "| blad | 37.5200000000001 | 12               | 3.12666666666667 | -                |\n",
       "| calkowita | 206.64           | 24               | -                | -                |\n",
       "\n"
      ],
      "text/plain": [
       "          SumaKwadratow    StopnieSwobody SredniKwadrat    F               \n",
       "obiekty   141.44           4              35.36            11.3091684434968\n",
       "wiersze   15.4399999999999 4              3.85999999999999 -               \n",
       "kolumny   12.24            4              3.06             -               \n",
       "blad      37.5200000000001 12             3.12666666666667 -               \n",
       "calkowita 206.64           24             -                -               "
      ]
     },
     "metadata": {},
     "output_type": "display_data"
    },
    {
     "ename": "ERROR",
     "evalue": "Error in qf(0.95, p - 1, (p - 2) * (p - 1)): nie znaleziono obiektu 'p'\n",
     "output_type": "error",
     "traceback": [
      "Error in qf(0.95, p - 1, (p - 2) * (p - 1)): nie znaleziono obiektu 'p'\nTraceback:\n",
      "1. qf(0.95, p - 1, (p - 2) * (p - 1))"
     ]
    }
   ],
   "source": [
    "analiza_wariancji <- function(x, estymacja=FALSE, a.brak=0, b.brak=0){\n",
    "  N = length(x)\n",
    "  p = nrow(x) #p=5\n",
    "\n",
    "  lista_danych <- data.frame(dzien, partia, skladnik, matrix(x))\n",
    "  yi. <- rowSums(x, na.rm=TRUE)\n",
    "  y.j <- aggregate(. ~ skladnik, data=lista_danych, sum)[4] # y.j.\n",
    "  y..k <- colSums(x, na.rm=TRUE) \n",
    "  y.. <- sum(x, na.rm=TRUE)\n",
    "  \n",
    "  if (estymacja==TRUE){\n",
    "    nr_elementu <- matrix(c(skladnik), nrow=nrow(x), ncol=ncol(x))[a.brak, b.brak]\n",
    "    nr_elementu <- match(nr_elementu, LETTERS[1:26]) #u nas=5\n",
    "    x_est <- (p*(yi.[a.brak]+ y.j[nr_elementu,] + y..k[b.brak])  - (2*y..)) / ((p-2)*(p-1))\n",
    "    H <- (y.. - yi.[a.brak] - y..k[b.brak] - (p-1)*y.j[nr_elementu,])**2 / (((p-2)**2)*(p-1)**2)\n",
    "    x[a.brak, b.brak] = x_est #Dodana wyestymowana brakująca\n",
    "    lista_danych <- data.frame(dzien, partia, skladnik, matrix(x))\n",
    "    yi. <- rowSums(x, na.rm=TRUE)\n",
    "    y.j <- aggregate(. ~ skladnik, data=lista_danych, sum)[4] # y.j.\n",
    "    y..k <- colSums(x, na.rm=TRUE) \n",
    "    y.. <- sum(x, na.rm=TRUE) \n",
    "    SSA = sum(y.j**2)/p -(y..**2/N) - H }\n",
    "    \n",
    "  else{ SSA = sum(y.j**2)/p -(y..**2/N) }\n",
    "  SST = sum(matrix(x)**2)-(y..**2/N)\n",
    "  SSC = sum(y..k**2)/p - (y..**2/N)\n",
    "  SSR  = sum(yi.**2)/p - (y..**2/N)\n",
    "  SSE = SST - SSA - SSC - SSR\n",
    "  print(SSE)\n",
    "  \n",
    "  #Stopnie swobody:\n",
    "  dfA = dfR = dfC = p-1\n",
    "  \n",
    "  if (estymacja==TRUE){ \n",
    "          dfE = (p-2)*(p-1)-1\n",
    "          dfT = p**2 - 1 -1 }\n",
    "  else{   dfE = (p-2)*(p-1)\n",
    "          dfT = p**2 - 1  }\n",
    "\n",
    "  #Średnie kwadraty:\n",
    "  MSA <- SSA/dfA\n",
    "  MSR <- SSR/dfR\n",
    "  MSC <- SSC/dfC\n",
    "  MSE <- SSE/dfE\n",
    "  #F statistics:\n",
    "  \n",
    "  F_case = MSA/MSE\n",
    "  tabela <- rbind(c(SSA, dfA, MSA, F_case),\n",
    "                  c(SSR, dfR, MSR, \"-\"),\n",
    "                  c(SSC, dfC, MSC, \"-\"),\n",
    "                  c(SSE, dfE, MSE, \"-\"),\n",
    "                  c(SST, dfT, \"-\", \"-\"))\n",
    "  colnames(tabela) <- c(\"SumaKwadratow\", \"StopnieSwobody\", \"SredniKwadrat\", \"F\")\n",
    "  rownames(tabela) <- c(\"obiekty\", \"wiersze\", \"kolumny\", \"blad\", \"calkowita\")\n",
    "return (tabela) }\n",
    "\n",
    "analiza_wariancji(x)\n",
    "\n",
    "f0.95 <- qf(0.95, p-1, (p-2)*(p-1))\n",
    "f0.95 # 3.259 #Nasze 11.309 > 3,259 więc nalezy odrzucic hipotezę zerową"
   ]
  },
  {
   "cell_type": "code",
   "execution_count": 4,
   "metadata": {},
   "outputs": [
    {
     "name": "stdout",
     "output_type": "stream",
     "text": [
      "      P3 \n",
      "42.34444 \n"
     ]
    },
    {
     "data": {
      "text/html": [
       "<table>\n",
       "<thead><tr><th></th><th scope=col>SumaKwadratow</th><th scope=col>StopnieSwobody</th><th scope=col>SredniKwadrat</th><th scope=col>F</th></tr></thead>\n",
       "<tbody>\n",
       "\t<tr><th scope=row>obiekty</th><td>120.633333333333</td><td>4               </td><td>30.1583333333333</td><td>7.83436106008913</td></tr>\n",
       "\t<tr><th scope=row>wiersze</th><td>16.0944444444443</td><td>4               </td><td>4.02361111111108</td><td>-               </td></tr>\n",
       "\t<tr><th scope=row>kolumny</th><td>8.76111111111095</td><td>4               </td><td>2.19027777777774</td><td>-               </td></tr>\n",
       "\t<tr><th scope=row>blad</th><td>42.3444444444448</td><td>11              </td><td>3.84949494949498</td><td>-               </td></tr>\n",
       "\t<tr><th scope=row>calkowita</th><td>187.833333333333</td><td>23              </td><td>-               </td><td>-               </td></tr>\n",
       "</tbody>\n",
       "</table>\n"
      ],
      "text/latex": [
       "\\begin{tabular}{r|llll}\n",
       "  & SumaKwadratow & StopnieSwobody & SredniKwadrat & F\\\\\n",
       "\\hline\n",
       "\tobiekty & 120.633333333333 & 4                & 30.1583333333333 & 7.83436106008913\\\\\n",
       "\twiersze & 16.0944444444443 & 4                & 4.02361111111108 & -               \\\\\n",
       "\tkolumny & 8.76111111111095 & 4                & 2.19027777777774 & -               \\\\\n",
       "\tblad & 42.3444444444448 & 11               & 3.84949494949498 & -               \\\\\n",
       "\tcalkowita & 187.833333333333 & 23               & -                & -               \\\\\n",
       "\\end{tabular}\n"
      ],
      "text/markdown": [
       "\n",
       "| <!--/--> | SumaKwadratow | StopnieSwobody | SredniKwadrat | F |\n",
       "|---|---|---|---|---|\n",
       "| obiekty | 120.633333333333 | 4                | 30.1583333333333 | 7.83436106008913 |\n",
       "| wiersze | 16.0944444444443 | 4                | 4.02361111111108 | -                |\n",
       "| kolumny | 8.76111111111095 | 4                | 2.19027777777774 | -                |\n",
       "| blad | 42.3444444444448 | 11               | 3.84949494949498 | -                |\n",
       "| calkowita | 187.833333333333 | 23               | -                | -                |\n",
       "\n"
      ],
      "text/plain": [
       "          SumaKwadratow    StopnieSwobody SredniKwadrat    F               \n",
       "obiekty   120.633333333333 4              30.1583333333333 7.83436106008913\n",
       "wiersze   16.0944444444443 4              4.02361111111108 -               \n",
       "kolumny   8.76111111111095 4              2.19027777777774 -               \n",
       "blad      42.3444444444448 11             3.84949494949498 -               \n",
       "calkowita 187.833333333333 23             -                -               "
      ]
     },
     "metadata": {},
     "output_type": "display_data"
    }
   ],
   "source": [
    "#b)\n",
    "x2 <- x\n",
    "x2[3,4] <- NA\n",
    "analiza_wariancji(x2, a.brak=3, b.brak=4, estymacja=TRUE)\n",
    "#F=13.45"
   ]
  },
  {
   "cell_type": "code",
   "execution_count": 5,
   "metadata": {},
   "outputs": [
    {
     "name": "stdout",
     "output_type": "stream",
     "text": [
      "Model: y= 5.88 +"
     ]
    },
    {
     "data": {
      "text/html": [
       "<dl class=dl-horizontal>\n",
       "\t<dt>P1</dt>\n",
       "\t\t<dd>-0.68</dd>\n",
       "\t<dt>P2</dt>\n",
       "\t\t<dd>0.32</dd>\n",
       "\t<dt>P3</dt>\n",
       "\t\t<dd>-0.0800000000000001</dd>\n",
       "\t<dt>P4</dt>\n",
       "\t\t<dd>1.32</dd>\n",
       "\t<dt>P5</dt>\n",
       "\t\t<dd>-0.88</dd>\n",
       "</dl>\n"
      ],
      "text/latex": [
       "\\begin{description*}\n",
       "\\item[P1] -0.68\n",
       "\\item[P2] 0.32\n",
       "\\item[P3] -0.0800000000000001\n",
       "\\item[P4] 1.32\n",
       "\\item[P5] -0.88\n",
       "\\end{description*}\n"
      ],
      "text/markdown": [
       "P1\n",
       ":   -0.68P2\n",
       ":   0.32P3\n",
       ":   -0.0800000000000001P4\n",
       ":   1.32P5\n",
       ":   -0.88\n",
       "\n"
      ],
      "text/plain": [
       "   P1    P2    P3    P4    P5 \n",
       "-0.68  0.32 -0.08  1.32 -0.88 "
      ]
     },
     "metadata": {},
     "output_type": "display_data"
    },
    {
     "data": {
      "text/html": [
       "<table>\n",
       "<thead><tr><th scope=col>matrix.x.</th></tr></thead>\n",
       "<tbody>\n",
       "\t<tr><td>8.4</td></tr>\n",
       "\t<tr><td>5.6</td></tr>\n",
       "\t<tr><td>8.8</td></tr>\n",
       "\t<tr><td>3.4</td></tr>\n",
       "\t<tr><td>3.2</td></tr>\n",
       "</tbody>\n",
       "</table>\n"
      ],
      "text/latex": [
       "\\begin{tabular}{r|l}\n",
       " matrix.x.\\\\\n",
       "\\hline\n",
       "\t 8.4\\\\\n",
       "\t 5.6\\\\\n",
       "\t 8.8\\\\\n",
       "\t 3.4\\\\\n",
       "\t 3.2\\\\\n",
       "\\end{tabular}\n"
      ],
      "text/markdown": [
       "\n",
       "| matrix.x. |\n",
       "|---|\n",
       "| 8.4 |\n",
       "| 5.6 |\n",
       "| 8.8 |\n",
       "| 3.4 |\n",
       "| 3.2 |\n",
       "\n"
      ],
      "text/plain": [
       "  matrix.x.\n",
       "1 8.4      \n",
       "2 5.6      \n",
       "3 8.8      \n",
       "4 3.4      \n",
       "5 3.2      "
      ]
     },
     "metadata": {},
     "output_type": "display_data"
    },
    {
     "data": {
      "text/html": [
       "<dl class=dl-horizontal>\n",
       "\t<dt>D1</dt>\n",
       "\t\t<dd>0.72</dd>\n",
       "\t<dt>D2</dt>\n",
       "\t\t<dd>-0.28</dd>\n",
       "\t<dt>D3</dt>\n",
       "\t\t<dd>-0.48</dd>\n",
       "\t<dt>D4</dt>\n",
       "\t\t<dd>-0.88</dd>\n",
       "\t<dt>D5</dt>\n",
       "\t\t<dd>0.92</dd>\n",
       "</dl>\n"
      ],
      "text/latex": [
       "\\begin{description*}\n",
       "\\item[D1] 0.72\n",
       "\\item[D2] -0.28\n",
       "\\item[D3] -0.48\n",
       "\\item[D4] -0.88\n",
       "\\item[D5] 0.92\n",
       "\\end{description*}\n"
      ],
      "text/markdown": [
       "D1\n",
       ":   0.72D2\n",
       ":   -0.28D3\n",
       ":   -0.48D4\n",
       ":   -0.88D5\n",
       ":   0.92\n",
       "\n"
      ],
      "text/plain": [
       "   D1    D2    D3    D4    D5 \n",
       " 0.72 -0.28 -0.48 -0.88  0.92 "
      ]
     },
     "metadata": {},
     "output_type": "display_data"
    }
   ],
   "source": [
    "#c) Komponenty modelu\n",
    "mu = mean(x)\n",
    "alfa = rowMeans(x) - mu #efekt i wiersza\n",
    "tj = aggregate(. ~ skladnik, data=lista_danych, mean)[4] #efekt jtego obiektu\n",
    "beta = colMeans(x) - mu #efekt ktej kolumny\n",
    "cat(paste(\"Model: y=\", mu, \"+\"))\n",
    "alfa\n",
    "tj\n",
    "beta"
   ]
  },
  {
   "cell_type": "code",
   "execution_count": 6,
   "metadata": {},
   "outputs": [
    {
     "name": "stdout",
     "output_type": "stream",
     "text": [
      "[1] 2.800000 3.832224 1.411407\n",
      "[1] -0.4000000  0.6322244 -1.7885927\n",
      "[1] 5.000000 6.032224 3.611407\n",
      "[1] 5.200000 6.232224 3.811407\n",
      "[1] -3.200000 -2.167776 -4.588593\n",
      "[1] 2.2000000 3.2322244 0.8114073\n",
      "[1] 2.400000 3.432224 1.011407\n",
      "[1] 5.400000 6.432224 4.011407\n",
      "[1] 5.600000 6.632224 4.211407\n",
      "[1]  0.200000  1.232224 -1.188593\n"
     ]
    }
   ],
   "source": [
    "#d) quantile(alfa, p_v/2,1-(p_v/2))\n",
    "# quantile(tj, p_v/2,1-(p_v/2))\n",
    "# quantile(beta, p_v/2,1-(p_v/2))\n",
    "dane = cbind(as.list(skladnik), as.list(x))\n",
    "dane = data.frame(dane)\n",
    "colnames(dane) = c(\"Lac\", \"Nr\")\n",
    "SSE =  37.52\n",
    "y.x. = c(mean(unlist(subset(dane, skladnik==\"A\")$Nr)), mean(unlist(subset(dane, skladnik==\"B\")$Nr)), mean(unlist(subset(dane, skladnik==\"C\")$Nr)), mean(unlist(subset(dane, skladnik==\"D\")$Nr)), mean(unlist(subset(dane, Lac==\"E\")$Nr)))\n",
    "\n",
    "alfa = 0.05\n",
    "p=5\n",
    "MSE <- SSE/((p-2)*(p-1))\n",
    "N = p^2\n",
    "a = nrow(x)\n",
    "for(i in 1:(length(y.x.)-1)){\n",
    "  for(j in (i+1):length(y.x.)){\n",
    "    print(c(y.x.[i]-y.x.[j],      y.x.[i]-y.x.[j]-qt(alfa/2,(N-1))*sqrt(2*MSE/N),    y.x.[i]-y.x.[j]+qt(alfa/2,(p-1))*sqrt(2*MSE/N)))  } }"
   ]
  },
  {
   "cell_type": "code",
   "execution_count": 13,
   "metadata": {},
   "outputs": [
    {
     "name": "stdout",
     "output_type": "stream",
     "text": [
      "[1] 10.5\n"
     ]
    },
    {
     "data": {
      "text/html": [
       "<table>\n",
       "<thead><tr><th></th><th scope=col>SumaKwadratow</th><th scope=col>StopnieSwobody</th><th scope=col>SredniKwadrat</th><th scope=col>F</th></tr></thead>\n",
       "<tbody>\n",
       "\t<tr><th scope=row>obiekty</th><td>72.5            </td><td>3               </td><td>24.1666666666667</td><td>13.8095238095238</td></tr>\n",
       "\t<tr><th scope=row>wiersze</th><td>18.5            </td><td>3               </td><td>6.16666666666667</td><td>-               </td></tr>\n",
       "\t<tr><th scope=row>kolumny</th><td>51.5            </td><td>3               </td><td>17.1666666666667</td><td>-               </td></tr>\n",
       "\t<tr><th scope=row>blad</th><td>10.5            </td><td>6               </td><td>1.75            </td><td>-               </td></tr>\n",
       "\t<tr><th scope=row>calkowita</th><td>153             </td><td>15              </td><td>-               </td><td>-               </td></tr>\n",
       "</tbody>\n",
       "</table>\n"
      ],
      "text/latex": [
       "\\begin{tabular}{r|llll}\n",
       "  & SumaKwadratow & StopnieSwobody & SredniKwadrat & F\\\\\n",
       "\\hline\n",
       "\tobiekty & 72.5             & 3                & 24.1666666666667 & 13.8095238095238\\\\\n",
       "\twiersze & 18.5             & 3                & 6.16666666666667 & -               \\\\\n",
       "\tkolumny & 51.5             & 3                & 17.1666666666667 & -               \\\\\n",
       "\tblad & 10.5             & 6                & 1.75             & -               \\\\\n",
       "\tcalkowita & 153              & 15               & -                & -               \\\\\n",
       "\\end{tabular}\n"
      ],
      "text/markdown": [
       "\n",
       "| <!--/--> | SumaKwadratow | StopnieSwobody | SredniKwadrat | F |\n",
       "|---|---|---|---|---|\n",
       "| obiekty | 72.5             | 3                | 24.1666666666667 | 13.8095238095238 |\n",
       "| wiersze | 18.5             | 3                | 6.16666666666667 | -                |\n",
       "| kolumny | 51.5             | 3                | 17.1666666666667 | -                |\n",
       "| blad | 10.5             | 6                | 1.75             | -                |\n",
       "| calkowita | 153              | 15               | -                | -                |\n",
       "\n"
      ],
      "text/plain": [
       "          SumaKwadratow StopnieSwobody SredniKwadrat    F               \n",
       "obiekty   72.5          3              24.1666666666667 13.8095238095238\n",
       "wiersze   18.5          3              6.16666666666667 -               \n",
       "kolumny   51.5          3              17.1666666666667 -               \n",
       "blad      10.5          6              1.75             -               \n",
       "calkowita 153           15             -                -               "
      ]
     },
     "metadata": {},
     "output_type": "display_data"
    }
   ],
   "source": [
    "#3)\n",
    "montaz <- rep(c(\"M1\", \"M2\", \"M3\", \"M4\"), 4)\n",
    "operator <- c(rep(\"O1\",4), rep(\"O2\",4), rep(\"O3\",4), rep(\"O4\",4))\n",
    "metoda <- c(\"C\", \"D\", \"A\", \"B\",\n",
    "              \"B\", \"C\", \"D\", \"A\",\n",
    "              \"A\", \"B\", \"C\", \"D\",\n",
    "              \"D\", \"A\", \"B\", \"C\")\n",
    "czas <-       c(10, 14, 7, 8,\n",
    "                7, 18, 11, 8,\n",
    "                5, 10, 11, 9,\n",
    "                10, 10, 12, 14)\n",
    "\n",
    "\n",
    "x = matrix(c(czas), nrow=4, ncol=4, byrow = TRUE)\n",
    "\n",
    "analiza_wariancji <- function(x, estymacja=FALSE, a.brak=0, b.brak=0){\n",
    "  N = length(x)\n",
    "  p = nrow(x) #p=4\n",
    "  \n",
    "  lista_danych <- data.frame(montaz, operator, metoda, matrix(x))\n",
    "  yi. <- rowSums(x, na.rm=TRUE)\n",
    "  y.j <- aggregate(. ~ metoda, data=lista_danych, sum)[4] # y.j.\n",
    "  y..k <- colSums(x, na.rm=TRUE) \n",
    "  y.. <- sum(x, na.rm=TRUE)\n",
    "  \n",
    "  if (estymacja==TRUE){\n",
    "    nr_elementu <- matrix(c(metoda), nrow=nrow(x), ncol=ncol(x))[a.brak, b.brak]\n",
    "    nr_elementu <- match(nr_elementu, LETTERS[1:26]) #u nas=5\n",
    "    x_est <- (p*(yi.[a.brak]+ y.j[nr_elementu,] + y..k[b.brak])  - (2*y..)) / ((p-2)*(p-1))\n",
    "    H <- (y.. - yi.[a.brak] - y..k[b.brak] - (p-1)*y.j[nr_elementu,])**2 / (((p-2)**2)*(p-1)**2)\n",
    "    x[a.brak, b.brak] = x_est #Dodana wyestymowana brakująca\n",
    "    lista_danych <- data.frame(dzien, partia, skladnik, matrix(x))\n",
    "    yi. <- rowSums(x, na.rm=TRUE)\n",
    "    y.j <- aggregate(. ~ skladnik, data=lista_danych, sum)[4] # y.j.\n",
    "    y..k <- colSums(x, na.rm=TRUE) \n",
    "    y.. <- sum(x, na.rm=TRUE) }\n",
    "  \n",
    "  #Sumy kwadratów\n",
    "  if (estymacja==TRUE){\n",
    "        SST = sum(matrix(x)**2)-(y..**2/N)  - H }\n",
    "  else{ SST = sum(matrix(x)**2)-(y..**2/N)}\n",
    "  SSA = sum(y.j**2)/p -(y..**2/N)\n",
    "  SSC = sum(y..k**2)/p - (y..**2/N)\n",
    "  SSR  = sum(yi.**2)/p - (y..**2/N)\n",
    "  \n",
    "  SSE = SST - SSA - SSC - SSR\n",
    "  print(SSE)\n",
    "  \n",
    "  #Stopnie swobody:\n",
    "  dfA = dfR = dfC = p-1\n",
    "  \n",
    "  if (estymacja==TRUE){ \n",
    "          dfE = (p-2)*(p-1)-1\n",
    "          dfT = p**2 - 1 -1 }\n",
    "  else{   dfE = (p-2)*(p-1)\n",
    "          dfT = p**2 - 1  }\n",
    "  \n",
    "  \n",
    "  #Średnie kwadraty:\n",
    "  MSA <- SSA/dfA\n",
    "  MSR <- SSR/dfR\n",
    "  MSC <- SSC/dfC\n",
    "  MSE <- SSE/dfE\n",
    "  #F statistics:\n",
    "  \n",
    "  F_case = MSA/MSE\n",
    "  tabela <- rbind(c(SSA, dfA, MSA, F_case),\n",
    "                  c(SSR, dfR, MSR, \"-\"),\n",
    "                  c(SSC, dfC, MSC, \"-\"),\n",
    "                  c(SSE, dfE, MSE, \"-\"),\n",
    "                  c(SST, dfT, \"-\", \"-\"))\n",
    "  colnames(tabela) <- c(\"SumaKwadratow\", \"StopnieSwobody\", \"SredniKwadrat\", \"F\")\n",
    "  rownames(tabela) <- c(\"obiekty\", \"wiersze\", \"kolumny\", \"blad\", \"calkowita\")\n",
    "  return (tabela) }\n",
    "\n",
    "\n",
    "analiza_wariancji(x)\n",
    "p = 4\n",
    "f0 <- qf(0.95, p-1, (p-2)*(p-1))\n",
    "#Nasze F 13,809 > 4,75. Przyjmujemy hipotezę alternatywną."
   ]
  },
  {
   "cell_type": "code",
   "execution_count": 20,
   "metadata": {},
   "outputs": [
    {
     "name": "stdout",
     "output_type": "stream",
     "text": [
      "[1] 28\n"
     ]
    },
    {
     "data": {
      "text/html": [
       "<table>\n",
       "<thead><tr><th></th><th scope=col>SumaKwadratow</th><th scope=col>StopnieSwobody</th><th scope=col>SredniKwadrat</th><th scope=col>F</th></tr></thead>\n",
       "<tbody>\n",
       "\t<tr><th scope=row>Łac</th><td> 95.5     </td><td> 3        </td><td>31.8333333</td><td>3.410714  </td></tr>\n",
       "\t<tr><th scope=row>Grec</th><td>  7.5     </td><td> 3        </td><td> 2.5000000</td><td>      NA  </td></tr>\n",
       "\t<tr><th scope=row>wiersze</th><td>  0.5     </td><td> 3        </td><td> 0.1666667</td><td>      NA  </td></tr>\n",
       "\t<tr><th scope=row>kolumny</th><td> 19.0     </td><td> 3        </td><td> 6.3333333</td><td>      NA  </td></tr>\n",
       "\t<tr><th scope=row>blad</th><td> 28.0     </td><td> 3        </td><td> 9.3333333</td><td>      NA  </td></tr>\n",
       "\t<tr><th scope=row>calkowita</th><td>150.0     </td><td>15        </td><td>        NA</td><td>      NA  </td></tr>\n",
       "</tbody>\n",
       "</table>\n"
      ],
      "text/latex": [
       "\\begin{tabular}{r|llll}\n",
       "  & SumaKwadratow & StopnieSwobody & SredniKwadrat & F\\\\\n",
       "\\hline\n",
       "\tŁac &  95.5      &  3         & 31.8333333 & 3.410714  \\\\\n",
       "\tGrec &   7.5      &  3         &  2.5000000 &       NA  \\\\\n",
       "\twiersze &   0.5      &  3         &  0.1666667 &       NA  \\\\\n",
       "\tkolumny &  19.0      &  3         &  6.3333333 &       NA  \\\\\n",
       "\tblad &  28.0      &  3         &  9.3333333 &       NA  \\\\\n",
       "\tcalkowita & 150.0      & 15         &         NA &       NA  \\\\\n",
       "\\end{tabular}\n"
      ],
      "text/markdown": [
       "\n",
       "| <!--/--> | SumaKwadratow | StopnieSwobody | SredniKwadrat | F |\n",
       "|---|---|---|---|---|\n",
       "| Łac |  95.5      |  3         | 31.8333333 | 3.410714   |\n",
       "| Grec |   7.5      |  3         |  2.5000000 |       NA   |\n",
       "| wiersze |   0.5      |  3         |  0.1666667 |       NA   |\n",
       "| kolumny |  19.0      |  3         |  6.3333333 |       NA   |\n",
       "| blad |  28.0      |  3         |  9.3333333 |       NA   |\n",
       "| calkowita | 150.0      | 15         |         NA |       NA   |\n",
       "\n"
      ],
      "text/plain": [
       "          SumaKwadratow StopnieSwobody SredniKwadrat F       \n",
       "Łac        95.5          3             31.8333333    3.410714\n",
       "Grec        7.5          3              2.5000000          NA\n",
       "wiersze     0.5          3              0.1666667          NA\n",
       "kolumny    19.0          3              6.3333333          NA\n",
       "blad       28.0          3              9.3333333          NA\n",
       "calkowita 150.0         15                     NA          NA"
      ]
     },
     "metadata": {},
     "output_type": "display_data"
    }
   ],
   "source": [
    "#Zad4) łACIŃSKI\n",
    "montaz <- rep(c(\"M1\", \"M2\", \"M3\", \"M4\"), 4)\n",
    "operator <- c(rep(\"O1\",4), rep(\"O2\",4), rep(\"O3\",4), rep(\"O4\",4))\n",
    "metoda <- c(\"C\", \"B\", \"D\", \"A\",\n",
    "            \"B\", \"C\", \"A\", \"D\",\n",
    "            \"A\", \"D\", \"B\", \"C\",\n",
    "            \"D\", \"A\", \"C\", \"B\")\n",
    "stanowisko <-  c(\"b\",\"a\",\"d\",\"g\",  \n",
    "                 \"g\",\"d\",\"a\",\"b\",   \n",
    "                 \"d\",\"g\",\"b\",\"a\",  \n",
    "                 \"a\",\"b\",\"g\",\"d\")\n",
    "czas <-       c(11, 10, 14, 8,\n",
    "                8, 12, 10, 12,\n",
    "                9, 11, 7, 15,\n",
    "                9, 8, 18, 6)\n",
    "\n",
    "x = matrix(c(czas), nrow=4, ncol=4, byrow = TRUE)\n",
    "\n",
    "analiza_wariancji <- function(x, estymacja=FALSE, a.brak=0, b.brak=0){\n",
    "  N = length(x)\n",
    "  p = nrow(x) #p=4\n",
    "  \n",
    "  lista_danych <- data.frame(montaz, operator, metoda, stanowisko, matrix(x))\n",
    "  yi.  <- rowSums(x, na.rm=TRUE)\n",
    "  y.j <- aggregate(. ~ metoda, data=lista_danych, sum)[5] # y.j.\n",
    "  y.l =  aggregate(. ~ stanowisko, data=lista_danych, sum)[5] \n",
    "  y..k <- colSums(x, na.rm=TRUE) \n",
    "  y.. <- sum(x, na.rm=TRUE)\n",
    "  \n",
    "  #Sumy kwadratów\n",
    "  SST = sum(matrix(x)**2)-(y.. **2/N) \n",
    "  SSC = sum(y..k**2)/p - (y.. **2/N)\n",
    "  SSL = sum(y.j**2)/p -(y.. **2/N)\n",
    "  SSG <- sum(y.l^2)/p - y..**2/N \n",
    "  SSR  = sum(yi.**2)/p - (y.. **2/N)\n",
    "  SSE = SST - SSL - SSG - SSC\n",
    "  print(SSE)\n",
    "  \n",
    "  #Stopnie swobody:\n",
    "  dfL = dfR = dfC = dfG = p-1\n",
    "  \n",
    "  dfE = (p-3)*(p-1)\n",
    "  dfT = p**2-1\n",
    "  \n",
    "  #Średnie kwadraty:\n",
    "  MSA <- SSL/dfL\n",
    "  MSG <- SSG/dfG\n",
    "  MSR <- SSR/dfR\n",
    "  MSC <- SSC/dfC\n",
    "  MSE <- SSE/dfE\n",
    "  #F statistics:\n",
    "  F_case = MSA/MSE\n",
    "  tabela <- rbind(c(SSL, dfL, MSA, F_case),\n",
    "                  c(SSG, dfG, MSG, NA),\n",
    "                  c(SSR, dfR, MSR, NA),\n",
    "                  c(SSC, dfC, MSC, NA),\n",
    "                  c(SSE, dfE, MSE, NA),\n",
    "                  c(SST, dfT, NA, NA))\n",
    "  colnames(tabela) <- c(\"SumaKwadratow\", \"StopnieSwobody\", \"SredniKwadrat\", \"F\")\n",
    "  rownames(tabela) <- c(\"Łac\", \"Grec\", \"wiersze\", \"kolumny\", \"blad\", \"calkowita\")\n",
    "  return (tabela) }\n",
    "\n",
    "analiza_wariancji(x)  #0,.2678571\n",
    "f0 <- qf(0.95, p-1, (p-2)*(p-1)) #4.757063\n",
    "#Stanowisko nie stanowi źródła zmienności, przyjmujemy hipotezę zerową."
   ]
  }
 ],
 "metadata": {
  "kernelspec": {
   "display_name": "R",
   "language": "R",
   "name": "ir"
  },
  "language_info": {
   "codemirror_mode": "r",
   "file_extension": ".r",
   "mimetype": "text/x-r-source",
   "name": "R",
   "pygments_lexer": "r",
   "version": "3.6.1"
  },
  "toc": {
   "base_numbering": 1,
   "nav_menu": {},
   "number_sections": true,
   "sideBar": true,
   "skip_h1_title": false,
   "title_cell": "Table of Contents",
   "title_sidebar": "Contents",
   "toc_cell": false,
   "toc_position": {},
   "toc_section_display": true,
   "toc_window_display": false
  },
  "varInspector": {
   "cols": {
    "lenName": 16,
    "lenType": 16,
    "lenVar": 40
   },
   "kernels_config": {
    "python": {
     "delete_cmd_postfix": "",
     "delete_cmd_prefix": "del ",
     "library": "var_list.py",
     "varRefreshCmd": "print(var_dic_list())"
    },
    "r": {
     "delete_cmd_postfix": ") ",
     "delete_cmd_prefix": "rm(",
     "library": "var_list.r",
     "varRefreshCmd": "cat(var_dic_list()) "
    }
   },
   "types_to_exclude": [
    "module",
    "function",
    "builtin_function_or_method",
    "instance",
    "_Feature"
   ],
   "window_display": false
  }
 },
 "nbformat": 4,
 "nbformat_minor": 2
}
