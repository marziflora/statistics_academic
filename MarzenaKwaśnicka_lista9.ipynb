{
 "cells": [
  {
   "cell_type": "code",
   "execution_count": 2,
   "metadata": {},
   "outputs": [
    {
     "name": "stderr",
     "output_type": "stream",
     "text": [
      "Loading required package: SingleCellExperiment\n",
      "Loading required package: SummarizedExperiment\n",
      "Warning message:\n",
      "\"package 'SummarizedExperiment' was built under R version 3.6.2\"Loading required package: GenomicRanges\n",
      "Loading required package: stats4\n",
      "Loading required package: BiocGenerics\n",
      "Loading required package: parallel\n",
      "\n",
      "Attaching package: 'BiocGenerics'\n",
      "\n",
      "The following objects are masked from 'package:parallel':\n",
      "\n",
      "    clusterApply, clusterApplyLB, clusterCall, clusterEvalQ,\n",
      "    clusterExport, clusterMap, parApply, parCapply, parLapply,\n",
      "    parLapplyLB, parRapply, parSapply, parSapplyLB\n",
      "\n",
      "The following objects are masked from 'package:stats':\n",
      "\n",
      "    IQR, mad, sd, var, xtabs\n",
      "\n",
      "The following objects are masked from 'package:base':\n",
      "\n",
      "    anyDuplicated, append, as.data.frame, basename, cbind, colnames,\n",
      "    dirname, do.call, duplicated, eval, evalq, Filter, Find, get, grep,\n",
      "    grepl, intersect, is.unsorted, lapply, Map, mapply, match, mget,\n",
      "    order, paste, pmax, pmax.int, pmin, pmin.int, Position, rank,\n",
      "    rbind, Reduce, rownames, sapply, setdiff, sort, table, tapply,\n",
      "    union, unique, unsplit, which, which.max, which.min\n",
      "\n",
      "Loading required package: S4Vectors\n",
      "Warning message:\n",
      "\"package 'S4Vectors' was built under R version 3.6.3\"\n",
      "Attaching package: 'S4Vectors'\n",
      "\n",
      "The following object is masked from 'package:base':\n",
      "\n",
      "    expand.grid\n",
      "\n",
      "Loading required package: IRanges\n",
      "Warning message:\n",
      "\"package 'IRanges' was built under R version 3.6.2\"\n",
      "Attaching package: 'IRanges'\n",
      "\n",
      "The following object is masked from 'package:grDevices':\n",
      "\n",
      "    windows\n",
      "\n",
      "Loading required package: GenomeInfoDb\n",
      "Warning message:\n",
      "\"package 'GenomeInfoDb' was built under R version 3.6.3\"Loading required package: Biobase\n",
      "Welcome to Bioconductor\n",
      "\n",
      "    Vignettes contain introductory material; view with\n",
      "    'browseVignettes()'. To cite Bioconductor, see\n",
      "    'citation(\"Biobase\")', and for packages 'citation(\"pkgname\")'.\n",
      "\n",
      "Loading required package: DelayedArray\n",
      "Warning message:\n",
      "\"package 'DelayedArray' was built under R version 3.6.3\"Loading required package: matrixStats\n",
      "Warning message:\n",
      "\"package 'matrixStats' was built under R version 3.6.3\"\n",
      "Attaching package: 'matrixStats'\n",
      "\n",
      "The following objects are masked from 'package:Biobase':\n",
      "\n",
      "    anyMissing, rowMedians\n",
      "\n",
      "Loading required package: BiocParallel\n",
      "Warning message:\n",
      "\"package 'BiocParallel' was built under R version 3.6.2\"\n",
      "Attaching package: 'DelayedArray'\n",
      "\n",
      "The following objects are masked from 'package:matrixStats':\n",
      "\n",
      "    colMaxs, colMins, colRanges, rowMaxs, rowMins, rowRanges\n",
      "\n",
      "The following objects are masked from 'package:base':\n",
      "\n",
      "    aperm, apply, rowsum\n",
      "\n",
      "Loading required package: ggplot2\n",
      "Registered S3 methods overwritten by 'ggplot2':\n",
      "  method         from \n",
      "  [.quosures     rlang\n",
      "  c.quosures     rlang\n",
      "  print.quosures rlang\n"
     ]
    }
   ],
   "source": [
    "library(\"scRNAseq\")\n",
    "library(scater)\n",
    "\n",
    "data <- readRDS('data_NGS.rds')"
   ]
  },
  {
   "cell_type": "code",
   "execution_count": 4,
   "metadata": {},
   "outputs": [
    {
     "name": "stdout",
     "output_type": "stream",
     "text": [
      "package 'BiocManager' successfully unpacked and MD5 sums checked\n",
      "\n",
      "The downloaded binary packages are in\n",
      "\tC:\\Users\\marze\\AppData\\Local\\Temp\\RtmpYRdxLr\\downloaded_packages\n"
     ]
    },
    {
     "name": "stderr",
     "output_type": "stream",
     "text": [
      "Bioconductor version 3.10 (BiocManager 1.30.10), R 3.6.1 (2019-07-05)\n",
      "Installing package(s) 'multtest'\n"
     ]
    },
    {
     "name": "stdout",
     "output_type": "stream",
     "text": [
      "package 'multtest' successfully unpacked and MD5 sums checked\n",
      "\n",
      "The downloaded binary packages are in\n",
      "\tC:\\Users\\marze\\AppData\\Local\\Temp\\RtmpYRdxLr\\downloaded_packages\n"
     ]
    },
    {
     "name": "stderr",
     "output_type": "stream",
     "text": [
      "Old packages: 'agricolae', 'ape', 'askpass', 'backports', 'BH', 'boot',\n",
      "  'broom', 'callr', 'caret', 'class', 'cli', 'clipr', 'cluster', 'curl',\n",
      "  'data.table', 'dbplyr', 'digest', 'dplyr', 'emmeans', 'evaluate', 'fansi',\n",
      "  'forcats', 'foreach', 'formatR', 'fs', 'ggplot2', 'glmnet', 'glue', 'gower',\n",
      "  'haven', 'hexbin', 'hms', 'htmltools', 'htmlwidgets', 'httpuv', 'httr',\n",
      "  'ipred', 'IRkernel', 'iterators', 'jsonlite', 'KernSmooth', 'knitr',\n",
      "  'labelled', 'later', 'lattice', 'lava', 'lubridate', 'markdown', 'MASS',\n",
      "  'Matrix', 'mgcv', 'mime', 'ModelMetrics', 'modelr', 'nlme', 'nnet',\n",
      "  'numDeriv', 'openssl', 'pillar', 'pkgconfig', 'plyr', 'prettyunits',\n",
      "  'processx', 'prodlim', 'progress', 'promises', 'ps', 'purrr', 'quantmod',\n",
      "  'questionr', 'R6', 'Rcpp', 'recipes', 'repr', 'reprex', 'reshape2',\n",
      "  'rmarkdown', 'rstudioapi', 'rvest', 'scales', 'scater', 'selectr', 'shiny',\n",
      "  'sp', 'spatial', 'SQUAREM', 'stringi', 'survival', 'sys', 'tibble', 'tidyr',\n",
      "  'tidyselect', 'tidyverse', 'tinytex', 'TTR', 'uuid', 'vctrs', 'whisker',\n",
      "  'withr', 'xfun', 'xml2', 'xts', 'yaml', 'zoo'\n"
     ]
    },
    {
     "name": "stdout",
     "output_type": "stream",
     "text": [
      "package 'Seurat' successfully unpacked and MD5 sums checked\n",
      "\n",
      "The downloaded binary packages are in\n",
      "\tC:\\Users\\marze\\AppData\\Local\\Temp\\RtmpYRdxLr\\downloaded_packages\n"
     ]
    }
   ],
   "source": [
    "install.packages(\"BiocManager\")\n",
    "BiocManager::install(\"multtest\")\n",
    "install.packages(\"Seurat\")"
   ]
  },
  {
   "cell_type": "code",
   "execution_count": null,
   "metadata": {},
   "outputs": [
    {
     "name": "stderr",
     "output_type": "stream",
     "text": [
      "Warning message:\n",
      "\"package 'Seurat' was built under R version 3.6.3\""
     ]
    }
   ],
   "source": [
    "library(\"Seurat\")"
   ]
  },
  {
   "cell_type": "code",
   "execution_count": 3,
   "metadata": {},
   "outputs": [
    {
     "data": {
      "text/plain": [
       "               _                           \n",
       "platform       x86_64-w64-mingw32          \n",
       "arch           x86_64                      \n",
       "os             mingw32                     \n",
       "system         x86_64, mingw32             \n",
       "status                                     \n",
       "major          3                           \n",
       "minor          6.1                         \n",
       "year           2019                        \n",
       "month          07                          \n",
       "day            05                          \n",
       "svn rev        76782                       \n",
       "language       R                           \n",
       "version.string R version 3.6.1 (2019-07-05)\n",
       "nickname       Action of the Toes          "
      ]
     },
     "metadata": {},
     "output_type": "display_data"
    }
   ],
   "source": [
    "version"
   ]
  },
  {
   "cell_type": "code",
   "execution_count": null,
   "metadata": {},
   "outputs": [],
   "source": []
  },
  {
   "cell_type": "code",
   "execution_count": 3,
   "metadata": {},
   "outputs": [
    {
     "data": {
      "text/plain": [
       "DataFrame with 6 rows and 7 columns\n",
       "        sum  detected   percent_top_50  percent_top_100  percent_top_200\n",
       "  <numeric> <integer>        <numeric>        <numeric>        <numeric>\n",
       "1    641208      6948 53.0247595164128 60.6531733852354 69.5451397986301\n",
       "2   1334892      8115 25.2438399510972 31.0849866506054 39.8599287432991\n",
       "3   1039253      9576  22.914920620869 28.8369627030184 36.9552938504868\n",
       "4   1080500      8207  28.608144377603  34.768533086534 43.8335030078667\n",
       "5    540210      7419 40.4872179337665  49.055922696729 59.6468040206586\n",
       "6   1460073      7217  35.945257531644 42.4046605888884 51.1084719736616\n",
       "   percent_top_500     total\n",
       "         <numeric> <numeric>\n",
       "1 81.3222854362391    641208\n",
       "2 56.9344935770085   1334892\n",
       "3 51.8562852356452   1039253\n",
       "4 61.4753354928274   1080500\n",
       "5 74.6567075766831    540210\n",
       "6 66.9472005851762   1460073"
      ]
     },
     "metadata": {},
     "output_type": "display_data"
    }
   ],
   "source": [
    "#Analiza jakości na poziomie komórki\n",
    "cellQC <- perCellQCMetrics(data)\n",
    "head(cellQC)"
   ]
  },
  {
   "cell_type": "code",
   "execution_count": null,
   "metadata": {},
   "outputs": [],
   "source": [
    "colData(data) <- cbind(colData(data), cellQC) #Dodanie do kolumn "
   ]
  },
  {
   "cell_type": "code",
   "execution_count": null,
   "metadata": {},
   "outputs": [],
   "source": [
    "plotColData(data, x = \"sum\", y = \"detected\", theme_size = 20, point_size = 3)"
   ]
  },
  {
   "cell_type": "code",
   "execution_count": null,
   "metadata": {},
   "outputs": [],
   "source": [
    "cellQCLogical <- quickPerCellQC(cellQC)"
   ]
  },
  {
   "cell_type": "code",
   "execution_count": null,
   "metadata": {},
   "outputs": [],
   "source": [
    "head(cellQCLogical)"
   ]
  },
  {
   "cell_type": "code",
   "execution_count": null,
   "metadata": {},
   "outputs": [],
   "source": [
    "lowQuality <- isOutlier(colData(data)$sum , nmads = 3,type = \"lower\", log = TRUE)\n",
    "badCells <- data[,lowQuality ]\n",
    "head(badCells)"
   ]
  },
  {
   "cell_type": "code",
   "execution_count": null,
   "metadata": {},
   "outputs": [],
   "source": [
    "colData(badCells)$title"
   ]
  },
  {
   "cell_type": "code",
   "execution_count": null,
   "metadata": {},
   "outputs": [],
   "source": [
    "data[colData(data)$title!=colData(badCells)$title]"
   ]
  },
  {
   "cell_type": "code",
   "execution_count": null,
   "metadata": {},
   "outputs": [],
   "source": [
    "new_data <- data[colData(data)$title!=colData(badCells)$title]\n",
    "new_data"
   ]
  },
  {
   "cell_type": "code",
   "execution_count": null,
   "metadata": {},
   "outputs": [],
   "source": [
    "#3\n",
    "featureQC <- perFeatureQCMetrics(data) #Analiza na poziomie genów"
   ]
  },
  {
   "cell_type": "code",
   "execution_count": null,
   "metadata": {},
   "outputs": [],
   "source": [
    "head(featureQC)"
   ]
  },
  {
   "cell_type": "code",
   "execution_count": null,
   "metadata": {},
   "outputs": [],
   "source": [
    "featureQC[featureQC$detected!=0,]"
   ]
  },
  {
   "cell_type": "code",
   "execution_count": null,
   "metadata": {},
   "outputs": [],
   "source": [
    "dim(featureQC[featureQC$detected==0,])"
   ]
  },
  {
   "cell_type": "code",
   "execution_count": null,
   "metadata": {},
   "outputs": [],
   "source": [
    "new_featureQC <- featureQC[featureQC$detected!=0,]"
   ]
  },
  {
   "cell_type": "code",
   "execution_count": null,
   "metadata": {},
   "outputs": [],
   "source": [
    "plotHighestExprs(data, exprs_values=\"tpm\", n = 5) + theme(text=element_text(size=18))"
   ]
  },
  {
   "cell_type": "code",
   "execution_count": null,
   "metadata": {},
   "outputs": [],
   "source": [
    "#4 \n",
    "# seuratObj <- as.Seurat(new_data, assay=\"counts\",data=colData)"
   ]
  },
  {
   "cell_type": "code",
   "execution_count": null,
   "metadata": {},
   "outputs": [],
   "source": [
    "# seuratObj <- AddMetaData(seuratObj, as.data.frame(colData(data)))\n",
    "# seuratObj <- FindVariableFeatures(seuratObj)\n",
    "# seuratObj <- NormalizeData(object=seuratObj,normalization.method=\"LogNormalize\")\n",
    "# seuratObj <- ScaleData(object=seuratObj) # vars .to. regress = c(\" batch \")\n",
    "# seuratObj <- RunPCA(object=seuratObj, npcs=30)\n",
    "# # seuratObj <- RunTSNE(object=seuratObj)\n",
    "# seuratObj <- FindNeighbors(seuratObj, reduction = \"pca\", dims = 1:30)\n",
    "# seuratObj <- FindClusters(seuratObj, resolution = 0.5, algorithm = 1) \n",
    "# seuratObj"
   ]
  },
  {
   "cell_type": "code",
   "execution_count": null,
   "metadata": {},
   "outputs": [],
   "source": []
  },
  {
   "cell_type": "code",
   "execution_count": null,
   "metadata": {},
   "outputs": [],
   "source": []
  },
  {
   "cell_type": "code",
   "execution_count": null,
   "metadata": {},
   "outputs": [],
   "source": []
  },
  {
   "cell_type": "code",
   "execution_count": null,
   "metadata": {},
   "outputs": [],
   "source": []
  }
 ],
 "metadata": {
  "kernelspec": {
   "display_name": "R",
   "language": "R",
   "name": "ir"
  },
  "language_info": {
   "codemirror_mode": "r",
   "file_extension": ".r",
   "mimetype": "text/x-r-source",
   "name": "R",
   "pygments_lexer": "r",
   "version": "3.6.1"
  },
  "toc": {
   "base_numbering": 1,
   "nav_menu": {},
   "number_sections": true,
   "sideBar": true,
   "skip_h1_title": false,
   "title_cell": "Table of Contents",
   "title_sidebar": "Contents",
   "toc_cell": false,
   "toc_position": {},
   "toc_section_display": true,
   "toc_window_display": false
  },
  "varInspector": {
   "cols": {
    "lenName": 16,
    "lenType": 16,
    "lenVar": 40
   },
   "kernels_config": {
    "python": {
     "delete_cmd_postfix": "",
     "delete_cmd_prefix": "del ",
     "library": "var_list.py",
     "varRefreshCmd": "print(var_dic_list())"
    },
    "r": {
     "delete_cmd_postfix": ") ",
     "delete_cmd_prefix": "rm(",
     "library": "var_list.r",
     "varRefreshCmd": "cat(var_dic_list()) "
    }
   },
   "types_to_exclude": [
    "module",
    "function",
    "builtin_function_or_method",
    "instance",
    "_Feature"
   ],
   "window_display": false
  }
 },
 "nbformat": 4,
 "nbformat_minor": 2
}
