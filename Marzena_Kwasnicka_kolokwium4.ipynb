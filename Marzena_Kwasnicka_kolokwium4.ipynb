{
 "cells": [
  {
   "cell_type": "code",
   "execution_count": 7,
   "metadata": {},
   "outputs": [],
   "source": [
    "#1 "
   ]
  },
  {
   "cell_type": "code",
   "execution_count": 8,
   "metadata": {},
   "outputs": [
    {
     "data": {
      "text/html": [
       "<table>\n",
       "<tbody>\n",
       "\t<tr><td>NA</td><td> 1</td><td> 1</td><td>NA</td><td>1 </td><td>NA</td><td>NA</td><td> 1</td><td> 1</td><td>NA</td></tr>\n",
       "\t<tr><td>NA</td><td> 1</td><td>NA</td><td>NA</td><td>1 </td><td>NA</td><td>NA</td><td>NA</td><td>NA</td><td>NA</td></tr>\n",
       "\t<tr><td> 1</td><td>NA</td><td>NA</td><td> 1</td><td>1 </td><td>NA</td><td>NA</td><td> 1</td><td>NA</td><td>NA</td></tr>\n",
       "</tbody>\n",
       "</table>\n"
      ],
      "text/latex": [
       "\\begin{tabular}{llllllllll}\n",
       "\t NA &  1 &  1 & NA & 1  & NA & NA &  1 &  1 & NA\\\\\n",
       "\t NA &  1 & NA & NA & 1  & NA & NA & NA & NA & NA\\\\\n",
       "\t  1 & NA & NA &  1 & 1  & NA & NA &  1 & NA & NA\\\\\n",
       "\\end{tabular}\n"
      ],
      "text/markdown": [
       "\n",
       "| NA |  1 |  1 | NA | 1  | NA | NA |  1 |  1 | NA |\n",
       "| NA |  1 | NA | NA | 1  | NA | NA | NA | NA | NA |\n",
       "|  1 | NA | NA |  1 | 1  | NA | NA |  1 | NA | NA |\n",
       "\n"
      ],
      "text/plain": [
       "     [,1] [,2] [,3] [,4] [,5] [,6] [,7] [,8] [,9] [,10]\n",
       "[1,] NA    1    1   NA   1    NA   NA    1    1   NA   \n",
       "[2,] NA    1   NA   NA   1    NA   NA   NA   NA   NA   \n",
       "[3,]  1   NA   NA    1   1    NA   NA    1   NA   NA   "
      ]
     },
     "metadata": {},
     "output_type": "display_data"
    }
   ],
   "source": [
    "x = matrix(c(NA, 1, 1, NA, 1, NA, NA, 1,1, NA,\n",
    "             NA, 1, NA, NA, 1, NA, NA,NA, NA,NA,\n",
    "             1, NA, NA, 1, 1, NA, NA, 1, NA, NA ), byrow=TRUE, ncol=10, nrow=3)\n",
    "x"
   ]
  },
  {
   "cell_type": "code",
   "execution_count": null,
   "metadata": {},
   "outputs": [],
   "source": [
    "#Testujemy różnie między wierszami. Test Cochrana - dla więcej niż 2 prób"
   ]
  },
  {
   "cell_type": "code",
   "execution_count": 22,
   "metadata": {},
   "outputs": [
    {
     "data": {
      "text/html": [
       "2.33333333333333"
      ],
      "text/latex": [
       "2.33333333333333"
      ],
      "text/markdown": [
       "2.33333333333333"
      ],
      "text/plain": [
       "[1] 2.333333"
      ]
     },
     "metadata": {},
     "output_type": "display_data"
    },
    {
     "name": "stdout",
     "output_type": "stream",
     "text": [
      "Q statystyka 2.333333 \n",
      "P value dla Q 0.3114032 \n",
      "H0 \n",
      "Obszar odrzucenia: ( 9.21034 ; +inf) \n"
     ]
    }
   ],
   "source": [
    "k <- nrow(x)\n",
    "R <- sum(colSums(x, na.rm=TRUE)**2)\n",
    "C <- sum(rowSums(x, na.rm=TRUE)**2)\n",
    "T <- sum(rowSums(x, na.rm=TRUE))\n",
    "\n",
    "Q <- (k-1)* ((k*C)-(T**2))/(k*T-R)\n",
    "Q\n",
    "cat(\"Q statystyka\", Q, \"\\n\") #1.68\n",
    "p.val=pchisq(Q,df,lower=FALSE) \n",
    "cat(\"P value dla Q\", p.val, \"\\n\")\n",
    "if (p.val>=0.05){cat(\"H0\", \"\\n\")}\n",
    "if (p.val<0.05){cat(\"H0\", \"\\n\")}\n",
    "\n",
    "df <- k-1\n",
    "alfa <- 0.01\n",
    "cat(\"Obszar odrzucenia: (\",  qchisq(1-alfa, k-1),\"; +inf)\", \"\\n\") \n",
    "#2.33 Nasze Q nie mieści się w zakresie odrzucenia. \n",
    "#Przyjmujemy hipotezę zerową, nie istnieją różnice w preferrencji zakupu wyrobów w rozważanych firmach."
   ]
  },
  {
   "cell_type": "code",
   "execution_count": 23,
   "metadata": {},
   "outputs": [
    {
     "data": {
      "text/html": [
       "2"
      ],
      "text/latex": [
       "2"
      ],
      "text/markdown": [
       "2"
      ],
      "text/plain": [
       "[1] 2"
      ]
     },
     "metadata": {},
     "output_type": "display_data"
    }
   ],
   "source": [
    "df"
   ]
  }
 ],
 "metadata": {
  "kernelspec": {
   "display_name": "R",
   "language": "R",
   "name": "ir"
  },
  "language_info": {
   "codemirror_mode": "r",
   "file_extension": ".r",
   "mimetype": "text/x-r-source",
   "name": "R",
   "pygments_lexer": "r",
   "version": "3.6.1"
  },
  "toc": {
   "base_numbering": 1,
   "nav_menu": {},
   "number_sections": true,
   "sideBar": true,
   "skip_h1_title": false,
   "title_cell": "Table of Contents",
   "title_sidebar": "Contents",
   "toc_cell": false,
   "toc_position": {},
   "toc_section_display": true,
   "toc_window_display": false
  },
  "varInspector": {
   "cols": {
    "lenName": 16,
    "lenType": 16,
    "lenVar": 40
   },
   "kernels_config": {
    "python": {
     "delete_cmd_postfix": "",
     "delete_cmd_prefix": "del ",
     "library": "var_list.py",
     "varRefreshCmd": "print(var_dic_list())"
    },
    "r": {
     "delete_cmd_postfix": ") ",
     "delete_cmd_prefix": "rm(",
     "library": "var_list.r",
     "varRefreshCmd": "cat(var_dic_list()) "
    }
   },
   "types_to_exclude": [
    "module",
    "function",
    "builtin_function_or_method",
    "instance",
    "_Feature"
   ],
   "window_display": false
  }
 },
 "nbformat": 4,
 "nbformat_minor": 2
}
